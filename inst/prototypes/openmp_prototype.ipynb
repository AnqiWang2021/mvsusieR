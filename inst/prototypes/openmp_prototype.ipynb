{
 "cells": [
  {
   "cell_type": "markdown",
   "metadata": {
    "kernel": "SoS"
   },
   "source": [
    "## OpenMP benchmark for Rcpp based codes\n",
    "\n",
    "Here I test if OpenMP helps with some of the computations."
   ]
  },
  {
   "cell_type": "code",
   "execution_count": 1,
   "metadata": {
    "kernel": "R"
   },
   "outputs": [],
   "source": [
    "attach(readRDS('em_optim_difference.rds'))"
   ]
  },
  {
   "cell_type": "markdown",
   "metadata": {
    "kernel": "R"
   },
   "source": [
    "Here, sample size `N` is around 800, number of variables `P` is around 600. 50 conditions are involved."
   ]
  },
  {
   "cell_type": "code",
   "execution_count": 2,
   "metadata": {
    "kernel": "R"
   },
   "outputs": [],
   "source": [
    "X = cbind(X,X,X)"
   ]
  },
  {
   "cell_type": "code",
   "execution_count": 3,
   "metadata": {
    "kernel": "R"
   },
   "outputs": [
    {
     "data": {
      "text/html": [
       "<style>\n",
       ".list-inline {list-style: none; margin:0; padding: 0}\n",
       ".list-inline>li {display: inline-block}\n",
       ".list-inline>li:not(:last-child)::after {content: \"\\00b7\"; padding: 0 .5ex}\n",
       "</style>\n",
       "<ol class=list-inline><li>838</li><li>639</li></ol>\n"
      ],
      "text/latex": [
       "\\begin{enumerate*}\n",
       "\\item 838\n",
       "\\item 639\n",
       "\\end{enumerate*}\n"
      ],
      "text/markdown": [
       "1. 838\n",
       "2. 639\n",
       "\n",
       "\n"
      ],
      "text/plain": [
       "[1] 838 639"
      ]
     },
     "metadata": {},
     "output_type": "display_data"
    }
   ],
   "source": [
    "dim(X)"
   ]
  },
  {
   "cell_type": "code",
   "execution_count": 4,
   "metadata": {
    "kernel": "R"
   },
   "outputs": [
    {
     "data": {
      "text/html": [
       "<style>\n",
       ".list-inline {list-style: none; margin:0; padding: 0}\n",
       ".list-inline>li {display: inline-block}\n",
       ".list-inline>li:not(:last-child)::after {content: \"\\00b7\"; padding: 0 .5ex}\n",
       "</style>\n",
       "<ol class=list-inline><li>838</li><li>50</li></ol>\n"
      ],
      "text/latex": [
       "\\begin{enumerate*}\n",
       "\\item 838\n",
       "\\item 50\n",
       "\\end{enumerate*}\n"
      ],
      "text/markdown": [
       "1. 838\n",
       "2. 50\n",
       "\n",
       "\n"
      ],
      "text/plain": [
       "[1] 838  50"
      ]
     },
     "metadata": {},
     "output_type": "display_data"
    }
   ],
   "source": [
    "dim(Y)"
   ]
  },
  {
   "cell_type": "code",
   "execution_count": 5,
   "metadata": {
    "kernel": "R"
   },
   "outputs": [
    {
     "name": "stderr",
     "output_type": "stream",
     "text": [
      "Loading mmbr\n",
      "\n",
      "Loading required package: mashr\n",
      "\n",
      "Loading required package: ashr\n",
      "\n",
      "Loading required package: susieR\n",
      "\n"
     ]
    }
   ],
   "source": [
    "devtools::load_all('~/GIT/software/mmbr')\n",
    "omp_test = function(m, d, n_thread) {\n",
    "    x = m$clone(deep=TRUE)\n",
    "    x$set_thread(n_thread)\n",
    "    x$fit(d)\n",
    "    return(0)\n",
    "}"
   ]
  },
  {
   "cell_type": "markdown",
   "metadata": {
    "kernel": "R"
   },
   "source": [
    "I will benchmark it on my 40 CPU threads computer, using number of threads from 1 to 96."
   ]
  },
  {
   "cell_type": "markdown",
   "metadata": {
    "kernel": "R"
   },
   "source": [
    "## Center and scale the data"
   ]
  },
  {
   "cell_type": "code",
   "execution_count": 6,
   "metadata": {
    "kernel": "R"
   },
   "outputs": [],
   "source": [
    "d = DenseData$new(X,Y)\n",
    "d$standardize(T,T)\n",
    "\n",
    "mash_init = MashInitializer$new(list(diag(ncol(Y))), 1)\n",
    "B = MashRegression$new(ncol(X), resid_Y, mash_init)"
   ]
  },
  {
   "cell_type": "code",
   "execution_count": 7,
   "metadata": {
    "kernel": "R"
   },
   "outputs": [],
   "source": [
    "res = microbenchmark::microbenchmark(c1 = omp_test(B, d, 1),\n",
    "c2 = omp_test(B, d, 2), c3 = omp_test(B, d, 3),\n",
    "c4 = omp_test(B, d, 4), c8 = omp_test(B, d, 8),\n",
    "c12 = omp_test(B, d, 12), c24 = omp_test(B, d, 24),\n",
    "c40 = omp_test(B, d, 40), c96 = omp_test(B, d, 96),\n",
    "times = 30\n",
    ")"
   ]
  },
  {
   "cell_type": "code",
   "execution_count": 8,
   "metadata": {
    "kernel": "R"
   },
   "outputs": [
    {
     "data": {
      "text/html": [
       "<table>\n",
       "<caption>A data.frame: 9 × 3</caption>\n",
       "<thead>\n",
       "\t<tr><th scope=col>expr</th><th scope=col>mean</th><th scope=col>median</th></tr>\n",
       "\t<tr><th scope=col>&lt;fct&gt;</th><th scope=col>&lt;dbl&gt;</th><th scope=col>&lt;dbl&gt;</th></tr>\n",
       "</thead>\n",
       "<tbody>\n",
       "\t<tr><td>c1 </td><td>112.8897</td><td> 79.78656</td></tr>\n",
       "\t<tr><td>c2 </td><td>123.7933</td><td> 87.43624</td></tr>\n",
       "\t<tr><td>c3 </td><td>130.1537</td><td> 84.48205</td></tr>\n",
       "\t<tr><td>c4 </td><td>122.3935</td><td> 70.99884</td></tr>\n",
       "\t<tr><td>c8 </td><td>151.0569</td><td> 91.92863</td></tr>\n",
       "\t<tr><td>c12</td><td>128.0823</td><td> 83.81152</td></tr>\n",
       "\t<tr><td>c24</td><td>119.8294</td><td> 88.32749</td></tr>\n",
       "\t<tr><td>c40</td><td>147.7913</td><td>102.26707</td></tr>\n",
       "\t<tr><td>c96</td><td>290.5133</td><td>268.58782</td></tr>\n",
       "</tbody>\n",
       "</table>\n"
      ],
      "text/latex": [
       "A data.frame: 9 × 3\n",
       "\\begin{tabular}{lll}\n",
       " expr & mean & median\\\\\n",
       " <fct> & <dbl> & <dbl>\\\\\n",
       "\\hline\n",
       "\t c1  & 112.8897 &  79.78656\\\\\n",
       "\t c2  & 123.7933 &  87.43624\\\\\n",
       "\t c3  & 130.1537 &  84.48205\\\\\n",
       "\t c4  & 122.3935 &  70.99884\\\\\n",
       "\t c8  & 151.0569 &  91.92863\\\\\n",
       "\t c12 & 128.0823 &  83.81152\\\\\n",
       "\t c24 & 119.8294 &  88.32749\\\\\n",
       "\t c40 & 147.7913 & 102.26707\\\\\n",
       "\t c96 & 290.5133 & 268.58782\\\\\n",
       "\\end{tabular}\n"
      ],
      "text/markdown": [
       "\n",
       "A data.frame: 9 × 3\n",
       "\n",
       "| expr &lt;fct&gt; | mean &lt;dbl&gt; | median &lt;dbl&gt; |\n",
       "|---|---|---|\n",
       "| c1  | 112.8897 |  79.78656 |\n",
       "| c2  | 123.7933 |  87.43624 |\n",
       "| c3  | 130.1537 |  84.48205 |\n",
       "| c4  | 122.3935 |  70.99884 |\n",
       "| c8  | 151.0569 |  91.92863 |\n",
       "| c12 | 128.0823 |  83.81152 |\n",
       "| c24 | 119.8294 |  88.32749 |\n",
       "| c40 | 147.7913 | 102.26707 |\n",
       "| c96 | 290.5133 | 268.58782 |\n",
       "\n"
      ],
      "text/plain": [
       "  expr mean     median   \n",
       "1 c1   112.8897  79.78656\n",
       "2 c2   123.7933  87.43624\n",
       "3 c3   130.1537  84.48205\n",
       "4 c4   122.3935  70.99884\n",
       "5 c8   151.0569  91.92863\n",
       "6 c12  128.0823  83.81152\n",
       "7 c24  119.8294  88.32749\n",
       "8 c40  147.7913 102.26707\n",
       "9 c96  290.5133 268.58782"
      ]
     },
     "metadata": {},
     "output_type": "display_data"
    }
   ],
   "source": [
    "summary(res)[,c('expr', 'mean', 'median')]"
   ]
  },
  {
   "cell_type": "markdown",
   "metadata": {
    "kernel": "R"
   },
   "source": [
    "There is no advantage here, as expected, because when data is centered and scaled, the parallazation happens at mixture prior level. Since only one mixture component is used, there is nothing to parallel."
   ]
  },
  {
   "cell_type": "markdown",
   "metadata": {
    "kernel": "R"
   },
   "source": [
    "## Do not center and scale the data\n",
    "\n",
    "This will be more computationally intensive than previous run, because `sbhat` here is different for every variable. But now the parallazation will happen at variable level."
   ]
  },
  {
   "cell_type": "code",
   "execution_count": 9,
   "metadata": {
    "kernel": "R"
   },
   "outputs": [],
   "source": [
    "d = DenseData$new(X,Y)\n",
    "d$standardize(F,F)\n",
    "mash_init = MashInitializer$new(list(diag(ncol(Y))), 1)\n",
    "B = MashRegression$new(ncol(X), resid_Y, mash_init)"
   ]
  },
  {
   "cell_type": "code",
   "execution_count": 10,
   "metadata": {
    "kernel": "R"
   },
   "outputs": [],
   "source": [
    "res = microbenchmark::microbenchmark(c1 = omp_test(B, d, 1),\n",
    "c2 = omp_test(B, d, 2), c3 = omp_test(B, d, 3),\n",
    "c4 = omp_test(B, d, 4), c8 = omp_test(B, d, 8),\n",
    "c12 = omp_test(B, d, 12), c24 = omp_test(B, d, 24),\n",
    "c40 = omp_test(B, d, 40), c96 = omp_test(B, d, 96),\n",
    "times = 30\n",
    ")"
   ]
  },
  {
   "cell_type": "code",
   "execution_count": 11,
   "metadata": {
    "kernel": "R"
   },
   "outputs": [
    {
     "data": {
      "text/html": [
       "<table>\n",
       "<caption>A data.frame: 9 × 3</caption>\n",
       "<thead>\n",
       "\t<tr><th scope=col>expr</th><th scope=col>mean</th><th scope=col>median</th></tr>\n",
       "\t<tr><th scope=col>&lt;fct&gt;</th><th scope=col>&lt;dbl&gt;</th><th scope=col>&lt;dbl&gt;</th></tr>\n",
       "</thead>\n",
       "<tbody>\n",
       "\t<tr><td>c1 </td><td>367.9432</td><td>329.76213</td></tr>\n",
       "\t<tr><td>c2 </td><td>279.7087</td><td>230.23741</td></tr>\n",
       "\t<tr><td>c3 </td><td>222.2039</td><td>167.56115</td></tr>\n",
       "\t<tr><td>c4 </td><td>175.0598</td><td>133.68217</td></tr>\n",
       "\t<tr><td>c8 </td><td>164.1772</td><td>120.50207</td></tr>\n",
       "\t<tr><td>c12</td><td>156.2795</td><td>107.18487</td></tr>\n",
       "\t<tr><td>c24</td><td>153.1630</td><td> 97.05375</td></tr>\n",
       "\t<tr><td>c40</td><td>133.3515</td><td>106.20786</td></tr>\n",
       "\t<tr><td>c96</td><td>247.2431</td><td>238.34919</td></tr>\n",
       "</tbody>\n",
       "</table>\n"
      ],
      "text/latex": [
       "A data.frame: 9 × 3\n",
       "\\begin{tabular}{lll}\n",
       " expr & mean & median\\\\\n",
       " <fct> & <dbl> & <dbl>\\\\\n",
       "\\hline\n",
       "\t c1  & 367.9432 & 329.76213\\\\\n",
       "\t c2  & 279.7087 & 230.23741\\\\\n",
       "\t c3  & 222.2039 & 167.56115\\\\\n",
       "\t c4  & 175.0598 & 133.68217\\\\\n",
       "\t c8  & 164.1772 & 120.50207\\\\\n",
       "\t c12 & 156.2795 & 107.18487\\\\\n",
       "\t c24 & 153.1630 &  97.05375\\\\\n",
       "\t c40 & 133.3515 & 106.20786\\\\\n",
       "\t c96 & 247.2431 & 238.34919\\\\\n",
       "\\end{tabular}\n"
      ],
      "text/markdown": [
       "\n",
       "A data.frame: 9 × 3\n",
       "\n",
       "| expr &lt;fct&gt; | mean &lt;dbl&gt; | median &lt;dbl&gt; |\n",
       "|---|---|---|\n",
       "| c1  | 367.9432 | 329.76213 |\n",
       "| c2  | 279.7087 | 230.23741 |\n",
       "| c3  | 222.2039 | 167.56115 |\n",
       "| c4  | 175.0598 | 133.68217 |\n",
       "| c8  | 164.1772 | 120.50207 |\n",
       "| c12 | 156.2795 | 107.18487 |\n",
       "| c24 | 153.1630 |  97.05375 |\n",
       "| c40 | 133.3515 | 106.20786 |\n",
       "| c96 | 247.2431 | 238.34919 |\n",
       "\n"
      ],
      "text/plain": [
       "  expr mean     median   \n",
       "1 c1   367.9432 329.76213\n",
       "2 c2   279.7087 230.23741\n",
       "3 c3   222.2039 167.56115\n",
       "4 c4   175.0598 133.68217\n",
       "5 c8   164.1772 120.50207\n",
       "6 c12  156.2795 107.18487\n",
       "7 c24  153.1630  97.05375\n",
       "8 c40  133.3515 106.20786\n",
       "9 c96  247.2431 238.34919"
      ]
     },
     "metadata": {},
     "output_type": "display_data"
    }
   ],
   "source": [
    "summary(res)[,c('expr', 'mean', 'median')]"
   ]
  },
  {
   "cell_type": "markdown",
   "metadata": {
    "kernel": "R"
   },
   "source": [
    "We see some advantage here using multiple threads. Performance keeps improving as number of threads increases, up to 40 threads (capacity of my computer). More threads asked beyond that point resulted in performance loss. It seems 4 threads strikes a good balance and reduce the compute time by more than half."
   ]
  },
  {
   "cell_type": "markdown",
   "metadata": {
    "kernel": "R"
   },
   "source": [
    "## Center and scale data but using mixture prior\n",
    "\n",
    "Here since we are running a mixture prior, the advantage of parallazation should kick in because for common `sbhat` we parallel over prior mixture,"
   ]
  },
  {
   "cell_type": "code",
   "execution_count": 12,
   "metadata": {
    "kernel": "R"
   },
   "outputs": [],
   "source": [
    "mash_init = MashInitializer$new(create_cov_canonical(ncol(Y)), 1)\n",
    "B = MashRegression$new(ncol(X), resid_Y, mash_init)"
   ]
  },
  {
   "cell_type": "code",
   "execution_count": 13,
   "metadata": {
    "kernel": "R"
   },
   "outputs": [],
   "source": [
    "res = microbenchmark::microbenchmark(c1 = omp_test(B, d, 1),\n",
    "c2 = omp_test(B, d, 2), c3 = omp_test(B, d, 3),\n",
    "c4 = omp_test(B, d, 4), c8 = omp_test(B, d, 8),\n",
    "c12 = omp_test(B, d, 12), c24 = omp_test(B, d, 24),\n",
    "c40 = omp_test(B, d, 40), c96 = omp_test(B, d, 96),\n",
    "times = 30\n",
    ")"
   ]
  },
  {
   "cell_type": "code",
   "execution_count": 14,
   "metadata": {
    "kernel": "R"
   },
   "outputs": [
    {
     "data": {
      "text/html": [
       "<table>\n",
       "<caption>A data.frame: 9 × 3</caption>\n",
       "<thead>\n",
       "\t<tr><th scope=col>expr</th><th scope=col>mean</th><th scope=col>median</th></tr>\n",
       "\t<tr><th scope=col>&lt;fct&gt;</th><th scope=col>&lt;dbl&gt;</th><th scope=col>&lt;dbl&gt;</th></tr>\n",
       "</thead>\n",
       "<tbody>\n",
       "\t<tr><td>c1 </td><td>2342.0104</td><td>2340.3615</td></tr>\n",
       "\t<tr><td>c2 </td><td>1272.2940</td><td>1274.5796</td></tr>\n",
       "\t<tr><td>c3 </td><td> 960.2060</td><td> 919.9432</td></tr>\n",
       "\t<tr><td>c4 </td><td> 741.7434</td><td> 712.7330</td></tr>\n",
       "\t<tr><td>c8 </td><td> 425.8473</td><td> 419.3659</td></tr>\n",
       "\t<tr><td>c12</td><td> 344.0645</td><td> 329.0850</td></tr>\n",
       "\t<tr><td>c24</td><td> 323.5198</td><td> 279.0587</td></tr>\n",
       "\t<tr><td>c40</td><td> 332.9058</td><td> 312.0563</td></tr>\n",
       "\t<tr><td>c96</td><td> 491.0983</td><td> 452.3548</td></tr>\n",
       "</tbody>\n",
       "</table>\n"
      ],
      "text/latex": [
       "A data.frame: 9 × 3\n",
       "\\begin{tabular}{lll}\n",
       " expr & mean & median\\\\\n",
       " <fct> & <dbl> & <dbl>\\\\\n",
       "\\hline\n",
       "\t c1  & 2342.0104 & 2340.3615\\\\\n",
       "\t c2  & 1272.2940 & 1274.5796\\\\\n",
       "\t c3  &  960.2060 &  919.9432\\\\\n",
       "\t c4  &  741.7434 &  712.7330\\\\\n",
       "\t c8  &  425.8473 &  419.3659\\\\\n",
       "\t c12 &  344.0645 &  329.0850\\\\\n",
       "\t c24 &  323.5198 &  279.0587\\\\\n",
       "\t c40 &  332.9058 &  312.0563\\\\\n",
       "\t c96 &  491.0983 &  452.3548\\\\\n",
       "\\end{tabular}\n"
      ],
      "text/markdown": [
       "\n",
       "A data.frame: 9 × 3\n",
       "\n",
       "| expr &lt;fct&gt; | mean &lt;dbl&gt; | median &lt;dbl&gt; |\n",
       "|---|---|---|\n",
       "| c1  | 2342.0104 | 2340.3615 |\n",
       "| c2  | 1272.2940 | 1274.5796 |\n",
       "| c3  |  960.2060 |  919.9432 |\n",
       "| c4  |  741.7434 |  712.7330 |\n",
       "| c8  |  425.8473 |  419.3659 |\n",
       "| c12 |  344.0645 |  329.0850 |\n",
       "| c24 |  323.5198 |  279.0587 |\n",
       "| c40 |  332.9058 |  312.0563 |\n",
       "| c96 |  491.0983 |  452.3548 |\n",
       "\n"
      ],
      "text/plain": [
       "  expr mean      median   \n",
       "1 c1   2342.0104 2340.3615\n",
       "2 c2   1272.2940 1274.5796\n",
       "3 c3    960.2060  919.9432\n",
       "4 c4    741.7434  712.7330\n",
       "5 c8    425.8473  419.3659\n",
       "6 c12   344.0645  329.0850\n",
       "7 c24   323.5198  279.0587\n",
       "8 c40   332.9058  312.0563\n",
       "9 c96   491.0983  452.3548"
      ]
     },
     "metadata": {},
     "output_type": "display_data"
    }
   ],
   "source": [
    "summary(res)[,c('expr', 'mean', 'median')]"
   ]
  },
  {
   "cell_type": "markdown",
   "metadata": {
    "kernel": "R"
   },
   "source": [
    "We see that the advantage is obvious for using multiple threads for computation with mixture prior having a large number of components (this case is about 60 for canonical prior)."
   ]
  }
 ],
 "metadata": {
  "kernelspec": {
   "display_name": "SoS",
   "language": "sos",
   "name": "sos"
  },
  "language_info": {
   "codemirror_mode": "sos",
   "file_extension": ".sos",
   "mimetype": "text/x-sos",
   "name": "sos",
   "nbconvert_exporter": "sos_notebook.converter.SoS_Exporter",
   "pygments_lexer": "sos"
  },
  "sos": {
   "kernels": [
    [
     "R",
     "ir",
     "R",
     "#DCDCDA",
     ""
    ],
    [
     "SoS",
     "sos",
     "",
     "",
     "sos"
    ]
   ],
   "version": "0.21.7"
  }
 },
 "nbformat": 4,
 "nbformat_minor": 4
}
