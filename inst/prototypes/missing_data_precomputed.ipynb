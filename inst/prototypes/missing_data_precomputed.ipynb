{
 "cells": [
  {
   "cell_type": "markdown",
   "metadata": {},
   "source": [
    "# Analysis with precomputed matrix quantatities + missing data in Y\n",
    "\n",
    "Here we analyze an example of GTEx V7 cis-gene data-set."
   ]
  },
  {
   "cell_type": "code",
   "execution_count": 1,
   "metadata": {},
   "outputs": [
    {
     "data": {
      "text/html": [
       "<ol class=list-inline>\n",
       "\t<li>'X'</li>\n",
       "\t<li>'y'</li>\n",
       "\t<li>'Z'</li>\n",
       "\t<li>'y_res'</li>\n",
       "\t<li>'chrom'</li>\n",
       "\t<li>'pos'</li>\n",
       "</ol>\n"
      ],
      "text/latex": [
       "\\begin{enumerate*}\n",
       "\\item 'X'\n",
       "\\item 'y'\n",
       "\\item 'Z'\n",
       "\\item 'y\\_res'\n",
       "\\item 'chrom'\n",
       "\\item 'pos'\n",
       "\\end{enumerate*}\n"
      ],
      "text/markdown": [
       "1. 'X'\n",
       "2. 'y'\n",
       "3. 'Z'\n",
       "4. 'y_res'\n",
       "5. 'chrom'\n",
       "6. 'pos'\n",
       "\n",
       "\n"
      ],
      "text/plain": [
       "[1] \"X\"     \"y\"     \"Z\"     \"y_res\" \"chrom\" \"pos\"  "
      ]
     },
     "metadata": {},
     "output_type": "display_data"
    }
   ],
   "source": [
    "raw_data = readRDS('Multi_Tissues.ENSG00000145214.RDS')\n",
    "# raw_data$y_res = as.matrix(raw_data$y_res[,-1])\n",
    "names(raw_data)"
   ]
  },
  {
   "cell_type": "code",
   "execution_count": 2,
   "metadata": {},
   "outputs": [
    {
     "data": {
      "text/html": [
       "<ol class=list-inline>\n",
       "\t<li>838</li>\n",
       "\t<li>7962</li>\n",
       "</ol>\n"
      ],
      "text/latex": [
       "\\begin{enumerate*}\n",
       "\\item 838\n",
       "\\item 7962\n",
       "\\end{enumerate*}\n"
      ],
      "text/markdown": [
       "1. 838\n",
       "2. 7962\n",
       "\n",
       "\n"
      ],
      "text/plain": [
       "[1]  838 7962"
      ]
     },
     "metadata": {},
     "output_type": "display_data"
    }
   ],
   "source": [
    "dim(raw_data$X)"
   ]
  },
  {
   "cell_type": "code",
   "execution_count": 3,
   "metadata": {},
   "outputs": [
    {
     "data": {
      "text/html": [
       "<ol class=list-inline>\n",
       "\t<li>838</li>\n",
       "\t<li>49</li>\n",
       "</ol>\n"
      ],
      "text/latex": [
       "\\begin{enumerate*}\n",
       "\\item 838\n",
       "\\item 49\n",
       "\\end{enumerate*}\n"
      ],
      "text/markdown": [
       "1. 838\n",
       "2. 49\n",
       "\n",
       "\n"
      ],
      "text/plain": [
       "[1] 838  49"
      ]
     },
     "metadata": {},
     "output_type": "display_data"
    }
   ],
   "source": [
    "dim(raw_data$y_res)"
   ]
  },
  {
   "cell_type": "markdown",
   "metadata": {},
   "source": [
    "## Initialize data object"
   ]
  },
  {
   "cell_type": "code",
   "execution_count": 4,
   "metadata": {},
   "outputs": [],
   "source": [
    "data = mmbr:::DenseData$new(raw_data$X, raw_data$y_res)"
   ]
  },
  {
   "cell_type": "markdown",
   "metadata": {},
   "source": [
    "## Setting up MASH object"
   ]
  },
  {
   "cell_type": "code",
   "execution_count": 5,
   "metadata": {},
   "outputs": [],
   "source": [
    "residual_covar = diag(apply(raw_data$y_res, 2, function(x) var(x, na.rm=T)))"
   ]
  },
  {
   "cell_type": "code",
   "execution_count": 6,
   "metadata": {},
   "outputs": [],
   "source": [
    "prior_mats = mmbr:::create_cov_canonical(ncol(raw_data$y_res), singletons=F)"
   ]
  },
  {
   "cell_type": "code",
   "execution_count": 7,
   "metadata": {},
   "outputs": [],
   "source": [
    "scaling = c(0.05,0.15,0.25,0.4) # FIXME: use auto-grid"
   ]
  },
  {
   "cell_type": "code",
   "execution_count": 8,
   "metadata": {},
   "outputs": [],
   "source": [
    "mash_init = mmbr:::MashInitializer$new(prior_mats, scaling, alpha = 1)"
   ]
  },
  {
   "cell_type": "code",
   "execution_count": null,
   "metadata": {},
   "outputs": [],
   "source": [
    "mash_init$precompute_cov_matrices(data, residual_covar)"
   ]
  },
  {
   "cell_type": "markdown",
   "metadata": {},
   "source": [
    "The line above currently takes 3m40s. **It is 2.5GB on disk in RDS format**. This is to compute for $R = 49, J = 7962, P = 21$. **$P$ is 21 for null weight plus at most 20 other components**. I saved it to disk,"
   ]
  },
  {
   "cell_type": "code",
   "execution_count": null,
   "metadata": {},
   "outputs": [],
   "source": [
    "saveRDS(mash_init, 'mash_init.rds')"
   ]
  },
  {
   "cell_type": "markdown",
   "metadata": {},
   "source": [
    "```\n",
    "-rw-r--r-- 1 gaow gaow  2.5G May 12 07:41 mash_init.rds\n",
    "```\n",
    "\n",
    "And test the memory it takes to keep it -- 7.42GB.\n",
    "\n",
    "```bash\n",
    "python ~/GIT/github/misc/monitor/monitor.py Rscript -e \"mash_init = readRDS('mash_init.rds')\"\n",
    "```\n",
    "\n",
    "```\n",
    "time elapsed: 25.18s\n",
    "peak first occurred: 15.40s\n",
    "peak last occurred: 24.65s\n",
    "max vms_memory: 7.42GB\n",
    "max rss_memory: 7.23GB\n",
    "memory check interval: 1s\n",
    "return code: 0\n",
    "```"
   ]
  },
  {
   "cell_type": "code",
   "execution_count": 8,
   "metadata": {},
   "outputs": [],
   "source": [
    "mash_init = readRDS('mash_init.rds')"
   ]
  },
  {
   "cell_type": "code",
   "execution_count": 10,
   "metadata": {},
   "outputs": [],
   "source": [
    "mmbr_obj = mmbr:::MashMultipleRegression$new(ncol(raw_data$X), residual_covar, mash_init)"
   ]
  },
  {
   "cell_type": "code",
   "execution_count": null,
   "metadata": {},
   "outputs": [],
   "source": [
    "mmbr_obj$fit(data)"
   ]
  },
  {
   "cell_type": "markdown",
   "metadata": {},
   "source": [
    "The step above now only take 2 min."
   ]
  },
  {
   "cell_type": "code",
   "execution_count": null,
   "metadata": {},
   "outputs": [],
   "source": [
    "saveRDS(mmbr_obj, 'mmbr_obj.rds')"
   ]
  }
 ],
 "metadata": {
  "kernelspec": {
   "display_name": "R",
   "language": "R",
   "name": "ir"
  },
  "language_info": {
   "codemirror_mode": "r",
   "file_extension": ".r",
   "mimetype": "text/x-r-source",
   "name": "R",
   "pygments_lexer": "r",
   "version": "3.5.3"
  }
 },
 "nbformat": 4,
 "nbformat_minor": 2
}
