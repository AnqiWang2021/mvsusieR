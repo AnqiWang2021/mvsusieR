{
 "cells": [
  {
   "cell_type": "markdown",
   "metadata": {},
   "source": [
    "# EM estimate vs direct optimization issue\n",
    "\n",
    "Here I compare EM with `optim` in a larger simulated data-set involving 50 conditions. Example below is when `EM` and `optim` results are different and `optim` result seems better."
   ]
  },
  {
   "cell_type": "code",
   "execution_count": 7,
   "metadata": {},
   "outputs": [],
   "source": [
    "dat = readRDS('lite_data_1_artificial_mixture_1_mnm_shared_1.rds')"
   ]
  },
  {
   "cell_type": "code",
   "execution_count": 8,
   "metadata": {},
   "outputs": [],
   "source": [
    "## r script UUID: 14676992\n",
    "library(mmbr)\n",
    "library(flashier)\n",
    "DSC_A8484812 <- list()\n",
    "DSC_A8484812 <- dscrutils:::load_inputs(c('lite_data_1.rds','lite_data_1_artificial_mixture_1.rds'), dscrutils:::read_dsc)\n",
    "DSC_REPLICATE <- DSC_A8484812$DSC_DEBUG$replicate\n",
    "X <- DSC_A8484812$X\n",
    "Y <- DSC_A8484812$Y\n",
    "meta <- DSC_A8484812$meta\n",
    "eff_mode <- 'shared'\n",
    "L <- 10\n",
    "resid_method <- 'oracle'\n",
    "TIC_A8484812 <- proc.time()\n",
    "set.seed(DSC_REPLICATE)\n",
    "\n",
    "## BEGIN DSC CORE\n",
    "get_center <- function(k,n) {\n",
    "  if (is.null(k)) {\n",
    "      return(1:n)\n",
    "  }\n",
    "  start = floor(n/2 - k/2)\n",
    "  end = floor(n/2 + k/2)\n",
    "  if (start<1) start = 1\n",
    "  if (end>n) end = n\n",
    "  return(start:end)\n",
    "}\n",
    "center_scale <- function(X) return(susieR:::set_X_attributes(as.matrix(X), center=TRUE, scale = TRUE))\n",
    "subset_N <- function(gene, N_sub){\n",
    "    if(!is.null(N_sub)){\n",
    "        Ntot <- nrow(gene$X)\n",
    "        to_keep <- sort(sample(x=c(1:Ntot), size=N_sub, replace=F))\n",
    "        gene$X <- gene$X[to_keep, ]\n",
    "        gene$y <- gene$y[to_keep]\n",
    "        gene$Z <- gene$Z[to_keep, ]\n",
    "        return(gene)\n",
    "    } else { ###If we don't want to subset individuals\n",
    "        return(gene)\n",
    "    }\n",
    "}\n",
    "compute_cov_diag <- function(Y){\n",
    "    covar <- diag(apply(Y, 2, var, na.rm=T))\n",
    "    return(covar)\n",
    "}\n",
    "compute_cov_flash <- function(Y){\n",
    "    fl <- flashier::flash(Y, var.type = 2, prior.family = c(flashier::prior.normal(), flashier::prior.normal.scale.mix()), backfit = TRUE, verbose.lvl=0)\n",
    "    if(fl$n.factors==0){\n",
    "      covar <- diag(fl$residuals.sd^2)\n",
    "    } else {\n",
    "      fsd <- sapply(fl$fitted.g[[1]], '[[', \"sd\")\n",
    "      covar <- diag(fl$residuals.sd^2) + crossprod(t(fl$flash.fit$EF[[2]]) * fsd)\n",
    "    }\n",
    "    s <- diag(apply(Y, 2, sd, na.rm=T))\n",
    "    covar <- s%*%cov2cor(covar)%*%s\n",
    "    return(covar)\n",
    "}\n",
    "create_missing <- function(Y1, Y0) {\n",
    "    if (ncol(Y0) < ncol(Y1)) {\n",
    "        for (i in 1:(ncol(Y1) - ncol(Y0))) {\n",
    "            Y0 = cbind(Y0, sample(Y0[, sample.int(ncol(Y0), size=1)]))\n",
    "        }\n",
    "    }\n",
    "    if (ncol(Y0) > ncol(Y1)) Y0 = Y0[,sample(1:ncol(Y1))]\n",
    "    res = Y1\n",
    "    res[which(is.na(Y0))] = NA\n",
    "    na_rows = which(apply(res, 1, function(x) all(is.na(x))))\n",
    "    for (i in na_rows) {\n",
    "\t    non_na = sample.int(ncol(res), size=1)\n",
    "        res[i,non_na] = Y1[i,non_na]\n",
    "    }\n",
    "    return(res)\n",
    "}\n",
    "compute_maf <- function(geno){\n",
    "   f <- mean(geno,na.rm = TRUE)/2\n",
    "   return(min(f, 1-f))\n",
    "}\n",
    "compute_missing <- function(geno){\n",
    "  miss <- sum(is.na(geno))/length(geno)\n",
    "  return(miss)\n",
    "}\n",
    "mean_impute <- function(geno){\n",
    "  f <- apply(geno, 2, function(x) mean(x,na.rm = TRUE))\n",
    "  for (i in 1:length(f)) geno[,i][which(is.na(geno[,i]))] <- f[i]\n",
    "  return(geno)\n",
    "}\n",
    "is_zero_variance <- function(x) {\n",
    "  if (length(unique(x))==1) return(T)\n",
    "  else return(F)\n",
    "}\n",
    "filter_X <- function(X, missing_rate_thresh, maf_thresh) {\n",
    "    rm_col <- which(apply(X, 2, compute_missing) > missing_rate_thresh)\n",
    "    if (length(rm_col)) X <- X[, -rm_col]\n",
    "    rm_col <- which(apply(X, 2, compute_maf) < maf_thresh)\n",
    "    if (length(rm_col)) X <- X[, -rm_col]\n",
    "    rm_col <- which(apply(X, 2, is_zero_variance))\n",
    "    if (length(rm_col)) X <- X[, -rm_col]\n",
    "    return(mean_impute(X))\n",
    "}\n",
    "prior = meta$prior[[eff_mode]]\n",
    "if (is.null(prior)) {\n",
    "    prior = list(xUlist = mmbr:::create_cov_canonical(ncol(Y)))\n",
    "}\n",
    "if (resid_method == 'flash') {\n",
    "    resid_Y <- compute_cov_flash(Y)\n",
    "} else if (resid_method == 'diag') {\n",
    "    resid_Y <- compute_cov_diag(Y)\n",
    "} else {\n",
    "    resid_Y <- meta$residual_variance\n",
    "}"
   ]
  },
  {
   "cell_type": "markdown",
   "metadata": {},
   "source": [
    "Script to load simulated data and generate the result is available via `cat(dat$DSC_DEBUG$script)`. Simply copy that code and run the data generation; then run the analysis using `EM` and `optim`."
   ]
  },
  {
   "cell_type": "markdown",
   "metadata": {},
   "source": [
    "## EM result"
   ]
  },
  {
   "cell_type": "code",
   "execution_count": 25,
   "metadata": {},
   "outputs": [
    {
     "name": "stderr",
     "output_type": "stream",
     "text": [
      "Loading mmbr\n",
      "\n"
     ]
    }
   ],
   "source": [
    "result = msusie(X, Y, L=L, prior_variance=matrix(1,50,50), residual_variance=resid_Y, compute_objective=T, estimate_residual_variance=F, estimate_prior_variance=T, \n",
    "                estimate_prior_method='EM', track_fit=T, precompute_covariances=F)"
   ]
  },
  {
   "cell_type": "code",
   "execution_count": 26,
   "metadata": {},
   "outputs": [
    {
     "data": {
      "text/html": [
       "<style>\n",
       ".list-inline {list-style: none; margin:0; padding: 0}\n",
       ".list-inline>li {display: inline-block}\n",
       ".list-inline>li:not(:last-child)::after {content: \"\\00b7\"; padding: 0 .5ex}\n",
       "</style>\n",
       "<ol class=list-inline><li>0.133190141967517</li><li>0.133122023124095</li><li>0.132797959361328</li><li>0.132660010456815</li><li>0.132633887742004</li><li>0</li><li>0</li><li>0</li><li>0</li><li>0</li></ol>\n"
      ],
      "text/latex": [
       "\\begin{enumerate*}\n",
       "\\item 0.133190141967517\n",
       "\\item 0.133122023124095\n",
       "\\item 0.132797959361328\n",
       "\\item 0.132660010456815\n",
       "\\item 0.132633887742004\n",
       "\\item 0\n",
       "\\item 0\n",
       "\\item 0\n",
       "\\item 0\n",
       "\\item 0\n",
       "\\end{enumerate*}\n"
      ],
      "text/markdown": [
       "1. 0.133190141967517\n",
       "2. 0.133122023124095\n",
       "3. 0.132797959361328\n",
       "4. 0.132660010456815\n",
       "5. 0.132633887742004\n",
       "6. 0\n",
       "7. 0\n",
       "8. 0\n",
       "9. 0\n",
       "10. 0\n",
       "\n",
       "\n"
      ],
      "text/plain": [
       " [1] 0.1331901 0.1331220 0.1327980 0.1326600 0.1326339 0.0000000 0.0000000\n",
       " [8] 0.0000000 0.0000000 0.0000000"
      ]
     },
     "metadata": {},
     "output_type": "display_data"
    }
   ],
   "source": [
    "result$V"
   ]
  },
  {
   "cell_type": "markdown",
   "metadata": {},
   "source": [
    "It seems the prior estimate are consistantly large for all effects. This data-set has 3 simulated signals,"
   ]
  },
  {
   "cell_type": "code",
   "execution_count": 3,
   "metadata": {},
   "outputs": [
    {
     "data": {
      "text/html": [
       "<style>\n",
       ".list-inline {list-style: none; margin:0; padding: 0}\n",
       ".list-inline>li {display: inline-block}\n",
       ".list-inline>li:not(:last-child)::after {content: \"\\00b7\"; padding: 0 .5ex}\n",
       "</style>\n",
       "<ol class=list-inline><li>43</li><li>129</li><li>162</li></ol>\n"
      ],
      "text/latex": [
       "\\begin{enumerate*}\n",
       "\\item 43\n",
       "\\item 129\n",
       "\\item 162\n",
       "\\end{enumerate*}\n"
      ],
      "text/markdown": [
       "1. 43\n",
       "2. 129\n",
       "3. 162\n",
       "\n",
       "\n"
      ],
      "text/plain": [
       "[1]  43 129 162"
      ]
     },
     "metadata": {},
     "output_type": "display_data"
    }
   ],
   "source": [
    "which(rowSums(meta$true_coef) != 0)"
   ]
  },
  {
   "cell_type": "code",
   "execution_count": 4,
   "metadata": {},
   "outputs": [
    {
     "data": {
      "text/html": [
       "<table>\n",
       "<caption>A matrix: 3 × 50 of type dbl</caption>\n",
       "<tbody>\n",
       "\t<tr><td> 0.0000000</td><td> 0.0000000</td><td> 0.0000000</td><td>0.0000000</td><td> 0.0000000</td><td>0.0000000</td><td> 0.0000000</td><td> 0.0000000</td><td> 0.000000</td><td>1.05848305</td><td>⋯</td><td> 0.0000000</td><td>0.0000000</td><td>0.00000000</td><td> 0.0000000</td><td> 0.0000000</td><td> 0.0000000</td><td> 0.0000000</td><td> 0.0000000</td><td> 0.0000000</td><td> 0.0000000</td></tr>\n",
       "\t<tr><td>-0.4515795</td><td> 0.2123624</td><td>-0.2313993</td><td>1.2908204</td><td>-0.1391929</td><td>0.4586080</td><td> 1.1908100</td><td> 0.5195072</td><td>-0.444041</td><td>0.55288239</td><td>⋯</td><td> 0.8074542</td><td>1.1655001</td><td>0.55635426</td><td> 0.4118661</td><td>-0.4539847</td><td>-0.3545635</td><td> 0.5953944</td><td>-0.7013678</td><td> 1.0421826</td><td> 1.2604212</td></tr>\n",
       "\t<tr><td>-0.7054777</td><td>-0.7788946</td><td>-0.6342108</td><td>0.7883361</td><td>-0.7436080</td><td>0.0631215</td><td>-0.7432346</td><td>-0.1296268</td><td>-1.130015</td><td>0.05221385</td><td>⋯</td><td>-0.7423689</td><td>0.5043965</td><td>0.01963459</td><td>-0.4722924</td><td>-0.2650975</td><td>-0.7530046</td><td>-0.9196253</td><td>-0.1616042</td><td>-0.2687143</td><td>-0.8154856</td></tr>\n",
       "</tbody>\n",
       "</table>\n"
      ],
      "text/latex": [
       "A matrix: 3 × 50 of type dbl\n",
       "\\begin{tabular}{lllllllllllllllllllll}\n",
       "\t  0.0000000 &  0.0000000 &  0.0000000 & 0.0000000 &  0.0000000 & 0.0000000 &  0.0000000 &  0.0000000 &  0.000000 & 1.05848305 & ⋯ &  0.0000000 & 0.0000000 & 0.00000000 &  0.0000000 &  0.0000000 &  0.0000000 &  0.0000000 &  0.0000000 &  0.0000000 &  0.0000000\\\\\n",
       "\t -0.4515795 &  0.2123624 & -0.2313993 & 1.2908204 & -0.1391929 & 0.4586080 &  1.1908100 &  0.5195072 & -0.444041 & 0.55288239 & ⋯ &  0.8074542 & 1.1655001 & 0.55635426 &  0.4118661 & -0.4539847 & -0.3545635 &  0.5953944 & -0.7013678 &  1.0421826 &  1.2604212\\\\\n",
       "\t -0.7054777 & -0.7788946 & -0.6342108 & 0.7883361 & -0.7436080 & 0.0631215 & -0.7432346 & -0.1296268 & -1.130015 & 0.05221385 & ⋯ & -0.7423689 & 0.5043965 & 0.01963459 & -0.4722924 & -0.2650975 & -0.7530046 & -0.9196253 & -0.1616042 & -0.2687143 & -0.8154856\\\\\n",
       "\\end{tabular}\n"
      ],
      "text/markdown": [
       "\n",
       "A matrix: 3 × 50 of type dbl\n",
       "\n",
       "|  0.0000000 |  0.0000000 |  0.0000000 | 0.0000000 |  0.0000000 | 0.0000000 |  0.0000000 |  0.0000000 |  0.000000 | 1.05848305 | ⋯ |  0.0000000 | 0.0000000 | 0.00000000 |  0.0000000 |  0.0000000 |  0.0000000 |  0.0000000 |  0.0000000 |  0.0000000 |  0.0000000 |\n",
       "| -0.4515795 |  0.2123624 | -0.2313993 | 1.2908204 | -0.1391929 | 0.4586080 |  1.1908100 |  0.5195072 | -0.444041 | 0.55288239 | ⋯ |  0.8074542 | 1.1655001 | 0.55635426 |  0.4118661 | -0.4539847 | -0.3545635 |  0.5953944 | -0.7013678 |  1.0421826 |  1.2604212 |\n",
       "| -0.7054777 | -0.7788946 | -0.6342108 | 0.7883361 | -0.7436080 | 0.0631215 | -0.7432346 | -0.1296268 | -1.130015 | 0.05221385 | ⋯ | -0.7423689 | 0.5043965 | 0.01963459 | -0.4722924 | -0.2650975 | -0.7530046 | -0.9196253 | -0.1616042 | -0.2687143 | -0.8154856 |\n",
       "\n"
      ],
      "text/plain": [
       "     [,1]       [,2]       [,3]       [,4]      [,5]       [,6]      [,7]      \n",
       "[1,]  0.0000000  0.0000000  0.0000000 0.0000000  0.0000000 0.0000000  0.0000000\n",
       "[2,] -0.4515795  0.2123624 -0.2313993 1.2908204 -0.1391929 0.4586080  1.1908100\n",
       "[3,] -0.7054777 -0.7788946 -0.6342108 0.7883361 -0.7436080 0.0631215 -0.7432346\n",
       "     [,8]       [,9]      [,10]      [,11] [,12]      [,13]     [,14]     \n",
       "[1,]  0.0000000  0.000000 1.05848305 ⋯      0.0000000 0.0000000 0.00000000\n",
       "[2,]  0.5195072 -0.444041 0.55288239 ⋯      0.8074542 1.1655001 0.55635426\n",
       "[3,] -0.1296268 -1.130015 0.05221385 ⋯     -0.7423689 0.5043965 0.01963459\n",
       "     [,15]      [,16]      [,17]      [,18]      [,19]      [,20]     \n",
       "[1,]  0.0000000  0.0000000  0.0000000  0.0000000  0.0000000  0.0000000\n",
       "[2,]  0.4118661 -0.4539847 -0.3545635  0.5953944 -0.7013678  1.0421826\n",
       "[3,] -0.4722924 -0.2650975 -0.7530046 -0.9196253 -0.1616042 -0.2687143\n",
       "     [,21]     \n",
       "[1,]  0.0000000\n",
       "[2,]  1.2604212\n",
       "[3,] -0.8154856"
      ]
     },
     "metadata": {},
     "output_type": "display_data"
    }
   ],
   "source": [
    "meta$true_coef[which(rowSums(meta$true_coef) != 0),]"
   ]
  },
  {
   "cell_type": "markdown",
   "metadata": {},
   "source": [
    "Clearly this will not fit a model of \"all shared\" effects."
   ]
  },
  {
   "cell_type": "markdown",
   "metadata": {},
   "source": [
    "Using \"all shared\" prior we have captured 4 effects with non-zero PIP, 2 of them are real."
   ]
  },
  {
   "cell_type": "code",
   "execution_count": 28,
   "metadata": {},
   "outputs": [
    {
     "data": {
      "image/png": "[encoded data removed]",
      "text/plain": [
       "plot without title"
      ]
     },
     "metadata": {
      "image/png": {
       "height": 420,
       "width": 420
      },
      "text/plain": {
       "height": 420,
       "width": 420
      }
     },
     "output_type": "display_data"
    }
   ],
   "source": [
    "susieR::susie_plot(result, y='PIP',b=rowSums(meta$true_coef))"
   ]
  },
  {
   "cell_type": "code",
   "execution_count": 21,
   "metadata": {},
   "outputs": [
    {
     "data": {
      "text/html": [
       "<dl>\n",
       "\t<dt>$cs</dt>\n",
       "\t\t<dd><dl>\n",
       "\t<dt>$L1</dt>\n",
       "\t\t<dd><style>\n",
       ".list-inline {list-style: none; margin:0; padding: 0}\n",
       ".list-inline>li {display: inline-block}\n",
       ".list-inline>li:not(:last-child)::after {content: \"\\00b7\"; padding: 0 .5ex}\n",
       "</style>\n",
       "<ol class=list-inline><li>153</li><li>156</li><li>162</li></ol>\n",
       "</dd>\n",
       "\t<dt>$L2</dt>\n",
       "\t\t<dd>129</dd>\n",
       "\t<dt>$L4</dt>\n",
       "\t\t<dd><style>\n",
       ".list-inline {list-style: none; margin:0; padding: 0}\n",
       ".list-inline>li {display: inline-block}\n",
       ".list-inline>li:not(:last-child)::after {content: \"\\00b7\"; padding: 0 .5ex}\n",
       "</style>\n",
       "<ol class=list-inline><li>129</li><li>130</li><li>131</li><li>132</li><li>134</li><li>135</li></ol>\n",
       "</dd>\n",
       "\t<dt>$L5</dt>\n",
       "\t\t<dd><style>\n",
       ".list-inline {list-style: none; margin:0; padding: 0}\n",
       ".list-inline>li {display: inline-block}\n",
       ".list-inline>li:not(:last-child)::after {content: \"\\00b7\"; padding: 0 .5ex}\n",
       "</style>\n",
       "<ol class=list-inline><li>139</li><li>144</li><li>145</li><li>153</li><li>156</li><li>162</li></ol>\n",
       "</dd>\n",
       "</dl>\n",
       "</dd>\n",
       "\t<dt>$purity</dt>\n",
       "\t\t<dd><table>\n",
       "<caption>A data.frame: 4 × 3</caption>\n",
       "<thead>\n",
       "\t<tr><th></th><th scope=col>min.abs.corr</th><th scope=col>mean.abs.corr</th><th scope=col>median.abs.corr</th></tr>\n",
       "\t<tr><th></th><th scope=col>&lt;dbl&gt;</th><th scope=col>&lt;dbl&gt;</th><th scope=col>&lt;dbl&gt;</th></tr>\n",
       "</thead>\n",
       "<tbody>\n",
       "\t<tr><th scope=row>L1</th><td>1.0000000</td><td>1.0000000</td><td>1.0000000</td></tr>\n",
       "\t<tr><th scope=row>L2</th><td>1.0000000</td><td>1.0000000</td><td>1.0000000</td></tr>\n",
       "\t<tr><th scope=row>L4</th><td>0.9845723</td><td>0.9957145</td><td>1.0000000</td></tr>\n",
       "\t<tr><th scope=row>L5</th><td>0.9601872</td><td>0.9800936</td><td>0.9800936</td></tr>\n",
       "</tbody>\n",
       "</table>\n",
       "</dd>\n",
       "\t<dt>$cs_index</dt>\n",
       "\t\t<dd><style>\n",
       ".list-inline {list-style: none; margin:0; padding: 0}\n",
       ".list-inline>li {display: inline-block}\n",
       ".list-inline>li:not(:last-child)::after {content: \"\\00b7\"; padding: 0 .5ex}\n",
       "</style>\n",
       "<ol class=list-inline><li>1</li><li>2</li><li>4</li><li>5</li></ol>\n",
       "</dd>\n",
       "\t<dt>$coverage</dt>\n",
       "\t\t<dd>0.95</dd>\n",
       "</dl>\n"
      ],
      "text/latex": [
       "\\begin{description}\n",
       "\\item[\\$cs] \\begin{description}\n",
       "\\item[\\$L1] \\begin{enumerate*}\n",
       "\\item 153\n",
       "\\item 156\n",
       "\\item 162\n",
       "\\end{enumerate*}\n",
       "\n",
       "\\item[\\$L2] 129\n",
       "\\item[\\$L4] \\begin{enumerate*}\n",
       "\\item 129\n",
       "\\item 130\n",
       "\\item 131\n",
       "\\item 132\n",
       "\\item 134\n",
       "\\item 135\n",
       "\\end{enumerate*}\n",
       "\n",
       "\\item[\\$L5] \\begin{enumerate*}\n",
       "\\item 139\n",
       "\\item 144\n",
       "\\item 145\n",
       "\\item 153\n",
       "\\item 156\n",
       "\\item 162\n",
       "\\end{enumerate*}\n",
       "\n",
       "\\end{description}\n",
       "\n",
       "\\item[\\$purity] A data.frame: 4 × 3\n",
       "\\begin{tabular}{r|lll}\n",
       "  & min.abs.corr & mean.abs.corr & median.abs.corr\\\\\n",
       "  & <dbl> & <dbl> & <dbl>\\\\\n",
       "\\hline\n",
       "\tL1 & 1.0000000 & 1.0000000 & 1.0000000\\\\\n",
       "\tL2 & 1.0000000 & 1.0000000 & 1.0000000\\\\\n",
       "\tL4 & 0.9845723 & 0.9957145 & 1.0000000\\\\\n",
       "\tL5 & 0.9601872 & 0.9800936 & 0.9800936\\\\\n",
       "\\end{tabular}\n",
       "\n",
       "\\item[\\$cs\\_index] \\begin{enumerate*}\n",
       "\\item 1\n",
       "\\item 2\n",
       "\\item 4\n",
       "\\item 5\n",
       "\\end{enumerate*}\n",
       "\n",
       "\\item[\\$coverage] 0.95\n",
       "\\end{description}\n"
      ],
      "text/markdown": [
       "$cs\n",
       ":   $L1\n",
       ":   1. 153\n",
       "2. 156\n",
       "3. 162\n",
       "\n",
       "\n",
       "\n",
       "$L2\n",
       ":   129\n",
       "$L4\n",
       ":   1. 129\n",
       "2. 130\n",
       "3. 131\n",
       "4. 132\n",
       "5. 134\n",
       "6. 135\n",
       "\n",
       "\n",
       "\n",
       "$L5\n",
       ":   1. 139\n",
       "2. 144\n",
       "3. 145\n",
       "4. 153\n",
       "5. 156\n",
       "6. 162\n",
       "\n",
       "\n",
       "\n",
       "\n",
       "\n",
       "\n",
       "$purity\n",
       ":   \n",
       "A data.frame: 4 × 3\n",
       "\n",
       "| <!--/--> | min.abs.corr &lt;dbl&gt; | mean.abs.corr &lt;dbl&gt; | median.abs.corr &lt;dbl&gt; |\n",
       "|---|---|---|---|\n",
       "| L1 | 1.0000000 | 1.0000000 | 1.0000000 |\n",
       "| L2 | 1.0000000 | 1.0000000 | 1.0000000 |\n",
       "| L4 | 0.9845723 | 0.9957145 | 1.0000000 |\n",
       "| L5 | 0.9601872 | 0.9800936 | 0.9800936 |\n",
       "\n",
       "\n",
       "$cs_index\n",
       ":   1. 1\n",
       "2. 2\n",
       "3. 4\n",
       "4. 5\n",
       "\n",
       "\n",
       "\n",
       "$coverage\n",
       ":   0.95\n",
       "\n",
       "\n"
      ],
      "text/plain": [
       "$cs\n",
       "$cs$L1\n",
       "[1] 153 156 162\n",
       "\n",
       "$cs$L2\n",
       "[1] 129\n",
       "\n",
       "$cs$L4\n",
       "[1] 129 130 131 132 134 135\n",
       "\n",
       "$cs$L5\n",
       "[1] 139 144 145 153 156 162\n",
       "\n",
       "\n",
       "$purity\n",
       "   min.abs.corr mean.abs.corr median.abs.corr\n",
       "L1    1.0000000     1.0000000       1.0000000\n",
       "L2    1.0000000     1.0000000       1.0000000\n",
       "L4    0.9845723     0.9957145       1.0000000\n",
       "L5    0.9601872     0.9800936       0.9800936\n",
       "\n",
       "$cs_index\n",
       "[1] 1 2 4 5\n",
       "\n",
       "$coverage\n",
       "[1] 0.95\n"
      ]
     },
     "metadata": {},
     "output_type": "display_data"
    }
   ],
   "source": [
    "result$sets"
   ]
  },
  {
   "cell_type": "markdown",
   "metadata": {},
   "source": [
    "From single effect CS result, `L4` contains `L2` and `L5` contains `L1`. As a result both `L4` and `L5` appear to contain a true signals. Because of overlap between `L1` and `L5`, the 3 variables in `L1` (orange) appears to have marginal PIP 0.6 rather than 0.3. Both `L4` and `L5` have high purity."
   ]
  },
  {
   "cell_type": "code",
   "execution_count": 12,
   "metadata": {},
   "outputs": [
    {
     "data": {
      "text/html": [
       "<table>\n",
       "<caption>A matrix: 10 × 3 of type dbl</caption>\n",
       "<tbody>\n",
       "\t<tr><td> 3.333333e-01</td><td> 3.333333e-01</td><td> 3.333333e-01</td></tr>\n",
       "\t<tr><td>6.349176e-142</td><td>6.349176e-142</td><td>6.349176e-142</td></tr>\n",
       "\t<tr><td> 3.333311e-01</td><td> 3.333311e-01</td><td> 3.333311e-01</td></tr>\n",
       "\t<tr><td> 1.788361e-11</td><td> 1.788361e-11</td><td> 1.788361e-11</td></tr>\n",
       "\t<tr><td> 8.156961e-02</td><td> 8.156961e-02</td><td> 8.156961e-02</td></tr>\n",
       "\t<tr><td> 4.694836e-03</td><td> 4.694836e-03</td><td> 4.694836e-03</td></tr>\n",
       "\t<tr><td> 4.694836e-03</td><td> 4.694836e-03</td><td> 4.694836e-03</td></tr>\n",
       "\t<tr><td> 4.694836e-03</td><td> 4.694836e-03</td><td> 4.694836e-03</td></tr>\n",
       "\t<tr><td> 4.694836e-03</td><td> 4.694836e-03</td><td> 4.694836e-03</td></tr>\n",
       "\t<tr><td> 4.694836e-03</td><td> 4.694836e-03</td><td> 4.694836e-03</td></tr>\n",
       "</tbody>\n",
       "</table>\n"
      ],
      "text/latex": [
       "A matrix: 10 × 3 of type dbl\n",
       "\\begin{tabular}{lll}\n",
       "\t  3.333333e-01 &  3.333333e-01 &  3.333333e-01\\\\\n",
       "\t 6.349176e-142 & 6.349176e-142 & 6.349176e-142\\\\\n",
       "\t  3.333311e-01 &  3.333311e-01 &  3.333311e-01\\\\\n",
       "\t  1.788361e-11 &  1.788361e-11 &  1.788361e-11\\\\\n",
       "\t  8.156961e-02 &  8.156961e-02 &  8.156961e-02\\\\\n",
       "\t  4.694836e-03 &  4.694836e-03 &  4.694836e-03\\\\\n",
       "\t  4.694836e-03 &  4.694836e-03 &  4.694836e-03\\\\\n",
       "\t  4.694836e-03 &  4.694836e-03 &  4.694836e-03\\\\\n",
       "\t  4.694836e-03 &  4.694836e-03 &  4.694836e-03\\\\\n",
       "\t  4.694836e-03 &  4.694836e-03 &  4.694836e-03\\\\\n",
       "\\end{tabular}\n"
      ],
      "text/markdown": [
       "\n",
       "A matrix: 10 × 3 of type dbl\n",
       "\n",
       "|  3.333333e-01 |  3.333333e-01 |  3.333333e-01 |\n",
       "| 6.349176e-142 | 6.349176e-142 | 6.349176e-142 |\n",
       "|  3.333311e-01 |  3.333311e-01 |  3.333311e-01 |\n",
       "|  1.788361e-11 |  1.788361e-11 |  1.788361e-11 |\n",
       "|  8.156961e-02 |  8.156961e-02 |  8.156961e-02 |\n",
       "|  4.694836e-03 |  4.694836e-03 |  4.694836e-03 |\n",
       "|  4.694836e-03 |  4.694836e-03 |  4.694836e-03 |\n",
       "|  4.694836e-03 |  4.694836e-03 |  4.694836e-03 |\n",
       "|  4.694836e-03 |  4.694836e-03 |  4.694836e-03 |\n",
       "|  4.694836e-03 |  4.694836e-03 |  4.694836e-03 |\n",
       "\n"
      ],
      "text/plain": [
       "      [,1]          [,2]          [,3]         \n",
       " [1,]  3.333333e-01  3.333333e-01  3.333333e-01\n",
       " [2,] 6.349176e-142 6.349176e-142 6.349176e-142\n",
       " [3,]  3.333311e-01  3.333311e-01  3.333311e-01\n",
       " [4,]  1.788361e-11  1.788361e-11  1.788361e-11\n",
       " [5,]  8.156961e-02  8.156961e-02  8.156961e-02\n",
       " [6,]  4.694836e-03  4.694836e-03  4.694836e-03\n",
       " [7,]  4.694836e-03  4.694836e-03  4.694836e-03\n",
       " [8,]  4.694836e-03  4.694836e-03  4.694836e-03\n",
       " [9,]  4.694836e-03  4.694836e-03  4.694836e-03\n",
       "[10,]  4.694836e-03  4.694836e-03  4.694836e-03"
      ]
     },
     "metadata": {},
     "output_type": "display_data"
    }
   ],
   "source": [
    "result$alpha[,c(153,156,162)]"
   ]
  },
  {
   "cell_type": "code",
   "execution_count": 13,
   "metadata": {},
   "outputs": [
    {
     "data": {
      "text/html": [
       "<style>\n",
       ".list-inline {list-style: none; margin:0; padding: 0}\n",
       ".list-inline>li {display: inline-block}\n",
       ".list-inline>li:not(:last-child)::after {content: \"\\00b7\"; padding: 0 .5ex}\n",
       "</style>\n",
       "<ol class=list-inline><li>0.591807364084137</li><li>0.591807364084137</li><li>0.591807364084137</li></ol>\n"
      ],
      "text/latex": [
       "\\begin{enumerate*}\n",
       "\\item 0.591807364084137\n",
       "\\item 0.591807364084137\n",
       "\\item 0.591807364084137\n",
       "\\end{enumerate*}\n"
      ],
      "text/markdown": [
       "1. 0.591807364084137\n",
       "2. 0.591807364084137\n",
       "3. 0.591807364084137\n",
       "\n",
       "\n"
      ],
      "text/plain": [
       "[1] 0.5918074 0.5918074 0.5918074"
      ]
     },
     "metadata": {},
     "output_type": "display_data"
    }
   ],
   "source": [
    "result$pip[c(153,156,162)]"
   ]
  },
  {
   "cell_type": "markdown",
   "metadata": {},
   "source": [
    "Looking into the effect size,"
   ]
  },
  {
   "cell_type": "code",
   "execution_count": 17,
   "metadata": {},
   "outputs": [
    {
     "data": {
      "text/html": [
       "<style>\n",
       ".list-inline {list-style: none; margin:0; padding: 0}\n",
       ".list-inline>li {display: inline-block}\n",
       ".list-inline>li:not(:last-child)::after {content: \"\\00b7\"; padding: 0 .5ex}\n",
       "</style>\n",
       "<ol class=list-inline><li>0.127650809566136</li><li>0.127650809566136</li><li>0.127650809566136</li><li>0.127650809566136</li><li>0.127650809566136</li><li>0.127650809566136</li><li>0.127650809566136</li><li>0.127650809566136</li><li>0.127650809566136</li><li>0.127650809566136</li><li>0.127650809566136</li><li>0.127650809566136</li><li>0.127650809566136</li><li>0.127650809566136</li><li>0.127650809566136</li><li>0.127650809566136</li><li>0.127650809566136</li><li>0.127650809566136</li><li>0.127650809566136</li><li>0.127650809566136</li><li>0.127650809566136</li><li>0.127650809566136</li><li>0.127650809566136</li><li>0.127650809566136</li><li>0.127650809566136</li><li>0.127650809566136</li><li>0.127650809566136</li><li>0.127650809566136</li><li>0.127650809566136</li><li>0.127650809566136</li><li>0.127650809566136</li><li>0.127650809566136</li><li>0.127650809566136</li><li>0.127650809566136</li><li>0.127650809566136</li><li>0.127650809566136</li><li>0.127650809566136</li><li>0.127650809566136</li><li>0.127650809566136</li><li>0.127650809566136</li><li>0.127650809566136</li><li>0.127650809566136</li><li>0.127650809566136</li><li>0.127650809566136</li><li>0.127650809566136</li><li>0.127650809566136</li><li>0.127650809566136</li><li>0.127650809566136</li><li>0.127650809566136</li><li>0.127650809566136</li></ol>\n"
      ],
      "text/latex": [
       "\\begin{enumerate*}\n",
       "\\item 0.127650809566136\n",
       "\\item 0.127650809566136\n",
       "\\item 0.127650809566136\n",
       "\\item 0.127650809566136\n",
       "\\item 0.127650809566136\n",
       "\\item 0.127650809566136\n",
       "\\item 0.127650809566136\n",
       "\\item 0.127650809566136\n",
       "\\item 0.127650809566136\n",
       "\\item 0.127650809566136\n",
       "\\item 0.127650809566136\n",
       "\\item 0.127650809566136\n",
       "\\item 0.127650809566136\n",
       "\\item 0.127650809566136\n",
       "\\item 0.127650809566136\n",
       "\\item 0.127650809566136\n",
       "\\item 0.127650809566136\n",
       "\\item 0.127650809566136\n",
       "\\item 0.127650809566136\n",
       "\\item 0.127650809566136\n",
       "\\item 0.127650809566136\n",
       "\\item 0.127650809566136\n",
       "\\item 0.127650809566136\n",
       "\\item 0.127650809566136\n",
       "\\item 0.127650809566136\n",
       "\\item 0.127650809566136\n",
       "\\item 0.127650809566136\n",
       "\\item 0.127650809566136\n",
       "\\item 0.127650809566136\n",
       "\\item 0.127650809566136\n",
       "\\item 0.127650809566136\n",
       "\\item 0.127650809566136\n",
       "\\item 0.127650809566136\n",
       "\\item 0.127650809566136\n",
       "\\item 0.127650809566136\n",
       "\\item 0.127650809566136\n",
       "\\item 0.127650809566136\n",
       "\\item 0.127650809566136\n",
       "\\item 0.127650809566136\n",
       "\\item 0.127650809566136\n",
       "\\item 0.127650809566136\n",
       "\\item 0.127650809566136\n",
       "\\item 0.127650809566136\n",
       "\\item 0.127650809566136\n",
       "\\item 0.127650809566136\n",
       "\\item 0.127650809566136\n",
       "\\item 0.127650809566136\n",
       "\\item 0.127650809566136\n",
       "\\item 0.127650809566136\n",
       "\\item 0.127650809566136\n",
       "\\end{enumerate*}\n"
      ],
      "text/markdown": [
       "1. 0.127650809566136\n",
       "2. 0.127650809566136\n",
       "3. 0.127650809566136\n",
       "4. 0.127650809566136\n",
       "5. 0.127650809566136\n",
       "6. 0.127650809566136\n",
       "7. 0.127650809566136\n",
       "8. 0.127650809566136\n",
       "9. 0.127650809566136\n",
       "10. 0.127650809566136\n",
       "11. 0.127650809566136\n",
       "12. 0.127650809566136\n",
       "13. 0.127650809566136\n",
       "14. 0.127650809566136\n",
       "15. 0.127650809566136\n",
       "16. 0.127650809566136\n",
       "17. 0.127650809566136\n",
       "18. 0.127650809566136\n",
       "19. 0.127650809566136\n",
       "20. 0.127650809566136\n",
       "21. 0.127650809566136\n",
       "22. 0.127650809566136\n",
       "23. 0.127650809566136\n",
       "24. 0.127650809566136\n",
       "25. 0.127650809566136\n",
       "26. 0.127650809566136\n",
       "27. 0.127650809566136\n",
       "28. 0.127650809566136\n",
       "29. 0.127650809566136\n",
       "30. 0.127650809566136\n",
       "31. 0.127650809566136\n",
       "32. 0.127650809566136\n",
       "33. 0.127650809566136\n",
       "34. 0.127650809566136\n",
       "35. 0.127650809566136\n",
       "36. 0.127650809566136\n",
       "37. 0.127650809566136\n",
       "38. 0.127650809566136\n",
       "39. 0.127650809566136\n",
       "40. 0.127650809566136\n",
       "41. 0.127650809566136\n",
       "42. 0.127650809566136\n",
       "43. 0.127650809566136\n",
       "44. 0.127650809566136\n",
       "45. 0.127650809566136\n",
       "46. 0.127650809566136\n",
       "47. 0.127650809566136\n",
       "48. 0.127650809566136\n",
       "49. 0.127650809566136\n",
       "50. 0.127650809566136\n",
       "\n",
       "\n"
      ],
      "text/plain": [
       " [1] 0.1276508 0.1276508 0.1276508 0.1276508 0.1276508 0.1276508 0.1276508\n",
       " [8] 0.1276508 0.1276508 0.1276508 0.1276508 0.1276508 0.1276508 0.1276508\n",
       "[15] 0.1276508 0.1276508 0.1276508 0.1276508 0.1276508 0.1276508 0.1276508\n",
       "[22] 0.1276508 0.1276508 0.1276508 0.1276508 0.1276508 0.1276508 0.1276508\n",
       "[29] 0.1276508 0.1276508 0.1276508 0.1276508 0.1276508 0.1276508 0.1276508\n",
       "[36] 0.1276508 0.1276508 0.1276508 0.1276508 0.1276508 0.1276508 0.1276508\n",
       "[43] 0.1276508 0.1276508 0.1276508 0.1276508 0.1276508 0.1276508 0.1276508\n",
       "[50] 0.1276508"
      ]
     },
     "metadata": {},
     "output_type": "display_data"
    }
   ],
   "source": [
    "result$coef[130,]"
   ]
  },
  {
   "cell_type": "code",
   "execution_count": 33,
   "metadata": {},
   "outputs": [
    {
     "data": {
      "text/html": [
       "<style>\n",
       ".list-inline {list-style: none; margin:0; padding: 0}\n",
       ".list-inline>li {display: inline-block}\n",
       ".list-inline>li:not(:last-child)::after {content: \"\\00b7\"; padding: 0 .5ex}\n",
       "</style>\n",
       "<ol class=list-inline><li>-0.451579520293967</li><li>0.212362419670355</li><li>-0.23139926245904</li><li>1.29082044865503</li><li>-0.139192877987568</li><li>0.45860797023633</li><li>1.19081004850437</li><li>0.519507177038623</li><li>-0.444040958330359</li><li>0.552882389431176</li><li>1.02044255171292</li><li>-0.671814615437313</li><li>0.648295380611219</li><li>0.904728920517463</li><li>0.56318766496157</li><li>-0.380772279580034</li><li>0.349855351519188</li><li>-0.333712926727966</li><li>0.351859726264355</li><li>0.0755333676724879</li><li>1.7465511006099</li><li>0.132764293589086</li><li>0.790278763571395</li><li>1.74287183971923</li><li>-0.357770774475342</li><li>-0.0669878126419395</li><li>0.984384930972871</li><li>1.34967007988781</li><li>0.653897431049535</li><li>0.286275590107287</li><li>0.373163107935322</li><li>0.725860516251139</li><li>0.45548786043258</li><li>1.25877287508022</li><li>0.389427756565688</li><li>-0.534945131447272</li><li>0.177056489702033</li><li>-0.403823956895729</li><li>0.0192486701159794</li><li>-0.152833418179631</li><li>0.807454176367542</li><li>1.16550009635113</li><li>0.556354264855155</li><li>0.411866111150109</li><li>-0.453984697496325</li><li>-0.354563471973746</li><li>0.595394391140776</li><li>-0.701367761799491</li><li>1.04218255084502</li><li>1.26042124189206</li></ol>\n"
      ],
      "text/latex": [
       "\\begin{enumerate*}\n",
       "\\item -0.451579520293967\n",
       "\\item 0.212362419670355\n",
       "\\item -0.23139926245904\n",
       "\\item 1.29082044865503\n",
       "\\item -0.139192877987568\n",
       "\\item 0.45860797023633\n",
       "\\item 1.19081004850437\n",
       "\\item 0.519507177038623\n",
       "\\item -0.444040958330359\n",
       "\\item 0.552882389431176\n",
       "\\item 1.02044255171292\n",
       "\\item -0.671814615437313\n",
       "\\item 0.648295380611219\n",
       "\\item 0.904728920517463\n",
       "\\item 0.56318766496157\n",
       "\\item -0.380772279580034\n",
       "\\item 0.349855351519188\n",
       "\\item -0.333712926727966\n",
       "\\item 0.351859726264355\n",
       "\\item 0.0755333676724879\n",
       "\\item 1.7465511006099\n",
       "\\item 0.132764293589086\n",
       "\\item 0.790278763571395\n",
       "\\item 1.74287183971923\n",
       "\\item -0.357770774475342\n",
       "\\item -0.0669878126419395\n",
       "\\item 0.984384930972871\n",
       "\\item 1.34967007988781\n",
       "\\item 0.653897431049535\n",
       "\\item 0.286275590107287\n",
       "\\item 0.373163107935322\n",
       "\\item 0.725860516251139\n",
       "\\item 0.45548786043258\n",
       "\\item 1.25877287508022\n",
       "\\item 0.389427756565688\n",
       "\\item -0.534945131447272\n",
       "\\item 0.177056489702033\n",
       "\\item -0.403823956895729\n",
       "\\item 0.0192486701159794\n",
       "\\item -0.152833418179631\n",
       "\\item 0.807454176367542\n",
       "\\item 1.16550009635113\n",
       "\\item 0.556354264855155\n",
       "\\item 0.411866111150109\n",
       "\\item -0.453984697496325\n",
       "\\item -0.354563471973746\n",
       "\\item 0.595394391140776\n",
       "\\item -0.701367761799491\n",
       "\\item 1.04218255084502\n",
       "\\item 1.26042124189206\n",
       "\\end{enumerate*}\n"
      ],
      "text/markdown": [
       "1. -0.451579520293967\n",
       "2. 0.212362419670355\n",
       "3. -0.23139926245904\n",
       "4. 1.29082044865503\n",
       "5. -0.139192877987568\n",
       "6. 0.45860797023633\n",
       "7. 1.19081004850437\n",
       "8. 0.519507177038623\n",
       "9. -0.444040958330359\n",
       "10. 0.552882389431176\n",
       "11. 1.02044255171292\n",
       "12. -0.671814615437313\n",
       "13. 0.648295380611219\n",
       "14. 0.904728920517463\n",
       "15. 0.56318766496157\n",
       "16. -0.380772279580034\n",
       "17. 0.349855351519188\n",
       "18. -0.333712926727966\n",
       "19. 0.351859726264355\n",
       "20. 0.0755333676724879\n",
       "21. 1.7465511006099\n",
       "22. 0.132764293589086\n",
       "23. 0.790278763571395\n",
       "24. 1.74287183971923\n",
       "25. -0.357770774475342\n",
       "26. -0.0669878126419395\n",
       "27. 0.984384930972871\n",
       "28. 1.34967007988781\n",
       "29. 0.653897431049535\n",
       "30. 0.286275590107287\n",
       "31. 0.373163107935322\n",
       "32. 0.725860516251139\n",
       "33. 0.45548786043258\n",
       "34. 1.25877287508022\n",
       "35. 0.389427756565688\n",
       "36. -0.534945131447272\n",
       "37. 0.177056489702033\n",
       "38. -0.403823956895729\n",
       "39. 0.0192486701159794\n",
       "40. -0.152833418179631\n",
       "41. 0.807454176367542\n",
       "42. 1.16550009635113\n",
       "43. 0.556354264855155\n",
       "44. 0.411866111150109\n",
       "45. -0.453984697496325\n",
       "46. -0.354563471973746\n",
       "47. 0.595394391140776\n",
       "48. -0.701367761799491\n",
       "49. 1.04218255084502\n",
       "50. 1.26042124189206\n",
       "\n",
       "\n"
      ],
      "text/plain": [
       " [1] -0.45157952  0.21236242 -0.23139926  1.29082045 -0.13919288  0.45860797\n",
       " [7]  1.19081005  0.51950718 -0.44404096  0.55288239  1.02044255 -0.67181462\n",
       "[13]  0.64829538  0.90472892  0.56318766 -0.38077228  0.34985535 -0.33371293\n",
       "[19]  0.35185973  0.07553337  1.74655110  0.13276429  0.79027876  1.74287184\n",
       "[25] -0.35777077 -0.06698781  0.98438493  1.34967008  0.65389743  0.28627559\n",
       "[31]  0.37316311  0.72586052  0.45548786  1.25877288  0.38942776 -0.53494513\n",
       "[37]  0.17705649 -0.40382396  0.01924867 -0.15283342  0.80745418  1.16550010\n",
       "[43]  0.55635426  0.41186611 -0.45398470 -0.35456347  0.59539439 -0.70136776\n",
       "[49]  1.04218255  1.26042124"
      ]
     },
     "metadata": {},
     "output_type": "display_data"
    }
   ],
   "source": [
    "meta$true_coef[129,]"
   ]
  },
  {
   "cell_type": "markdown",
   "metadata": {},
   "source": [
    "and 2nd moment of the estimated effect size, "
   ]
  },
  {
   "cell_type": "code",
   "execution_count": 19,
   "metadata": {},
   "outputs": [
    {
     "data": {
      "text/html": [
       "0.0162924351076161"
      ],
      "text/latex": [
       "0.0162924351076161"
      ],
      "text/markdown": [
       "0.0162924351076161"
      ],
      "text/plain": [
       "[1] 0.01629244"
      ]
     },
     "metadata": {},
     "output_type": "display_data"
    }
   ],
   "source": [
    "tcrossprod(result$coef[130,])[1,1]"
   ]
  },
  {
   "cell_type": "code",
   "execution_count": 16,
   "metadata": {},
   "outputs": [
    {
     "data": {
      "text/html": [
       "0.0162924351076161"
      ],
      "text/latex": [
       "0.0162924351076161"
      ],
      "text/markdown": [
       "0.0162924351076161"
      ],
      "text/plain": [
       "[1] 0.01629244"
      ]
     },
     "metadata": {},
     "output_type": "display_data"
    }
   ],
   "source": [
    "sum(diag(tcrossprod(result$coef[130,])))/50"
   ]
  },
  {
   "cell_type": "markdown",
   "metadata": {},
   "source": [
    "So the estimated `V` should be about this scale for the first effect."
   ]
  },
  {
   "cell_type": "code",
   "execution_count": 24,
   "metadata": {},
   "outputs": [
    {
     "data": {
      "text/html": [
       "<table>\n",
       "<caption>A matrix: 6 × 50 of type dbl</caption>\n",
       "<tbody>\n",
       "\t<tr><td>0.127650810</td><td>0.127650810</td><td>0.127650810</td><td>0.127650810</td><td>0.127650810</td><td>0.127650810</td><td>0.127650810</td><td>0.127650810</td><td>0.127650810</td><td>0.127650810</td><td>⋯</td><td>0.127650810</td><td>0.127650810</td><td>0.127650810</td><td>0.127650810</td><td>0.127650810</td><td>0.127650810</td><td>0.127650810</td><td>0.127650810</td><td>0.127650810</td><td>0.127650810</td></tr>\n",
       "\t<tr><td>0.006085951</td><td>0.006085951</td><td>0.006085951</td><td>0.006085951</td><td>0.006085951</td><td>0.006085951</td><td>0.006085951</td><td>0.006085951</td><td>0.006085951</td><td>0.006085951</td><td>⋯</td><td>0.006085951</td><td>0.006085951</td><td>0.006085951</td><td>0.006085951</td><td>0.006085951</td><td>0.006085951</td><td>0.006085951</td><td>0.006085951</td><td>0.006085951</td><td>0.006085951</td></tr>\n",
       "\t<tr><td>0.006085951</td><td>0.006085951</td><td>0.006085951</td><td>0.006085951</td><td>0.006085951</td><td>0.006085951</td><td>0.006085951</td><td>0.006085951</td><td>0.006085951</td><td>0.006085951</td><td>⋯</td><td>0.006085951</td><td>0.006085951</td><td>0.006085951</td><td>0.006085951</td><td>0.006085951</td><td>0.006085951</td><td>0.006085951</td><td>0.006085951</td><td>0.006085951</td><td>0.006085951</td></tr>\n",
       "\t<tr><td>0.006085951</td><td>0.006085951</td><td>0.006085951</td><td>0.006085951</td><td>0.006085951</td><td>0.006085951</td><td>0.006085951</td><td>0.006085951</td><td>0.006085951</td><td>0.006085951</td><td>⋯</td><td>0.006085951</td><td>0.006085951</td><td>0.006085951</td><td>0.006085951</td><td>0.006085951</td><td>0.006085951</td><td>0.006085951</td><td>0.006085951</td><td>0.006085951</td><td>0.006085951</td></tr>\n",
       "\t<tr><td>0.006085951</td><td>0.006085951</td><td>0.006085951</td><td>0.006085951</td><td>0.006085951</td><td>0.006085951</td><td>0.006085951</td><td>0.006085951</td><td>0.006085951</td><td>0.006085951</td><td>⋯</td><td>0.006085951</td><td>0.006085951</td><td>0.006085951</td><td>0.006085951</td><td>0.006085951</td><td>0.006085951</td><td>0.006085951</td><td>0.006085951</td><td>0.006085951</td><td>0.006085951</td></tr>\n",
       "\t<tr><td>0.006085951</td><td>0.006085951</td><td>0.006085951</td><td>0.006085951</td><td>0.006085951</td><td>0.006085951</td><td>0.006085951</td><td>0.006085951</td><td>0.006085951</td><td>0.006085951</td><td>⋯</td><td>0.006085951</td><td>0.006085951</td><td>0.006085951</td><td>0.006085951</td><td>0.006085951</td><td>0.006085951</td><td>0.006085951</td><td>0.006085951</td><td>0.006085951</td><td>0.006085951</td></tr>\n",
       "</tbody>\n",
       "</table>\n"
      ],
      "text/latex": [
       "A matrix: 6 × 50 of type dbl\n",
       "\\begin{tabular}{lllllllllllllllllllll}\n",
       "\t 0.127650810 & 0.127650810 & 0.127650810 & 0.127650810 & 0.127650810 & 0.127650810 & 0.127650810 & 0.127650810 & 0.127650810 & 0.127650810 & ⋯ & 0.127650810 & 0.127650810 & 0.127650810 & 0.127650810 & 0.127650810 & 0.127650810 & 0.127650810 & 0.127650810 & 0.127650810 & 0.127650810\\\\\n",
       "\t 0.006085951 & 0.006085951 & 0.006085951 & 0.006085951 & 0.006085951 & 0.006085951 & 0.006085951 & 0.006085951 & 0.006085951 & 0.006085951 & ⋯ & 0.006085951 & 0.006085951 & 0.006085951 & 0.006085951 & 0.006085951 & 0.006085951 & 0.006085951 & 0.006085951 & 0.006085951 & 0.006085951\\\\\n",
       "\t 0.006085951 & 0.006085951 & 0.006085951 & 0.006085951 & 0.006085951 & 0.006085951 & 0.006085951 & 0.006085951 & 0.006085951 & 0.006085951 & ⋯ & 0.006085951 & 0.006085951 & 0.006085951 & 0.006085951 & 0.006085951 & 0.006085951 & 0.006085951 & 0.006085951 & 0.006085951 & 0.006085951\\\\\n",
       "\t 0.006085951 & 0.006085951 & 0.006085951 & 0.006085951 & 0.006085951 & 0.006085951 & 0.006085951 & 0.006085951 & 0.006085951 & 0.006085951 & ⋯ & 0.006085951 & 0.006085951 & 0.006085951 & 0.006085951 & 0.006085951 & 0.006085951 & 0.006085951 & 0.006085951 & 0.006085951 & 0.006085951\\\\\n",
       "\t 0.006085951 & 0.006085951 & 0.006085951 & 0.006085951 & 0.006085951 & 0.006085951 & 0.006085951 & 0.006085951 & 0.006085951 & 0.006085951 & ⋯ & 0.006085951 & 0.006085951 & 0.006085951 & 0.006085951 & 0.006085951 & 0.006085951 & 0.006085951 & 0.006085951 & 0.006085951 & 0.006085951\\\\\n",
       "\t 0.006085951 & 0.006085951 & 0.006085951 & 0.006085951 & 0.006085951 & 0.006085951 & 0.006085951 & 0.006085951 & 0.006085951 & 0.006085951 & ⋯ & 0.006085951 & 0.006085951 & 0.006085951 & 0.006085951 & 0.006085951 & 0.006085951 & 0.006085951 & 0.006085951 & 0.006085951 & 0.006085951\\\\\n",
       "\\end{tabular}\n"
      ],
      "text/markdown": [
       "\n",
       "A matrix: 6 × 50 of type dbl\n",
       "\n",
       "| 0.127650810 | 0.127650810 | 0.127650810 | 0.127650810 | 0.127650810 | 0.127650810 | 0.127650810 | 0.127650810 | 0.127650810 | 0.127650810 | ⋯ | 0.127650810 | 0.127650810 | 0.127650810 | 0.127650810 | 0.127650810 | 0.127650810 | 0.127650810 | 0.127650810 | 0.127650810 | 0.127650810 |\n",
       "| 0.006085951 | 0.006085951 | 0.006085951 | 0.006085951 | 0.006085951 | 0.006085951 | 0.006085951 | 0.006085951 | 0.006085951 | 0.006085951 | ⋯ | 0.006085951 | 0.006085951 | 0.006085951 | 0.006085951 | 0.006085951 | 0.006085951 | 0.006085951 | 0.006085951 | 0.006085951 | 0.006085951 |\n",
       "| 0.006085951 | 0.006085951 | 0.006085951 | 0.006085951 | 0.006085951 | 0.006085951 | 0.006085951 | 0.006085951 | 0.006085951 | 0.006085951 | ⋯ | 0.006085951 | 0.006085951 | 0.006085951 | 0.006085951 | 0.006085951 | 0.006085951 | 0.006085951 | 0.006085951 | 0.006085951 | 0.006085951 |\n",
       "| 0.006085951 | 0.006085951 | 0.006085951 | 0.006085951 | 0.006085951 | 0.006085951 | 0.006085951 | 0.006085951 | 0.006085951 | 0.006085951 | ⋯ | 0.006085951 | 0.006085951 | 0.006085951 | 0.006085951 | 0.006085951 | 0.006085951 | 0.006085951 | 0.006085951 | 0.006085951 | 0.006085951 |\n",
       "| 0.006085951 | 0.006085951 | 0.006085951 | 0.006085951 | 0.006085951 | 0.006085951 | 0.006085951 | 0.006085951 | 0.006085951 | 0.006085951 | ⋯ | 0.006085951 | 0.006085951 | 0.006085951 | 0.006085951 | 0.006085951 | 0.006085951 | 0.006085951 | 0.006085951 | 0.006085951 | 0.006085951 |\n",
       "| 0.006085951 | 0.006085951 | 0.006085951 | 0.006085951 | 0.006085951 | 0.006085951 | 0.006085951 | 0.006085951 | 0.006085951 | 0.006085951 | ⋯ | 0.006085951 | 0.006085951 | 0.006085951 | 0.006085951 | 0.006085951 | 0.006085951 | 0.006085951 | 0.006085951 | 0.006085951 | 0.006085951 |\n",
       "\n"
      ],
      "text/plain": [
       "     [,1]        [,2]        [,3]        [,4]        [,5]        [,6]       \n",
       "[1,] 0.127650810 0.127650810 0.127650810 0.127650810 0.127650810 0.127650810\n",
       "[2,] 0.006085951 0.006085951 0.006085951 0.006085951 0.006085951 0.006085951\n",
       "[3,] 0.006085951 0.006085951 0.006085951 0.006085951 0.006085951 0.006085951\n",
       "[4,] 0.006085951 0.006085951 0.006085951 0.006085951 0.006085951 0.006085951\n",
       "[5,] 0.006085951 0.006085951 0.006085951 0.006085951 0.006085951 0.006085951\n",
       "[6,] 0.006085951 0.006085951 0.006085951 0.006085951 0.006085951 0.006085951\n",
       "     [,7]        [,8]        [,9]        [,10]       [,11] [,12]      \n",
       "[1,] 0.127650810 0.127650810 0.127650810 0.127650810 ⋯     0.127650810\n",
       "[2,] 0.006085951 0.006085951 0.006085951 0.006085951 ⋯     0.006085951\n",
       "[3,] 0.006085951 0.006085951 0.006085951 0.006085951 ⋯     0.006085951\n",
       "[4,] 0.006085951 0.006085951 0.006085951 0.006085951 ⋯     0.006085951\n",
       "[5,] 0.006085951 0.006085951 0.006085951 0.006085951 ⋯     0.006085951\n",
       "[6,] 0.006085951 0.006085951 0.006085951 0.006085951 ⋯     0.006085951\n",
       "     [,13]       [,14]       [,15]       [,16]       [,17]       [,18]      \n",
       "[1,] 0.127650810 0.127650810 0.127650810 0.127650810 0.127650810 0.127650810\n",
       "[2,] 0.006085951 0.006085951 0.006085951 0.006085951 0.006085951 0.006085951\n",
       "[3,] 0.006085951 0.006085951 0.006085951 0.006085951 0.006085951 0.006085951\n",
       "[4,] 0.006085951 0.006085951 0.006085951 0.006085951 0.006085951 0.006085951\n",
       "[5,] 0.006085951 0.006085951 0.006085951 0.006085951 0.006085951 0.006085951\n",
       "[6,] 0.006085951 0.006085951 0.006085951 0.006085951 0.006085951 0.006085951\n",
       "     [,19]       [,20]       [,21]      \n",
       "[1,] 0.127650810 0.127650810 0.127650810\n",
       "[2,] 0.006085951 0.006085951 0.006085951\n",
       "[3,] 0.006085951 0.006085951 0.006085951\n",
       "[4,] 0.006085951 0.006085951 0.006085951\n",
       "[5,] 0.006085951 0.006085951 0.006085951\n",
       "[6,] 0.006085951 0.006085951 0.006085951"
      ]
     },
     "metadata": {},
     "output_type": "display_data"
    }
   ],
   "source": [
    "result$coef[result$sets$cs$L4+1,]"
   ]
  },
  {
   "cell_type": "markdown",
   "metadata": {},
   "source": [
    "## `optim` result\n",
    "\n",
    "It takes long time to compute, but the PIP is cleaner. The estimated prior scalar is also smaller."
   ]
  },
  {
   "cell_type": "code",
   "execution_count": 8,
   "metadata": {},
   "outputs": [],
   "source": [
    "result2 = msusie(X, Y, L=L, prior_variance=matrix(1,50,50), residual_variance=resid_Y, compute_objective=T, estimate_residual_variance=F, estimate_prior_variance=T, \n",
    "                estimate_prior_method='optim', track_fit=T, precompute_covariances=F)"
   ]
  },
  {
   "cell_type": "code",
   "execution_count": 9,
   "metadata": {},
   "outputs": [
    {
     "data": {
      "text/html": [
       "<style>\n",
       ".list-inline {list-style: none; margin:0; padding: 0}\n",
       ".list-inline>li {display: inline-block}\n",
       ".list-inline>li:not(:last-child)::after {content: \"\\00b7\"; padding: 0 .5ex}\n",
       "</style>\n",
       "<ol class=list-inline><li>0.000755795213844379</li><li>0.000929637524553294</li><li>0.000261454666168821</li><li>0</li><li>0</li><li>0</li><li>0</li><li>0</li><li>0</li><li>0</li></ol>\n"
      ],
      "text/latex": [
       "\\begin{enumerate*}\n",
       "\\item 0.000755795213844379\n",
       "\\item 0.000929637524553294\n",
       "\\item 0.000261454666168821\n",
       "\\item 0\n",
       "\\item 0\n",
       "\\item 0\n",
       "\\item 0\n",
       "\\item 0\n",
       "\\item 0\n",
       "\\item 0\n",
       "\\end{enumerate*}\n"
      ],
      "text/markdown": [
       "1. 0.000755795213844379\n",
       "2. 0.000929637524553294\n",
       "3. 0.000261454666168821\n",
       "4. 0\n",
       "5. 0\n",
       "6. 0\n",
       "7. 0\n",
       "8. 0\n",
       "9. 0\n",
       "10. 0\n",
       "\n",
       "\n"
      ],
      "text/plain": [
       " [1] 0.0007557952 0.0009296375 0.0002614547 0.0000000000 0.0000000000\n",
       " [6] 0.0000000000 0.0000000000 0.0000000000 0.0000000000 0.0000000000"
      ]
     },
     "metadata": {},
     "output_type": "display_data"
    }
   ],
   "source": [
    "result2$V"
   ]
  },
  {
   "cell_type": "code",
   "execution_count": 10,
   "metadata": {},
   "outputs": [
    {
     "data": {
      "image/png": "[encoded data removed]",
      "text/plain": [
       "plot without title"
      ]
     },
     "metadata": {
      "image/png": {
       "height": 420,
       "width": 420
      },
      "text/plain": {
       "height": 420,
       "width": 420
      }
     },
     "output_type": "display_data"
    }
   ],
   "source": [
    "susieR::susie_plot(result2, y='PIP', b=rowSums(meta$true_coef))"
   ]
  },
  {
   "cell_type": "code",
   "execution_count": 20,
   "metadata": {},
   "outputs": [
    {
     "data": {
      "text/html": [
       "<dl>\n",
       "\t<dt>$cs</dt>\n",
       "\t\t<dd><dl>\n",
       "\t<dt>$L1</dt>\n",
       "\t\t<dd><style>\n",
       ".list-inline {list-style: none; margin:0; padding: 0}\n",
       ".list-inline>li {display: inline-block}\n",
       ".list-inline>li:not(:last-child)::after {content: \"\\00b7\"; padding: 0 .5ex}\n",
       "</style>\n",
       "<ol class=list-inline><li>153</li><li>156</li><li>162</li></ol>\n",
       "</dd>\n",
       "\t<dt>$L2</dt>\n",
       "\t\t<dd>129</dd>\n",
       "</dl>\n",
       "</dd>\n",
       "\t<dt>$purity</dt>\n",
       "\t\t<dd><table>\n",
       "<caption>A data.frame: 2 × 3</caption>\n",
       "<thead>\n",
       "\t<tr><th></th><th scope=col>min.abs.corr</th><th scope=col>mean.abs.corr</th><th scope=col>median.abs.corr</th></tr>\n",
       "\t<tr><th></th><th scope=col>&lt;dbl&gt;</th><th scope=col>&lt;dbl&gt;</th><th scope=col>&lt;dbl&gt;</th></tr>\n",
       "</thead>\n",
       "<tbody>\n",
       "\t<tr><th scope=row>L1</th><td>1</td><td>1</td><td>1</td></tr>\n",
       "\t<tr><th scope=row>L2</th><td>1</td><td>1</td><td>1</td></tr>\n",
       "</tbody>\n",
       "</table>\n",
       "</dd>\n",
       "\t<dt>$cs_index</dt>\n",
       "\t\t<dd><style>\n",
       ".list-inline {list-style: none; margin:0; padding: 0}\n",
       ".list-inline>li {display: inline-block}\n",
       ".list-inline>li:not(:last-child)::after {content: \"\\00b7\"; padding: 0 .5ex}\n",
       "</style>\n",
       "<ol class=list-inline><li>1</li><li>2</li></ol>\n",
       "</dd>\n",
       "\t<dt>$coverage</dt>\n",
       "\t\t<dd>0.95</dd>\n",
       "</dl>\n"
      ],
      "text/latex": [
       "\\begin{description}\n",
       "\\item[\\$cs] \\begin{description}\n",
       "\\item[\\$L1] \\begin{enumerate*}\n",
       "\\item 153\n",
       "\\item 156\n",
       "\\item 162\n",
       "\\end{enumerate*}\n",
       "\n",
       "\\item[\\$L2] 129\n",
       "\\end{description}\n",
       "\n",
       "\\item[\\$purity] A data.frame: 2 × 3\n",
       "\\begin{tabular}{r|lll}\n",
       "  & min.abs.corr & mean.abs.corr & median.abs.corr\\\\\n",
       "  & <dbl> & <dbl> & <dbl>\\\\\n",
       "\\hline\n",
       "\tL1 & 1 & 1 & 1\\\\\n",
       "\tL2 & 1 & 1 & 1\\\\\n",
       "\\end{tabular}\n",
       "\n",
       "\\item[\\$cs\\_index] \\begin{enumerate*}\n",
       "\\item 1\n",
       "\\item 2\n",
       "\\end{enumerate*}\n",
       "\n",
       "\\item[\\$coverage] 0.95\n",
       "\\end{description}\n"
      ],
      "text/markdown": [
       "$cs\n",
       ":   $L1\n",
       ":   1. 153\n",
       "2. 156\n",
       "3. 162\n",
       "\n",
       "\n",
       "\n",
       "$L2\n",
       ":   129\n",
       "\n",
       "\n",
       "\n",
       "$purity\n",
       ":   \n",
       "A data.frame: 2 × 3\n",
       "\n",
       "| <!--/--> | min.abs.corr &lt;dbl&gt; | mean.abs.corr &lt;dbl&gt; | median.abs.corr &lt;dbl&gt; |\n",
       "|---|---|---|---|\n",
       "| L1 | 1 | 1 | 1 |\n",
       "| L2 | 1 | 1 | 1 |\n",
       "\n",
       "\n",
       "$cs_index\n",
       ":   1. 1\n",
       "2. 2\n",
       "\n",
       "\n",
       "\n",
       "$coverage\n",
       ":   0.95\n",
       "\n",
       "\n"
      ],
      "text/plain": [
       "$cs\n",
       "$cs$L1\n",
       "[1] 153 156 162\n",
       "\n",
       "$cs$L2\n",
       "[1] 129\n",
       "\n",
       "\n",
       "$purity\n",
       "   min.abs.corr mean.abs.corr median.abs.corr\n",
       "L1            1             1               1\n",
       "L2            1             1               1\n",
       "\n",
       "$cs_index\n",
       "[1] 1 2\n",
       "\n",
       "$coverage\n",
       "[1] 0.95\n"
      ]
     },
     "metadata": {},
     "output_type": "display_data"
    }
   ],
   "source": [
    "result2$sets"
   ]
  },
  {
   "cell_type": "code",
   "execution_count": 18,
   "metadata": {},
   "outputs": [
    {
     "data": {
      "text/html": [
       "<table>\n",
       "<caption>A matrix: 10 × 3 of type dbl</caption>\n",
       "<tbody>\n",
       "\t<tr><td> 3.333333e-01</td><td> 3.333333e-01</td><td> 3.333333e-01</td></tr>\n",
       "\t<tr><td>1.447861e-221</td><td>1.447861e-221</td><td>1.447861e-221</td></tr>\n",
       "\t<tr><td> 3.332946e-01</td><td> 3.332946e-01</td><td> 3.332946e-01</td></tr>\n",
       "\t<tr><td> 4.694836e-03</td><td> 4.694836e-03</td><td> 4.694836e-03</td></tr>\n",
       "\t<tr><td> 4.694836e-03</td><td> 4.694836e-03</td><td> 4.694836e-03</td></tr>\n",
       "\t<tr><td> 4.694836e-03</td><td> 4.694836e-03</td><td> 4.694836e-03</td></tr>\n",
       "\t<tr><td> 4.694836e-03</td><td> 4.694836e-03</td><td> 4.694836e-03</td></tr>\n",
       "\t<tr><td> 4.694836e-03</td><td> 4.694836e-03</td><td> 4.694836e-03</td></tr>\n",
       "\t<tr><td> 4.694836e-03</td><td> 4.694836e-03</td><td> 4.694836e-03</td></tr>\n",
       "\t<tr><td> 4.694836e-03</td><td> 4.694836e-03</td><td> 4.694836e-03</td></tr>\n",
       "</tbody>\n",
       "</table>\n"
      ],
      "text/latex": [
       "A matrix: 10 × 3 of type dbl\n",
       "\\begin{tabular}{lll}\n",
       "\t  3.333333e-01 &  3.333333e-01 &  3.333333e-01\\\\\n",
       "\t 1.447861e-221 & 1.447861e-221 & 1.447861e-221\\\\\n",
       "\t  3.332946e-01 &  3.332946e-01 &  3.332946e-01\\\\\n",
       "\t  4.694836e-03 &  4.694836e-03 &  4.694836e-03\\\\\n",
       "\t  4.694836e-03 &  4.694836e-03 &  4.694836e-03\\\\\n",
       "\t  4.694836e-03 &  4.694836e-03 &  4.694836e-03\\\\\n",
       "\t  4.694836e-03 &  4.694836e-03 &  4.694836e-03\\\\\n",
       "\t  4.694836e-03 &  4.694836e-03 &  4.694836e-03\\\\\n",
       "\t  4.694836e-03 &  4.694836e-03 &  4.694836e-03\\\\\n",
       "\t  4.694836e-03 &  4.694836e-03 &  4.694836e-03\\\\\n",
       "\\end{tabular}\n"
      ],
      "text/markdown": [
       "\n",
       "A matrix: 10 × 3 of type dbl\n",
       "\n",
       "|  3.333333e-01 |  3.333333e-01 |  3.333333e-01 |\n",
       "| 1.447861e-221 | 1.447861e-221 | 1.447861e-221 |\n",
       "|  3.332946e-01 |  3.332946e-01 |  3.332946e-01 |\n",
       "|  4.694836e-03 |  4.694836e-03 |  4.694836e-03 |\n",
       "|  4.694836e-03 |  4.694836e-03 |  4.694836e-03 |\n",
       "|  4.694836e-03 |  4.694836e-03 |  4.694836e-03 |\n",
       "|  4.694836e-03 |  4.694836e-03 |  4.694836e-03 |\n",
       "|  4.694836e-03 |  4.694836e-03 |  4.694836e-03 |\n",
       "|  4.694836e-03 |  4.694836e-03 |  4.694836e-03 |\n",
       "|  4.694836e-03 |  4.694836e-03 |  4.694836e-03 |\n",
       "\n"
      ],
      "text/plain": [
       "      [,1]          [,2]          [,3]         \n",
       " [1,]  3.333333e-01  3.333333e-01  3.333333e-01\n",
       " [2,] 1.447861e-221 1.447861e-221 1.447861e-221\n",
       " [3,]  3.332946e-01  3.332946e-01  3.332946e-01\n",
       " [4,]  4.694836e-03  4.694836e-03  4.694836e-03\n",
       " [5,]  4.694836e-03  4.694836e-03  4.694836e-03\n",
       " [6,]  4.694836e-03  4.694836e-03  4.694836e-03\n",
       " [7,]  4.694836e-03  4.694836e-03  4.694836e-03\n",
       " [8,]  4.694836e-03  4.694836e-03  4.694836e-03\n",
       " [9,]  4.694836e-03  4.694836e-03  4.694836e-03\n",
       "[10,]  4.694836e-03  4.694836e-03  4.694836e-03"
      ]
     },
     "metadata": {},
     "output_type": "display_data"
    }
   ],
   "source": [
    "result2$alpha[,c(153,156,162)]"
   ]
  },
  {
   "cell_type": "markdown",
   "metadata": {},
   "source": [
    "It seems to have the same issue that the first and the 3rd effects are overlapping. But because they are identical CS, we only kept one of them. "
   ]
  },
  {
   "cell_type": "code",
   "execution_count": 28,
   "metadata": {},
   "outputs": [
    {
     "data": {
      "text/html": [
       "<dl>\n",
       "\t<dt>$cs</dt>\n",
       "\t\t<dd><dl>\n",
       "\t<dt>$L1</dt>\n",
       "\t\t<dd><style>\n",
       ".list-inline {list-style: none; margin:0; padding: 0}\n",
       ".list-inline>li {display: inline-block}\n",
       ".list-inline>li:not(:last-child)::after {content: \"\\00b7\"; padding: 0 .5ex}\n",
       "</style>\n",
       "<ol class=list-inline><li>153</li><li>156</li><li>162</li></ol>\n",
       "</dd>\n",
       "\t<dt>$L2</dt>\n",
       "\t\t<dd>129</dd>\n",
       "\t<dt>$L3</dt>\n",
       "\t\t<dd><style>\n",
       ".list-inline {list-style: none; margin:0; padding: 0}\n",
       ".list-inline>li {display: inline-block}\n",
       ".list-inline>li:not(:last-child)::after {content: \"\\00b7\"; padding: 0 .5ex}\n",
       "</style>\n",
       "<ol class=list-inline><li>153</li><li>156</li><li>162</li></ol>\n",
       "</dd>\n",
       "</dl>\n",
       "</dd>\n",
       "\t<dt>$coverage</dt>\n",
       "\t\t<dd>0.95</dd>\n",
       "</dl>\n"
      ],
      "text/latex": [
       "\\begin{description}\n",
       "\\item[\\$cs] \\begin{description}\n",
       "\\item[\\$L1] \\begin{enumerate*}\n",
       "\\item 153\n",
       "\\item 156\n",
       "\\item 162\n",
       "\\end{enumerate*}\n",
       "\n",
       "\\item[\\$L2] 129\n",
       "\\item[\\$L3] \\begin{enumerate*}\n",
       "\\item 153\n",
       "\\item 156\n",
       "\\item 162\n",
       "\\end{enumerate*}\n",
       "\n",
       "\\end{description}\n",
       "\n",
       "\\item[\\$coverage] 0.95\n",
       "\\end{description}\n"
      ],
      "text/markdown": [
       "$cs\n",
       ":   $L1\n",
       ":   1. 153\n",
       "2. 156\n",
       "3. 162\n",
       "\n",
       "\n",
       "\n",
       "$L2\n",
       ":   129\n",
       "$L3\n",
       ":   1. 153\n",
       "2. 156\n",
       "3. 162\n",
       "\n",
       "\n",
       "\n",
       "\n",
       "\n",
       "\n",
       "$coverage\n",
       ":   0.95\n",
       "\n",
       "\n"
      ],
      "text/plain": [
       "$cs\n",
       "$cs$L1\n",
       "[1] 153 156 162\n",
       "\n",
       "$cs$L2\n",
       "[1] 129\n",
       "\n",
       "$cs$L3\n",
       "[1] 153 156 162\n",
       "\n",
       "\n",
       "$coverage\n",
       "[1] 0.95\n"
      ]
     },
     "metadata": {},
     "output_type": "display_data"
    }
   ],
   "source": [
    "susieR::susie_get_cs(result2, dedup=F)"
   ]
  },
  {
   "cell_type": "markdown",
   "metadata": {},
   "source": [
    "However **such duplicate is not adjusted for when computing PIP**. This is why PIP for those 3 variables still sum to more than 1."
   ]
  },
  {
   "cell_type": "code",
   "execution_count": 19,
   "metadata": {},
   "outputs": [
    {
     "data": {
      "text/html": [
       "<style>\n",
       ".list-inline {list-style: none; margin:0; padding: 0}\n",
       ".list-inline>li {display: inline-block}\n",
       ".list-inline>li:not(:last-child)::after {content: \"\\00b7\"; padding: 0 .5ex}\n",
       "</style>\n",
       "<ol class=list-inline><li>0.555529717829305</li><li>0.555529717829305</li><li>0.555529717829305</li></ol>\n"
      ],
      "text/latex": [
       "\\begin{enumerate*}\n",
       "\\item 0.555529717829305\n",
       "\\item 0.555529717829305\n",
       "\\item 0.555529717829305\n",
       "\\end{enumerate*}\n"
      ],
      "text/markdown": [
       "1. 0.555529717829305\n",
       "2. 0.555529717829305\n",
       "3. 0.555529717829305\n",
       "\n",
       "\n"
      ],
      "text/plain": [
       "[1] 0.5555297 0.5555297 0.5555297"
      ]
     },
     "metadata": {},
     "output_type": "display_data"
    }
   ],
   "source": [
    "result2$pip[c(153,156,162)]"
   ]
  },
  {
   "cell_type": "code",
   "execution_count": 20,
   "metadata": {},
   "outputs": [
    {
     "data": {
      "text/html": [
       "<style>\n",
       ".list-inline {list-style: none; margin:0; padding: 0}\n",
       ".list-inline>li {display: inline-block}\n",
       ".list-inline>li:not(:last-child)::after {content: \"\\00b7\"; padding: 0 .5ex}\n",
       "</style>\n",
       "<ol class=list-inline><li>0.156619953095882</li><li>0.156619953095882</li><li>0.156619953095882</li><li>0.156619953095882</li><li>0.156619953095882</li><li>0.156619953095882</li><li>0.156619953095882</li><li>0.156619953095882</li><li>0.156619953095882</li><li>0.156619953095882</li><li>0.156619953095882</li><li>0.156619953095882</li><li>0.156619953095882</li><li>0.156619953095882</li><li>0.156619953095882</li><li>0.156619953095882</li><li>0.156619953095882</li><li>0.156619953095882</li><li>0.156619953095882</li><li>0.156619953095882</li><li>0.156619953095882</li><li>0.156619953095882</li><li>0.156619953095882</li><li>0.156619953095882</li><li>0.156619953095882</li><li>0.156619953095882</li><li>0.156619953095882</li><li>0.156619953095882</li><li>0.156619953095882</li><li>0.156619953095882</li><li>0.156619953095882</li><li>0.156619953095882</li><li>0.156619953095882</li><li>0.156619953095882</li><li>0.156619953095882</li><li>0.156619953095882</li><li>0.156619953095882</li><li>0.156619953095882</li><li>0.156619953095882</li><li>0.156619953095882</li><li>0.156619953095882</li><li>0.156619953095882</li><li>0.156619953095882</li><li>0.156619953095882</li><li>0.156619953095882</li><li>0.156619953095882</li><li>0.156619953095882</li><li>0.156619953095882</li><li>0.156619953095882</li><li>0.156619953095882</li></ol>\n"
      ],
      "text/latex": [
       "\\begin{enumerate*}\n",
       "\\item 0.156619953095882\n",
       "\\item 0.156619953095882\n",
       "\\item 0.156619953095882\n",
       "\\item 0.156619953095882\n",
       "\\item 0.156619953095882\n",
       "\\item 0.156619953095882\n",
       "\\item 0.156619953095882\n",
       "\\item 0.156619953095882\n",
       "\\item 0.156619953095882\n",
       "\\item 0.156619953095882\n",
       "\\item 0.156619953095882\n",
       "\\item 0.156619953095882\n",
       "\\item 0.156619953095882\n",
       "\\item 0.156619953095882\n",
       "\\item 0.156619953095882\n",
       "\\item 0.156619953095882\n",
       "\\item 0.156619953095882\n",
       "\\item 0.156619953095882\n",
       "\\item 0.156619953095882\n",
       "\\item 0.156619953095882\n",
       "\\item 0.156619953095882\n",
       "\\item 0.156619953095882\n",
       "\\item 0.156619953095882\n",
       "\\item 0.156619953095882\n",
       "\\item 0.156619953095882\n",
       "\\item 0.156619953095882\n",
       "\\item 0.156619953095882\n",
       "\\item 0.156619953095882\n",
       "\\item 0.156619953095882\n",
       "\\item 0.156619953095882\n",
       "\\item 0.156619953095882\n",
       "\\item 0.156619953095882\n",
       "\\item 0.156619953095882\n",
       "\\item 0.156619953095882\n",
       "\\item 0.156619953095882\n",
       "\\item 0.156619953095882\n",
       "\\item 0.156619953095882\n",
       "\\item 0.156619953095882\n",
       "\\item 0.156619953095882\n",
       "\\item 0.156619953095882\n",
       "\\item 0.156619953095882\n",
       "\\item 0.156619953095882\n",
       "\\item 0.156619953095882\n",
       "\\item 0.156619953095882\n",
       "\\item 0.156619953095882\n",
       "\\item 0.156619953095882\n",
       "\\item 0.156619953095882\n",
       "\\item 0.156619953095882\n",
       "\\item 0.156619953095882\n",
       "\\item 0.156619953095882\n",
       "\\end{enumerate*}\n"
      ],
      "text/markdown": [
       "1. 0.156619953095882\n",
       "2. 0.156619953095882\n",
       "3. 0.156619953095882\n",
       "4. 0.156619953095882\n",
       "5. 0.156619953095882\n",
       "6. 0.156619953095882\n",
       "7. 0.156619953095882\n",
       "8. 0.156619953095882\n",
       "9. 0.156619953095882\n",
       "10. 0.156619953095882\n",
       "11. 0.156619953095882\n",
       "12. 0.156619953095882\n",
       "13. 0.156619953095882\n",
       "14. 0.156619953095882\n",
       "15. 0.156619953095882\n",
       "16. 0.156619953095882\n",
       "17. 0.156619953095882\n",
       "18. 0.156619953095882\n",
       "19. 0.156619953095882\n",
       "20. 0.156619953095882\n",
       "21. 0.156619953095882\n",
       "22. 0.156619953095882\n",
       "23. 0.156619953095882\n",
       "24. 0.156619953095882\n",
       "25. 0.156619953095882\n",
       "26. 0.156619953095882\n",
       "27. 0.156619953095882\n",
       "28. 0.156619953095882\n",
       "29. 0.156619953095882\n",
       "30. 0.156619953095882\n",
       "31. 0.156619953095882\n",
       "32. 0.156619953095882\n",
       "33. 0.156619953095882\n",
       "34. 0.156619953095882\n",
       "35. 0.156619953095882\n",
       "36. 0.156619953095882\n",
       "37. 0.156619953095882\n",
       "38. 0.156619953095882\n",
       "39. 0.156619953095882\n",
       "40. 0.156619953095882\n",
       "41. 0.156619953095882\n",
       "42. 0.156619953095882\n",
       "43. 0.156619953095882\n",
       "44. 0.156619953095882\n",
       "45. 0.156619953095882\n",
       "46. 0.156619953095882\n",
       "47. 0.156619953095882\n",
       "48. 0.156619953095882\n",
       "49. 0.156619953095882\n",
       "50. 0.156619953095882\n",
       "\n",
       "\n"
      ],
      "text/plain": [
       " [1] 0.15662 0.15662 0.15662 0.15662 0.15662 0.15662 0.15662 0.15662 0.15662\n",
       "[10] 0.15662 0.15662 0.15662 0.15662 0.15662 0.15662 0.15662 0.15662 0.15662\n",
       "[19] 0.15662 0.15662 0.15662 0.15662 0.15662 0.15662 0.15662 0.15662 0.15662\n",
       "[28] 0.15662 0.15662 0.15662 0.15662 0.15662 0.15662 0.15662 0.15662 0.15662\n",
       "[37] 0.15662 0.15662 0.15662 0.15662 0.15662 0.15662 0.15662 0.15662 0.15662\n",
       "[46] 0.15662 0.15662 0.15662 0.15662 0.15662"
      ]
     },
     "metadata": {},
     "output_type": "display_data"
    }
   ],
   "source": [
    "result2$coef[130,]"
   ]
  },
  {
   "cell_type": "markdown",
   "metadata": {},
   "source": [
    "The estimated `V` is expected to roughly have the scale of"
   ]
  },
  {
   "cell_type": "code",
   "execution_count": 29,
   "metadata": {},
   "outputs": [
    {
     "data": {
      "text/html": [
       "0.0245298097077564"
      ],
      "text/latex": [
       "0.0245298097077564"
      ],
      "text/markdown": [
       "0.0245298097077564"
      ],
      "text/plain": [
       "[1] 0.02452981"
      ]
     },
     "metadata": {},
     "output_type": "display_data"
    }
   ],
   "source": [
    "sum(diag(tcrossprod(result2$coef[130,])))/50"
   ]
  },
  {
   "cell_type": "markdown",
   "metadata": {},
   "source": [
    "But the actual `V` is a lot smaller."
   ]
  },
  {
   "cell_type": "markdown",
   "metadata": {},
   "source": [
    "## Analysis using naive canonical mixture prior\n",
    "\n",
    "The example is a bit pathological because we knowingly use a wrong model for it. What if we use a more flexible MASH prior for it? Here I use canonical mixture with uniform weights,"
   ]
  },
  {
   "cell_type": "code",
   "execution_count": 35,
   "metadata": {},
   "outputs": [],
   "source": [
    "prior = list(xUlist = mmbr:::create_cov_canonical(ncol(Y)))\n",
    "m_init = create_mash_prior(mixture_prior = list(matrices=prior$xUlist, weights=prior$pi), null_weight=prior$null_weight, max_mixture_len=-1)\n",
    "result3 = msusie(X, Y, L=L, prior_variance=m_init, residual_variance=resid_Y, \n",
    "                 compute_objective=T, estimate_residual_variance=F, estimate_prior_variance=T, \n",
    "                 estimate_prior_method='EM', track_fit=T, precompute_covariances=T)"
   ]
  },
  {
   "cell_type": "code",
   "execution_count": 36,
   "metadata": {},
   "outputs": [
    {
     "data": {
      "text/html": [
       "<style>\n",
       ".list-inline {list-style: none; margin:0; padding: 0}\n",
       ".list-inline>li {display: inline-block}\n",
       ".list-inline>li:not(:last-child)::after {content: \"\\00b7\"; padding: 0 .5ex}\n",
       "</style>\n",
       "<ol class=list-inline><li>0.0573641369329346</li><li>0.0114649642051601</li><li>0.000261985863953441</li><li>0.373828753858814</li><li>0</li><li>0.13265845805623</li><li>0</li><li>0</li><li>0</li><li>0</li></ol>\n"
      ],
      "text/latex": [
       "\\begin{enumerate*}\n",
       "\\item 0.0573641369329346\n",
       "\\item 0.0114649642051601\n",
       "\\item 0.000261985863953441\n",
       "\\item 0.373828753858814\n",
       "\\item 0\n",
       "\\item 0.13265845805623\n",
       "\\item 0\n",
       "\\item 0\n",
       "\\item 0\n",
       "\\item 0\n",
       "\\end{enumerate*}\n"
      ],
      "text/markdown": [
       "1. 0.0573641369329346\n",
       "2. 0.0114649642051601\n",
       "3. 0.000261985863953441\n",
       "4. 0.373828753858814\n",
       "5. 0\n",
       "6. 0.13265845805623\n",
       "7. 0\n",
       "8. 0\n",
       "9. 0\n",
       "10. 0\n",
       "\n",
       "\n"
      ],
      "text/plain": [
       " [1] 0.0573641369 0.0114649642 0.0002619859 0.3738287539 0.0000000000\n",
       " [6] 0.1326584581 0.0000000000 0.0000000000 0.0000000000 0.0000000000"
      ]
     },
     "metadata": {},
     "output_type": "display_data"
    }
   ],
   "source": [
    "result3$V"
   ]
  },
  {
   "cell_type": "code",
   "execution_count": 37,
   "metadata": {},
   "outputs": [
    {
     "data": {
      "image/png": "[encoded data removed]",
      "text/plain": [
       "plot without title"
      ]
     },
     "metadata": {
      "image/png": {
       "height": 420,
       "width": 420
      },
      "text/plain": {
       "height": 420,
       "width": 420
      }
     },
     "output_type": "display_data"
    }
   ],
   "source": [
    "susieR::susie_plot(result3, y='PIP',b=rowSums(meta$true_coef))"
   ]
  },
  {
   "cell_type": "code",
   "execution_count": 38,
   "metadata": {},
   "outputs": [
    {
     "data": {
      "text/html": [
       "<dl>\n",
       "\t<dt>$cs</dt>\n",
       "\t\t<dd><dl>\n",
       "\t<dt>$L1</dt>\n",
       "\t\t<dd>129</dd>\n",
       "\t<dt>$L2</dt>\n",
       "\t\t<dd><style>\n",
       ".list-inline {list-style: none; margin:0; padding: 0}\n",
       ".list-inline>li {display: inline-block}\n",
       ".list-inline>li:not(:last-child)::after {content: \"\\00b7\"; padding: 0 .5ex}\n",
       "</style>\n",
       "<ol class=list-inline><li>153</li><li>156</li><li>162</li></ol>\n",
       "</dd>\n",
       "\t<dt>$L4</dt>\n",
       "\t\t<dd>43</dd>\n",
       "\t<dt>$L6</dt>\n",
       "\t\t<dd><style>\n",
       ".list-inline {list-style: none; margin:0; padding: 0}\n",
       ".list-inline>li {display: inline-block}\n",
       ".list-inline>li:not(:last-child)::after {content: \"\\00b7\"; padding: 0 .5ex}\n",
       "</style>\n",
       "<ol class=list-inline><li>129</li><li>130</li><li>131</li><li>132</li><li>134</li><li>135</li></ol>\n",
       "</dd>\n",
       "</dl>\n",
       "</dd>\n",
       "\t<dt>$purity</dt>\n",
       "\t\t<dd><table>\n",
       "<caption>A data.frame: 4 × 3</caption>\n",
       "<thead>\n",
       "\t<tr><th></th><th scope=col>min.abs.corr</th><th scope=col>mean.abs.corr</th><th scope=col>median.abs.corr</th></tr>\n",
       "\t<tr><th></th><th scope=col>&lt;dbl&gt;</th><th scope=col>&lt;dbl&gt;</th><th scope=col>&lt;dbl&gt;</th></tr>\n",
       "</thead>\n",
       "<tbody>\n",
       "\t<tr><th scope=row>L1</th><td>1.0000000</td><td>1.0000000</td><td>1</td></tr>\n",
       "\t<tr><th scope=row>L2</th><td>1.0000000</td><td>1.0000000</td><td>1</td></tr>\n",
       "\t<tr><th scope=row>L4</th><td>1.0000000</td><td>1.0000000</td><td>1</td></tr>\n",
       "\t<tr><th scope=row>L6</th><td>0.9845723</td><td>0.9957145</td><td>1</td></tr>\n",
       "</tbody>\n",
       "</table>\n",
       "</dd>\n",
       "\t<dt>$cs_index</dt>\n",
       "\t\t<dd><style>\n",
       ".list-inline {list-style: none; margin:0; padding: 0}\n",
       ".list-inline>li {display: inline-block}\n",
       ".list-inline>li:not(:last-child)::after {content: \"\\00b7\"; padding: 0 .5ex}\n",
       "</style>\n",
       "<ol class=list-inline><li>1</li><li>2</li><li>4</li><li>6</li></ol>\n",
       "</dd>\n",
       "\t<dt>$coverage</dt>\n",
       "\t\t<dd>0.95</dd>\n",
       "</dl>\n"
      ],
      "text/latex": [
       "\\begin{description}\n",
       "\\item[\\$cs] \\begin{description}\n",
       "\\item[\\$L1] 129\n",
       "\\item[\\$L2] \\begin{enumerate*}\n",
       "\\item 153\n",
       "\\item 156\n",
       "\\item 162\n",
       "\\end{enumerate*}\n",
       "\n",
       "\\item[\\$L4] 43\n",
       "\\item[\\$L6] \\begin{enumerate*}\n",
       "\\item 129\n",
       "\\item 130\n",
       "\\item 131\n",
       "\\item 132\n",
       "\\item 134\n",
       "\\item 135\n",
       "\\end{enumerate*}\n",
       "\n",
       "\\end{description}\n",
       "\n",
       "\\item[\\$purity] A data.frame: 4 × 3\n",
       "\\begin{tabular}{r|lll}\n",
       "  & min.abs.corr & mean.abs.corr & median.abs.corr\\\\\n",
       "  & <dbl> & <dbl> & <dbl>\\\\\n",
       "\\hline\n",
       "\tL1 & 1.0000000 & 1.0000000 & 1\\\\\n",
       "\tL2 & 1.0000000 & 1.0000000 & 1\\\\\n",
       "\tL4 & 1.0000000 & 1.0000000 & 1\\\\\n",
       "\tL6 & 0.9845723 & 0.9957145 & 1\\\\\n",
       "\\end{tabular}\n",
       "\n",
       "\\item[\\$cs\\_index] \\begin{enumerate*}\n",
       "\\item 1\n",
       "\\item 2\n",
       "\\item 4\n",
       "\\item 6\n",
       "\\end{enumerate*}\n",
       "\n",
       "\\item[\\$coverage] 0.95\n",
       "\\end{description}\n"
      ],
      "text/markdown": [
       "$cs\n",
       ":   $L1\n",
       ":   129\n",
       "$L2\n",
       ":   1. 153\n",
       "2. 156\n",
       "3. 162\n",
       "\n",
       "\n",
       "\n",
       "$L4\n",
       ":   43\n",
       "$L6\n",
       ":   1. 129\n",
       "2. 130\n",
       "3. 131\n",
       "4. 132\n",
       "5. 134\n",
       "6. 135\n",
       "\n",
       "\n",
       "\n",
       "\n",
       "\n",
       "\n",
       "$purity\n",
       ":   \n",
       "A data.frame: 4 × 3\n",
       "\n",
       "| <!--/--> | min.abs.corr &lt;dbl&gt; | mean.abs.corr &lt;dbl&gt; | median.abs.corr &lt;dbl&gt; |\n",
       "|---|---|---|---|\n",
       "| L1 | 1.0000000 | 1.0000000 | 1 |\n",
       "| L2 | 1.0000000 | 1.0000000 | 1 |\n",
       "| L4 | 1.0000000 | 1.0000000 | 1 |\n",
       "| L6 | 0.9845723 | 0.9957145 | 1 |\n",
       "\n",
       "\n",
       "$cs_index\n",
       ":   1. 1\n",
       "2. 2\n",
       "3. 4\n",
       "4. 6\n",
       "\n",
       "\n",
       "\n",
       "$coverage\n",
       ":   0.95\n",
       "\n",
       "\n"
      ],
      "text/plain": [
       "$cs\n",
       "$cs$L1\n",
       "[1] 129\n",
       "\n",
       "$cs$L2\n",
       "[1] 153 156 162\n",
       "\n",
       "$cs$L4\n",
       "[1] 43\n",
       "\n",
       "$cs$L6\n",
       "[1] 129 130 131 132 134 135\n",
       "\n",
       "\n",
       "$purity\n",
       "   min.abs.corr mean.abs.corr median.abs.corr\n",
       "L1    1.0000000     1.0000000               1\n",
       "L2    1.0000000     1.0000000               1\n",
       "L4    1.0000000     1.0000000               1\n",
       "L6    0.9845723     0.9957145               1\n",
       "\n",
       "$cs_index\n",
       "[1] 1 2 4 6\n",
       "\n",
       "$coverage\n",
       "[1] 0.95\n"
      ]
     },
     "metadata": {},
     "output_type": "display_data"
    }
   ],
   "source": [
    "result3$sets"
   ]
  },
  {
   "cell_type": "markdown",
   "metadata": {},
   "source": [
    "The result is a bit better. We have now captured all 3 variables -- the new variable in `L4` is a singleton effect."
   ]
  },
  {
   "cell_type": "code",
   "execution_count": 41,
   "metadata": {},
   "outputs": [
    {
     "data": {
      "text/html": [
       "1.10600340990259"
      ],
      "text/latex": [
       "1.10600340990259"
      ],
      "text/markdown": [
       "1.10600340990259"
      ],
      "text/plain": [
       "[1] 1.106003"
      ]
     },
     "metadata": {},
     "output_type": "display_data"
    }
   ],
   "source": [
    "max(result3$coef[44,])"
   ]
  },
  {
   "cell_type": "code",
   "execution_count": 42,
   "metadata": {},
   "outputs": [
    {
     "data": {
      "text/html": [
       "-8.20245834611722e-12"
      ],
      "text/latex": [
       "-8.20245834611722e-12"
      ],
      "text/markdown": [
       "-8.20245834611722e-12"
      ],
      "text/plain": [
       "[1] -8.202458e-12"
      ]
     },
     "metadata": {},
     "output_type": "display_data"
    }
   ],
   "source": [
    "min(result3$coef[44,])"
   ]
  },
  {
   "cell_type": "markdown",
   "metadata": {},
   "source": [
    "But there is still overlap between `L6` and `L1`, even though `L6` indeed does contain a signal. And estimated prior scalar for the 6th variable is again the magic number 0.13. Notice the purity for `L6` is quite high as we would also conclude from the plot."
   ]
  },
  {
   "cell_type": "markdown",
   "metadata": {},
   "source": [
    "## What if we use oracle mixture?\n",
    "\n",
    "The data is simulated using `artificial_mixture`. Here I'll analyze it with the same mixture prior structure and weight, but using EM to estimate the scale."
   ]
  },
  {
   "cell_type": "code",
   "execution_count": 45,
   "metadata": {},
   "outputs": [
    {
     "data": {
      "text/html": [
       "<style>\n",
       ".list-inline {list-style: none; margin:0; padding: 0}\n",
       ".list-inline>li {display: inline-block}\n",
       ".list-inline>li:not(:last-child)::after {content: \"\\00b7\"; padding: 0 .5ex}\n",
       "</style>\n",
       "<ol class=list-inline><li>'xUlist'</li><li>'pi'</li><li>'null_weight'</li></ol>\n"
      ],
      "text/latex": [
       "\\begin{enumerate*}\n",
       "\\item 'xUlist'\n",
       "\\item 'pi'\n",
       "\\item 'null\\_weight'\n",
       "\\end{enumerate*}\n"
      ],
      "text/markdown": [
       "1. 'xUlist'\n",
       "2. 'pi'\n",
       "3. 'null_weight'\n",
       "\n",
       "\n"
      ],
      "text/plain": [
       "[1] \"xUlist\"      \"pi\"          \"null_weight\""
      ]
     },
     "metadata": {},
     "output_type": "display_data"
    }
   ],
   "source": [
    "names(meta$prior$oracle)"
   ]
  },
  {
   "cell_type": "code",
   "execution_count": 46,
   "metadata": {},
   "outputs": [],
   "source": [
    "m_init = create_mash_prior(mixture_prior = list(matrices=meta$prior$oracle$xUlist, weights=meta$prior$oracle$pi), null_weight=meta$prior$oracle$null_weight, max_mixture_len=-1)\n",
    "result4 = msusie(X, Y, L=L, prior_variance=m_init, residual_variance=resid_Y, \n",
    "                 compute_objective=T, estimate_residual_variance=F, estimate_prior_variance=T, \n",
    "                 estimate_prior_method='EM', track_fit=T, precompute_covariances=T)"
   ]
  },
  {
   "cell_type": "code",
   "execution_count": 47,
   "metadata": {},
   "outputs": [
    {
     "data": {
      "text/html": [
       "<style>\n",
       ".list-inline {list-style: none; margin:0; padding: 0}\n",
       ".list-inline>li {display: inline-block}\n",
       ".list-inline>li:not(:last-child)::after {content: \"\\00b7\"; padding: 0 .5ex}\n",
       "</style>\n",
       "<ol class=list-inline><li>0.0573683484422172</li><li>0.0114170110679292</li><li>0.000265189597661553</li><li>0.373827041421149</li><li>0</li><li>0.12995270253752</li><li>0</li><li>0</li><li>0</li><li>0</li></ol>\n"
      ],
      "text/latex": [
       "\\begin{enumerate*}\n",
       "\\item 0.0573683484422172\n",
       "\\item 0.0114170110679292\n",
       "\\item 0.000265189597661553\n",
       "\\item 0.373827041421149\n",
       "\\item 0\n",
       "\\item 0.12995270253752\n",
       "\\item 0\n",
       "\\item 0\n",
       "\\item 0\n",
       "\\item 0\n",
       "\\end{enumerate*}\n"
      ],
      "text/markdown": [
       "1. 0.0573683484422172\n",
       "2. 0.0114170110679292\n",
       "3. 0.000265189597661553\n",
       "4. 0.373827041421149\n",
       "5. 0\n",
       "6. 0.12995270253752\n",
       "7. 0\n",
       "8. 0\n",
       "9. 0\n",
       "10. 0\n",
       "\n",
       "\n"
      ],
      "text/plain": [
       " [1] 0.0573683484 0.0114170111 0.0002651896 0.3738270414 0.0000000000\n",
       " [6] 0.1299527025 0.0000000000 0.0000000000 0.0000000000 0.0000000000"
      ]
     },
     "metadata": {},
     "output_type": "display_data"
    }
   ],
   "source": [
    "result4$V"
   ]
  },
  {
   "cell_type": "code",
   "execution_count": 48,
   "metadata": {},
   "outputs": [
    {
     "data": {
      "image/png": "[encoded data removed]",
      "text/plain": [
       "plot without title"
      ]
     },
     "metadata": {
      "image/png": {
       "height": 420,
       "width": 420
      },
      "text/plain": {
       "height": 420,
       "width": 420
      }
     },
     "output_type": "display_data"
    }
   ],
   "source": [
    "susieR::susie_plot(result4, y='PIP',b=rowSums(meta$true_coef))"
   ]
  },
  {
   "cell_type": "code",
   "execution_count": 49,
   "metadata": {},
   "outputs": [
    {
     "data": {
      "text/html": [
       "<dl>\n",
       "\t<dt>$cs</dt>\n",
       "\t\t<dd><dl>\n",
       "\t<dt>$L1</dt>\n",
       "\t\t<dd>129</dd>\n",
       "\t<dt>$L2</dt>\n",
       "\t\t<dd><style>\n",
       ".list-inline {list-style: none; margin:0; padding: 0}\n",
       ".list-inline>li {display: inline-block}\n",
       ".list-inline>li:not(:last-child)::after {content: \"\\00b7\"; padding: 0 .5ex}\n",
       "</style>\n",
       "<ol class=list-inline><li>153</li><li>156</li><li>162</li></ol>\n",
       "</dd>\n",
       "\t<dt>$L4</dt>\n",
       "\t\t<dd>43</dd>\n",
       "\t<dt>$L6</dt>\n",
       "\t\t<dd><style>\n",
       ".list-inline {list-style: none; margin:0; padding: 0}\n",
       ".list-inline>li {display: inline-block}\n",
       ".list-inline>li:not(:last-child)::after {content: \"\\00b7\"; padding: 0 .5ex}\n",
       "</style>\n",
       "<ol class=list-inline><li>129</li><li>130</li><li>131</li><li>132</li><li>134</li><li>135</li></ol>\n",
       "</dd>\n",
       "</dl>\n",
       "</dd>\n",
       "\t<dt>$purity</dt>\n",
       "\t\t<dd><table>\n",
       "<caption>A data.frame: 4 × 3</caption>\n",
       "<thead>\n",
       "\t<tr><th></th><th scope=col>min.abs.corr</th><th scope=col>mean.abs.corr</th><th scope=col>median.abs.corr</th></tr>\n",
       "\t<tr><th></th><th scope=col>&lt;dbl&gt;</th><th scope=col>&lt;dbl&gt;</th><th scope=col>&lt;dbl&gt;</th></tr>\n",
       "</thead>\n",
       "<tbody>\n",
       "\t<tr><th scope=row>L1</th><td>1.0000000</td><td>1.0000000</td><td>1</td></tr>\n",
       "\t<tr><th scope=row>L2</th><td>1.0000000</td><td>1.0000000</td><td>1</td></tr>\n",
       "\t<tr><th scope=row>L4</th><td>1.0000000</td><td>1.0000000</td><td>1</td></tr>\n",
       "\t<tr><th scope=row>L6</th><td>0.9845723</td><td>0.9957145</td><td>1</td></tr>\n",
       "</tbody>\n",
       "</table>\n",
       "</dd>\n",
       "\t<dt>$cs_index</dt>\n",
       "\t\t<dd><style>\n",
       ".list-inline {list-style: none; margin:0; padding: 0}\n",
       ".list-inline>li {display: inline-block}\n",
       ".list-inline>li:not(:last-child)::after {content: \"\\00b7\"; padding: 0 .5ex}\n",
       "</style>\n",
       "<ol class=list-inline><li>1</li><li>2</li><li>4</li><li>6</li></ol>\n",
       "</dd>\n",
       "\t<dt>$coverage</dt>\n",
       "\t\t<dd>0.95</dd>\n",
       "</dl>\n"
      ],
      "text/latex": [
       "\\begin{description}\n",
       "\\item[\\$cs] \\begin{description}\n",
       "\\item[\\$L1] 129\n",
       "\\item[\\$L2] \\begin{enumerate*}\n",
       "\\item 153\n",
       "\\item 156\n",
       "\\item 162\n",
       "\\end{enumerate*}\n",
       "\n",
       "\\item[\\$L4] 43\n",
       "\\item[\\$L6] \\begin{enumerate*}\n",
       "\\item 129\n",
       "\\item 130\n",
       "\\item 131\n",
       "\\item 132\n",
       "\\item 134\n",
       "\\item 135\n",
       "\\end{enumerate*}\n",
       "\n",
       "\\end{description}\n",
       "\n",
       "\\item[\\$purity] A data.frame: 4 × 3\n",
       "\\begin{tabular}{r|lll}\n",
       "  & min.abs.corr & mean.abs.corr & median.abs.corr\\\\\n",
       "  & <dbl> & <dbl> & <dbl>\\\\\n",
       "\\hline\n",
       "\tL1 & 1.0000000 & 1.0000000 & 1\\\\\n",
       "\tL2 & 1.0000000 & 1.0000000 & 1\\\\\n",
       "\tL4 & 1.0000000 & 1.0000000 & 1\\\\\n",
       "\tL6 & 0.9845723 & 0.9957145 & 1\\\\\n",
       "\\end{tabular}\n",
       "\n",
       "\\item[\\$cs\\_index] \\begin{enumerate*}\n",
       "\\item 1\n",
       "\\item 2\n",
       "\\item 4\n",
       "\\item 6\n",
       "\\end{enumerate*}\n",
       "\n",
       "\\item[\\$coverage] 0.95\n",
       "\\end{description}\n"
      ],
      "text/markdown": [
       "$cs\n",
       ":   $L1\n",
       ":   129\n",
       "$L2\n",
       ":   1. 153\n",
       "2. 156\n",
       "3. 162\n",
       "\n",
       "\n",
       "\n",
       "$L4\n",
       ":   43\n",
       "$L6\n",
       ":   1. 129\n",
       "2. 130\n",
       "3. 131\n",
       "4. 132\n",
       "5. 134\n",
       "6. 135\n",
       "\n",
       "\n",
       "\n",
       "\n",
       "\n",
       "\n",
       "$purity\n",
       ":   \n",
       "A data.frame: 4 × 3\n",
       "\n",
       "| <!--/--> | min.abs.corr &lt;dbl&gt; | mean.abs.corr &lt;dbl&gt; | median.abs.corr &lt;dbl&gt; |\n",
       "|---|---|---|---|\n",
       "| L1 | 1.0000000 | 1.0000000 | 1 |\n",
       "| L2 | 1.0000000 | 1.0000000 | 1 |\n",
       "| L4 | 1.0000000 | 1.0000000 | 1 |\n",
       "| L6 | 0.9845723 | 0.9957145 | 1 |\n",
       "\n",
       "\n",
       "$cs_index\n",
       ":   1. 1\n",
       "2. 2\n",
       "3. 4\n",
       "4. 6\n",
       "\n",
       "\n",
       "\n",
       "$coverage\n",
       ":   0.95\n",
       "\n",
       "\n"
      ],
      "text/plain": [
       "$cs\n",
       "$cs$L1\n",
       "[1] 129\n",
       "\n",
       "$cs$L2\n",
       "[1] 153 156 162\n",
       "\n",
       "$cs$L4\n",
       "[1] 43\n",
       "\n",
       "$cs$L6\n",
       "[1] 129 130 131 132 134 135\n",
       "\n",
       "\n",
       "$purity\n",
       "   min.abs.corr mean.abs.corr median.abs.corr\n",
       "L1    1.0000000     1.0000000               1\n",
       "L2    1.0000000     1.0000000               1\n",
       "L4    1.0000000     1.0000000               1\n",
       "L6    0.9845723     0.9957145               1\n",
       "\n",
       "$cs_index\n",
       "[1] 1 2 4 6\n",
       "\n",
       "$coverage\n",
       "[1] 0.95\n"
      ]
     },
     "metadata": {},
     "output_type": "display_data"
    }
   ],
   "source": [
    "result4$sets"
   ]
  },
  {
   "cell_type": "markdown",
   "metadata": {},
   "source": [
    "Unfortunately, oracle prior does not help here."
   ]
  }
 ],
 "metadata": {
  "kernelspec": {
   "display_name": "R",
   "language": "R",
   "name": "ir"
  },
  "language_info": {
   "codemirror_mode": "r",
   "file_extension": ".r",
   "mimetype": "text/x-r-source",
   "name": "R",
   "pygments_lexer": "r",
   "version": "3.6.3"
  }
 },
 "nbformat": 4,
 "nbformat_minor": 4
}
