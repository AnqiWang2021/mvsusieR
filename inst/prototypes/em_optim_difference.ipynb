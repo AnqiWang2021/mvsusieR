{
 "cells": [
  {
   "cell_type": "markdown",
   "metadata": {},
   "source": [
    "# A smaller example of prior variance scalar estimate\n",
    "\n",
    "This is continuation of [previous notebook]() but using smaller example and more explicit code to show the problem. The data can be [downloaded here]()."
   ]
  },
  {
   "cell_type": "markdown",
   "metadata": {},
   "source": [
    "The problems from previous notebook are:\n",
    "\n",
    "1. EM converges slowly\n",
    "2. The estimated prior variane scalar seems smaller than what we expect based on the coefficient estimate itself.\n",
    "\n",
    "This notebook focuses on understanding 2. Therefore we use `optim` based result and manually check for a couple of iterations the inference for the 1st and 2nd moments, see if they are in agreement with the estimates."
   ]
  },
  {
   "cell_type": "code",
   "execution_count": 1,
   "metadata": {},
   "outputs": [],
   "source": [
    "attach(readRDS('em_optim_difference.rds'))"
   ]
  },
  {
   "cell_type": "markdown",
   "metadata": {},
   "source": [
    "Here I use 15 conditions (this is enough conditions to show EM slow convergence issue),"
   ]
  },
  {
   "cell_type": "code",
   "execution_count": 2,
   "metadata": {},
   "outputs": [],
   "source": [
    "R = 15\n",
    "Y1 = Y[, c(1:R)]\n",
    "resid_Y1 = resid_Y[c(1:R), c(1:R)]\n",
    "V1 = matrix(1,R,R)\n",
    "L = 1\n",
    "true_coef = meta$true_coef[,c(1:R)]"
   ]
  },
  {
   "cell_type": "markdown",
   "metadata": {},
   "source": [
    "To simplify, I use codes from [`BayesianMultivariateRegression` class from mmbr package](https://github.com/stephenslab/mmbr/blob/master/R/bayesian_multivariate_regression.R) which is a single component multivariate prior (not a mixture prior)."
   ]
  },
  {
   "cell_type": "markdown",
   "metadata": {},
   "source": [
    "## IBSS done manually\n",
    "\n",
    "Here I run single effect models manually for `L=2`, using `save_var` to save posterior covariance matrix"
   ]
  },
  {
   "cell_type": "code",
   "execution_count": 3,
   "metadata": {},
   "outputs": [
    {
     "name": "stderr",
     "output_type": "stream",
     "text": [
      "Loading mmbr\n",
      "\n",
      "Loading required package: mashr\n",
      "\n",
      "Loading required package: ashr\n",
      "\n"
     ]
    }
   ],
   "source": [
    "devtools::load_all('~/GIT/software/mmbr')\n",
    "d = DenseData$new(X,Y1)\n",
    "d$standardize(TRUE,TRUE)\n",
    "m1 = SingleEffectModel(BayesianMultivariateRegression)$new(ncol(X), resid_Y1, V1)\n",
    "m2 = SingleEffectModel(BayesianMultivariateRegression)$new(ncol(X), resid_Y1, V1)"
   ]
  },
  {
   "cell_type": "markdown",
   "metadata": {},
   "source": [
    "### The first iteration"
   ]
  },
  {
   "cell_type": "code",
   "execution_count": 4,
   "metadata": {},
   "outputs": [],
   "source": [
    "d$add_to_residual(m1$predict(d))\n",
    "m1$fit(d, estimate_prior_variance_method = 'optim', save_var = TRUE)\n",
    "d$remove_from_residual(m1$predict(d))\n",
    "d$add_to_residual(m2$predict(d))\n",
    "m2$fit(d, estimate_prior_variance_method = 'optim', save_var = TRUE)\n",
    "d$remove_from_residual(m2$predict(d))"
   ]
  },
  {
   "cell_type": "code",
   "execution_count": 5,
   "metadata": {},
   "outputs": [],
   "source": [
    "fitted = d$compute_Xb(m1$posterior_b1 + m2$posterior_b1)\n",
    "d$compute_residual(fitted)"
   ]
  },
  {
   "cell_type": "markdown",
   "metadata": {},
   "source": [
    "Now take a look at position 129, whose signal is captured by `L2` with PIP > 0.9, to check the 2nd moment estimate and prior variance scalar,"
   ]
  },
  {
   "cell_type": "code",
   "execution_count": 6,
   "metadata": {},
   "outputs": [
    {
     "data": {
      "text/html": [
       "0.989863645087472"
      ],
      "text/latex": [
       "0.989863645087472"
      ],
      "text/markdown": [
       "0.989863645087472"
      ],
      "text/plain": [
       "[1] 0.9898636"
      ]
     },
     "metadata": {},
     "output_type": "display_data"
    }
   ],
   "source": [
    "m2$pip[129]"
   ]
  },
  {
   "cell_type": "code",
   "execution_count": 7,
   "metadata": {},
   "outputs": [
    {
     "data": {
      "text/html": [
       "0.00166608931066299"
      ],
      "text/latex": [
       "0.00166608931066299"
      ],
      "text/markdown": [
       "0.00166608931066299"
      ],
      "text/plain": [
       "[1] 0.001666089"
      ]
     },
     "metadata": {},
     "output_type": "display_data"
    }
   ],
   "source": [
    "sum(diag(tcrossprod(m2$posterior_b1[129,])))/R"
   ]
  },
  {
   "cell_type": "code",
   "execution_count": 8,
   "metadata": {},
   "outputs": [
    {
     "data": {
      "text/html": [
       "0.00170466773300059"
      ],
      "text/latex": [
       "0.00170466773300059"
      ],
      "text/markdown": [
       "0.00170466773300059"
      ],
      "text/plain": [
       "[1] 0.001704668"
      ]
     },
     "metadata": {},
     "output_type": "display_data"
    }
   ],
   "source": [
    "m2$prior_variance"
   ]
  },
  {
   "cell_type": "markdown",
   "metadata": {},
   "source": [
    "### The 2nd iteration"
   ]
  },
  {
   "cell_type": "code",
   "execution_count": 9,
   "metadata": {},
   "outputs": [],
   "source": [
    "d$add_to_residual(m1$predict(d))\n",
    "m1$fit(d, estimate_prior_variance_method = 'optim', save_var = TRUE)\n",
    "d$remove_from_residual(m1$predict(d))\n",
    "d$add_to_residual(m2$predict(d))\n",
    "m2$fit(d, estimate_prior_variance_method = 'optim', save_var = TRUE)\n",
    "d$remove_from_residual(m2$predict(d))"
   ]
  },
  {
   "cell_type": "code",
   "execution_count": 10,
   "metadata": {},
   "outputs": [
    {
     "data": {
      "text/html": [
       "0.999912072785095"
      ],
      "text/latex": [
       "0.999912072785095"
      ],
      "text/markdown": [
       "0.999912072785095"
      ],
      "text/plain": [
       "[1] 0.9999121"
      ]
     },
     "metadata": {},
     "output_type": "display_data"
    }
   ],
   "source": [
    "m2$pip[129]"
   ]
  },
  {
   "cell_type": "code",
   "execution_count": 11,
   "metadata": {},
   "outputs": [
    {
     "data": {
      "text/html": [
       "0.00312592162254299"
      ],
      "text/latex": [
       "0.00312592162254299"
      ],
      "text/markdown": [
       "0.00312592162254299"
      ],
      "text/plain": [
       "[1] 0.003125922"
      ]
     },
     "metadata": {},
     "output_type": "display_data"
    }
   ],
   "source": [
    "sum(diag(tcrossprod(m2$posterior_b1[129,])))/R"
   ]
  },
  {
   "cell_type": "code",
   "execution_count": 12,
   "metadata": {},
   "outputs": [
    {
     "data": {
      "text/html": [
       "0.00313137637417771"
      ],
      "text/latex": [
       "0.00313137637417771"
      ],
      "text/markdown": [
       "0.00313137637417771"
      ],
      "text/plain": [
       "[1] 0.003131376"
      ]
     },
     "metadata": {},
     "output_type": "display_data"
    }
   ],
   "source": [
    "m2$prior_variance"
   ]
  },
  {
   "cell_type": "markdown",
   "metadata": {},
   "source": [
    "## The 3rd iteration"
   ]
  },
  {
   "cell_type": "code",
   "execution_count": null,
   "metadata": {},
   "outputs": [],
   "source": [
    "d$add_to_residual(m1$predict(d))\n",
    "m1$fit(d, estimate_prior_variance_method = 'optim', save_var = TRUE)\n",
    "d$remove_from_residual(m1$predict(d))\n",
    "d$add_to_residual(m2$predict(d))\n",
    "m2$fit(d, estimate_prior_variance_method = 'optim', save_var = TRUE)\n",
    "d$remove_from_residual(m2$predict(d))"
   ]
  },
  {
   "cell_type": "code",
   "execution_count": null,
   "metadata": {},
   "outputs": [],
   "source": [
    "sum(diag(tcrossprod(m2$posterior_b1[129,])))/R"
   ]
  },
  {
   "cell_type": "code",
   "execution_count": null,
   "metadata": {},
   "outputs": [],
   "source": [
    "m2$prior_variance"
   ]
  },
  {
   "cell_type": "markdown",
   "metadata": {},
   "source": [
    "It seems to be close to convergence. The estimate from this model is different from the simulated truth,"
   ]
  },
  {
   "cell_type": "code",
   "execution_count": null,
   "metadata": {},
   "outputs": [],
   "source": [
    "m2$posterior_b1[129,]"
   ]
  },
  {
   "cell_type": "code",
   "execution_count": null,
   "metadata": {},
   "outputs": [],
   "source": [
    "true_coef[129,]"
   ]
  },
  {
   "cell_type": "markdown",
   "metadata": {},
   "source": [
    "I think the disagreement is understandable because the \"all shared\" prior model is very much mis-specified for these true coefficients."
   ]
  }
 ],
 "metadata": {
  "kernelspec": {
   "display_name": "R",
   "language": "R",
   "name": "ir"
  },
  "language_info": {
   "codemirror_mode": "r",
   "file_extension": ".r",
   "mimetype": "text/x-r-source",
   "name": "R",
   "pygments_lexer": "r",
   "version": "3.6.3"
  }
 },
 "nbformat": 4,
 "nbformat_minor": 4
}
