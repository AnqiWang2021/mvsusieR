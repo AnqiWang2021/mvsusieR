{
 "cells": [
  {
   "cell_type": "markdown",
   "metadata": {},
   "source": [
    "# Pre-computing various second-moment related quantities\n",
    "\n",
    "This saves computation for M&M by precomputing and re-using quantitaties shared between iterations. It mostly saves $O(R^3)$ computations. This vignette shows results agree with the original version. Cannot use unit test due to numerical discrepency between `chol` of amardillo and R -- this has been shown problematic for some computations. I'll have to improve `mashr` for it."
   ]
  },
  {
   "cell_type": "code",
   "execution_count": null,
   "metadata": {},
   "outputs": [],
   "source": [
    "muffled_chol = function(x, ...)\n",
    "withCallingHandlers(chol(x, ...),\n",
    "                    warning = function(w) {\n",
    "                      if (grepl(\"the matrix is either rank-deficient or indefinite\", w$message))\n",
    "                        invokeRestart(\"muffleWarning\")\n",
    "                    } )"
   ]
  },
  {
   "cell_type": "code",
   "execution_count": 2,
   "metadata": {},
   "outputs": [
    {
     "name": "stderr",
     "output_type": "stream",
     "text": [
      "Loading required package: ashr\n"
     ]
    }
   ],
   "source": [
    "set.seed(1)\n",
    "library(mashr)\n",
    "simdata = simple_sims(500,5,1)\n",
    "data = mash_set_data(simdata$Bhat, simdata$Shat, alpha = 0)\n",
    "U.c = cov_canonical(data)\n",
    "grid = mashr:::autoselect_grid(data,sqrt(2))\n",
    "Ulist = mashr:::normalize_Ulist(U.c)\n",
    "xUlist = expand_cov(Ulist,grid,TRUE)\n",
    "llik_mat0 = mashr:::calc_lik_rcpp(t(data$Bhat),t(data$Shat),data$V,\n",
    "                             matrix(0,0,0), simplify2array(xUlist),F,T)$data\n",
    "svs = data$Shat[1,] * t(data$V * data$Shat[1,])\n",
    "sigma_rooti = list()\n",
    "for (i in 1:length(xUlist)) sigma_rooti[[i]] = backsolve(muffled_chol(svs + xUlist[[i]], pivot=T), diag(nrow(svs)))\n",
    "llik_mat = mashr:::calc_lik_common_rcpp(t(data$Bhat),\n",
    "                                 simplify2array(sigma_rooti),\n",
    "                                 F)$data"
   ]
  },
  {
   "cell_type": "code",
   "execution_count": 4,
   "metadata": {},
   "outputs": [],
   "source": [
    "rows <- which(apply(llik_mat,2,function (x) any(is.infinite(x))))\n",
    "if (length(rows) > 0)\n",
    "    warning(paste(\"Some mixture components result in non-finite likelihoods,\",\n",
    "                          \"either\\n\",\"due to numerical underflow/overflow,\",\n",
    "                          \"or due to invalid covariance matrices\",\n",
    "                          paste(rows,collapse=\", \"), \"\\n\"))\n",
    "loglik_null = llik_mat[,1]\n",
    "lfactors = apply(llik_mat,1,max)\n",
    "llik_mat = llik_mat - lfactors\n",
    "mixture_posterior_weights = mashr:::compute_posterior_weights(1/ncol(llik_mat), exp(llik_mat))\n",
    "post0 = mashr:::calc_post_rcpp(t(data$Bhat), t(data$Shat), matrix(0,0,0), matrix(0,0,0), \n",
    "                              data$V,\n",
    "                              matrix(0,0,0), matrix(0,0,0), \n",
    "                              simplify2array(xUlist),\n",
    "                              t(mixture_posterior_weights),\n",
    "                              T, 4)"
   ]
  },
  {
   "cell_type": "code",
   "execution_count": 5,
   "metadata": {},
   "outputs": [],
   "source": [
    "Vinv = solve(svs)\n",
    "U0 = list()\n",
    "for (i in 1:length(xUlist)) U0[[i]] = xUlist[[i]] %*% solve(Vinv %*% xUlist[[i]] + diag(nrow(xUlist[[i]])))"
   ]
  },
  {
   "cell_type": "code",
   "execution_count": 8,
   "metadata": {},
   "outputs": [],
   "source": [
    "post = mashr:::calc_post_precision_rcpp(t(data$Bhat), t(data$Shat), matrix(0,0,0), matrix(0,0,0), \n",
    "                              data$V,\n",
    "                              matrix(0,0,0), matrix(0,0,0), \n",
    "                              Vinv,\n",
    "                              simplify2array(U0),\n",
    "                              t(mixture_posterior_weights),\n",
    "                              4)"
   ]
  },
  {
   "cell_type": "code",
   "execution_count": 10,
   "metadata": {},
   "outputs": [
    {
     "data": {
      "text/html": [
       "<table>\n",
       "<caption>A matrix: 6 × 5 of type dbl</caption>\n",
       "<tbody>\n",
       "\t<tr><td> 0.10648725</td><td>-0.27095076</td><td>-0.19287497</td><td> 0.28341827</td><td>-0.102299771</td></tr>\n",
       "\t<tr><td> 0.02945312</td><td>-0.27311748</td><td> 0.08146581</td><td>-0.38142642</td><td>-0.286370518</td></tr>\n",
       "\t<tr><td>-0.13926952</td><td> 0.37119813</td><td>-0.23913835</td><td> 0.05792565</td><td>-0.011487166</td></tr>\n",
       "\t<tr><td>-0.11395643</td><td> 0.05432602</td><td> 0.24782794</td><td>-0.03170211</td><td> 0.081255488</td></tr>\n",
       "\t<tr><td> 0.06439769</td><td>-0.21287937</td><td> 0.03375723</td><td> 0.01161657</td><td> 0.006370752</td></tr>\n",
       "\t<tr><td>-0.12569260</td><td> 0.34081892</td><td>-0.19934896</td><td> 0.38732590</td><td> 0.116490270</td></tr>\n",
       "</tbody>\n",
       "</table>\n"
      ],
      "text/latex": [
       "A matrix: 6 × 5 of type dbl\n",
       "\\begin{tabular}{lllll}\n",
       "\t  0.10648725 & -0.27095076 & -0.19287497 &  0.28341827 & -0.102299771\\\\\n",
       "\t  0.02945312 & -0.27311748 &  0.08146581 & -0.38142642 & -0.286370518\\\\\n",
       "\t -0.13926952 &  0.37119813 & -0.23913835 &  0.05792565 & -0.011487166\\\\\n",
       "\t -0.11395643 &  0.05432602 &  0.24782794 & -0.03170211 &  0.081255488\\\\\n",
       "\t  0.06439769 & -0.21287937 &  0.03375723 &  0.01161657 &  0.006370752\\\\\n",
       "\t -0.12569260 &  0.34081892 & -0.19934896 &  0.38732590 &  0.116490270\\\\\n",
       "\\end{tabular}\n"
      ],
      "text/markdown": [
       "\n",
       "A matrix: 6 × 5 of type dbl\n",
       "\n",
       "|  0.10648725 | -0.27095076 | -0.19287497 |  0.28341827 | -0.102299771 |\n",
       "|  0.02945312 | -0.27311748 |  0.08146581 | -0.38142642 | -0.286370518 |\n",
       "| -0.13926952 |  0.37119813 | -0.23913835 |  0.05792565 | -0.011487166 |\n",
       "| -0.11395643 |  0.05432602 |  0.24782794 | -0.03170211 |  0.081255488 |\n",
       "|  0.06439769 | -0.21287937 |  0.03375723 |  0.01161657 |  0.006370752 |\n",
       "| -0.12569260 |  0.34081892 | -0.19934896 |  0.38732590 |  0.116490270 |\n",
       "\n"
      ],
      "text/plain": [
       "     [,1]        [,2]        [,3]        [,4]        [,5]        \n",
       "[1,]  0.10648725 -0.27095076 -0.19287497  0.28341827 -0.102299771\n",
       "[2,]  0.02945312 -0.27311748  0.08146581 -0.38142642 -0.286370518\n",
       "[3,] -0.13926952  0.37119813 -0.23913835  0.05792565 -0.011487166\n",
       "[4,] -0.11395643  0.05432602  0.24782794 -0.03170211  0.081255488\n",
       "[5,]  0.06439769 -0.21287937  0.03375723  0.01161657  0.006370752\n",
       "[6,] -0.12569260  0.34081892 -0.19934896  0.38732590  0.116490270"
      ]
     },
     "metadata": {},
     "output_type": "display_data"
    }
   ],
   "source": [
    "head(post$post_mean)"
   ]
  },
  {
   "cell_type": "code",
   "execution_count": 11,
   "metadata": {},
   "outputs": [
    {
     "data": {
      "text/html": [
       "<table>\n",
       "<caption>A matrix: 6 × 5 of type dbl</caption>\n",
       "<tbody>\n",
       "\t<tr><td> 0.10648725</td><td>-0.27095076</td><td>-0.19287497</td><td> 0.28341827</td><td>-0.102299771</td></tr>\n",
       "\t<tr><td> 0.02945312</td><td>-0.27311748</td><td> 0.08146581</td><td>-0.38142642</td><td>-0.286370518</td></tr>\n",
       "\t<tr><td>-0.13926952</td><td> 0.37119813</td><td>-0.23913835</td><td> 0.05792565</td><td>-0.011487166</td></tr>\n",
       "\t<tr><td>-0.11395643</td><td> 0.05432602</td><td> 0.24782794</td><td>-0.03170211</td><td> 0.081255488</td></tr>\n",
       "\t<tr><td> 0.06439769</td><td>-0.21287937</td><td> 0.03375723</td><td> 0.01161657</td><td> 0.006370752</td></tr>\n",
       "\t<tr><td>-0.12569260</td><td> 0.34081892</td><td>-0.19934896</td><td> 0.38732590</td><td> 0.116490270</td></tr>\n",
       "</tbody>\n",
       "</table>\n"
      ],
      "text/latex": [
       "A matrix: 6 × 5 of type dbl\n",
       "\\begin{tabular}{lllll}\n",
       "\t  0.10648725 & -0.27095076 & -0.19287497 &  0.28341827 & -0.102299771\\\\\n",
       "\t  0.02945312 & -0.27311748 &  0.08146581 & -0.38142642 & -0.286370518\\\\\n",
       "\t -0.13926952 &  0.37119813 & -0.23913835 &  0.05792565 & -0.011487166\\\\\n",
       "\t -0.11395643 &  0.05432602 &  0.24782794 & -0.03170211 &  0.081255488\\\\\n",
       "\t  0.06439769 & -0.21287937 &  0.03375723 &  0.01161657 &  0.006370752\\\\\n",
       "\t -0.12569260 &  0.34081892 & -0.19934896 &  0.38732590 &  0.116490270\\\\\n",
       "\\end{tabular}\n"
      ],
      "text/markdown": [
       "\n",
       "A matrix: 6 × 5 of type dbl\n",
       "\n",
       "|  0.10648725 | -0.27095076 | -0.19287497 |  0.28341827 | -0.102299771 |\n",
       "|  0.02945312 | -0.27311748 |  0.08146581 | -0.38142642 | -0.286370518 |\n",
       "| -0.13926952 |  0.37119813 | -0.23913835 |  0.05792565 | -0.011487166 |\n",
       "| -0.11395643 |  0.05432602 |  0.24782794 | -0.03170211 |  0.081255488 |\n",
       "|  0.06439769 | -0.21287937 |  0.03375723 |  0.01161657 |  0.006370752 |\n",
       "| -0.12569260 |  0.34081892 | -0.19934896 |  0.38732590 |  0.116490270 |\n",
       "\n"
      ],
      "text/plain": [
       "     [,1]        [,2]        [,3]        [,4]        [,5]        \n",
       "[1,]  0.10648725 -0.27095076 -0.19287497  0.28341827 -0.102299771\n",
       "[2,]  0.02945312 -0.27311748  0.08146581 -0.38142642 -0.286370518\n",
       "[3,] -0.13926952  0.37119813 -0.23913835  0.05792565 -0.011487166\n",
       "[4,] -0.11395643  0.05432602  0.24782794 -0.03170211  0.081255488\n",
       "[5,]  0.06439769 -0.21287937  0.03375723  0.01161657  0.006370752\n",
       "[6,] -0.12569260  0.34081892 -0.19934896  0.38732590  0.116490270"
      ]
     },
     "metadata": {},
     "output_type": "display_data"
    }
   ],
   "source": [
    "head(post0$post_mean)"
   ]
  },
  {
   "cell_type": "code",
   "execution_count": 12,
   "metadata": {},
   "outputs": [
    {
     "data": {
      "text/html": [
       "<ol class=list-inline>\n",
       "\t<li>0.287525180868499</li>\n",
       "\t<li>-0.0286926924948394</li>\n",
       "\t<li>-0.012630508716851</li>\n",
       "\t<li>0.0853551813709856</li>\n",
       "\t<li>0.00600312524312469</li>\n",
       "\t<li>-0.0286926924948394</li>\n",
       "</ol>\n"
      ],
      "text/latex": [
       "\\begin{enumerate*}\n",
       "\\item 0.287525180868499\n",
       "\\item -0.0286926924948394\n",
       "\\item -0.012630508716851\n",
       "\\item 0.0853551813709856\n",
       "\\item 0.00600312524312469\n",
       "\\item -0.0286926924948394\n",
       "\\end{enumerate*}\n"
      ],
      "text/markdown": [
       "1. 0.287525180868499\n",
       "2. -0.0286926924948394\n",
       "3. -0.012630508716851\n",
       "4. 0.0853551813709856\n",
       "5. 0.00600312524312469\n",
       "6. -0.0286926924948394\n",
       "\n",
       "\n"
      ],
      "text/plain": [
       "[1]  0.287525181 -0.028692692 -0.012630509  0.085355181  0.006003125\n",
       "[6] -0.028692692"
      ]
     },
     "metadata": {},
     "output_type": "display_data"
    }
   ],
   "source": [
    "head(post$post_cov)"
   ]
  },
  {
   "cell_type": "code",
   "execution_count": 13,
   "metadata": {},
   "outputs": [
    {
     "data": {
      "text/html": [
       "<ol class=list-inline>\n",
       "\t<li>0.287525180868499</li>\n",
       "\t<li>-0.0286926924948393</li>\n",
       "\t<li>-0.0126305087168509</li>\n",
       "\t<li>0.0853551813709856</li>\n",
       "\t<li>0.00600312524312477</li>\n",
       "\t<li>-0.0286926924948394</li>\n",
       "</ol>\n"
      ],
      "text/latex": [
       "\\begin{enumerate*}\n",
       "\\item 0.287525180868499\n",
       "\\item -0.0286926924948393\n",
       "\\item -0.0126305087168509\n",
       "\\item 0.0853551813709856\n",
       "\\item 0.00600312524312477\n",
       "\\item -0.0286926924948394\n",
       "\\end{enumerate*}\n"
      ],
      "text/markdown": [
       "1. 0.287525180868499\n",
       "2. -0.0286926924948393\n",
       "3. -0.0126305087168509\n",
       "4. 0.0853551813709856\n",
       "5. 0.00600312524312477\n",
       "6. -0.0286926924948394\n",
       "\n",
       "\n"
      ],
      "text/plain": [
       "[1]  0.287525181 -0.028692692 -0.012630509  0.085355181  0.006003125\n",
       "[6] -0.028692692"
      ]
     },
     "metadata": {},
     "output_type": "display_data"
    }
   ],
   "source": [
    "head(post0$post_cov)"
   ]
  }
 ],
 "metadata": {
  "kernelspec": {
   "display_name": "R",
   "language": "R",
   "name": "ir"
  },
  "language_info": {
   "codemirror_mode": "r",
   "file_extension": ".r",
   "mimetype": "text/x-r-source",
   "name": "R",
   "pygments_lexer": "r",
   "version": "3.5.3"
  }
 },
 "nbformat": 4,
 "nbformat_minor": 2
}
