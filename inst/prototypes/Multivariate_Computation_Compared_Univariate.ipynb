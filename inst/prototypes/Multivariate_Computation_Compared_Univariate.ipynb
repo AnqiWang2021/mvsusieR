{
 "cells": [
  {
   "cell_type": "markdown",
   "metadata": {},
   "source": [
    "# Comparing multivariate analysis using diagonal priors with univariate computations\n",
    "\n",
    "This is to verify that the mmbr implementation is correct for the truthly multivariate computations. Previously I have only compared it for the degenerated case where the prior matrix is 1 by 1."
   ]
  },
  {
   "cell_type": "markdown",
   "metadata": {},
   "source": [
    "## Simulate data"
   ]
  },
  {
   "cell_type": "code",
   "execution_count": 1,
   "metadata": {},
   "outputs": [],
   "source": [
    "set.seed(1)\n",
    "n = 1000\n",
    "p = 1000\n",
    "X = matrix(rnorm(n*p),nrow=n,ncol=p)\n",
    "beta1 = beta2 = rep(0,p)\n",
    "beta1[1:4] = runif(4)\n",
    "beta2[1:4] = runif(4)\n",
    "y1 = X %*% beta1 + rnorm(n)\n",
    "y2 = X %*% beta2 + rnorm(n)"
   ]
  },
  {
   "cell_type": "code",
   "execution_count": 2,
   "metadata": {},
   "outputs": [
    {
     "data": {
      "text/html": [
       "<ol class=list-inline>\n",
       "\t<li>0.614305987721309</li>\n",
       "\t<li>0.320199134992436</li>\n",
       "\t<li>0.205220706528053</li>\n",
       "\t<li>0.831295673502609</li>\n",
       "</ol>\n"
      ],
      "text/latex": [
       "\\begin{enumerate*}\n",
       "\\item 0.614305987721309\n",
       "\\item 0.320199134992436\n",
       "\\item 0.205220706528053\n",
       "\\item 0.831295673502609\n",
       "\\end{enumerate*}\n"
      ],
      "text/markdown": [
       "1. 0.614305987721309\n",
       "2. 0.320199134992436\n",
       "3. 0.205220706528053\n",
       "4. 0.831295673502609\n",
       "\n",
       "\n"
      ],
      "text/plain": [
       "[1] 0.6143060 0.3201991 0.2052207 0.8312957"
      ]
     },
     "metadata": {},
     "output_type": "display_data"
    }
   ],
   "source": [
    "beta1[1:4]"
   ]
  },
  {
   "cell_type": "code",
   "execution_count": 3,
   "metadata": {},
   "outputs": [
    {
     "data": {
      "text/html": [
       "<ol class=list-inline>\n",
       "\t<li>0.146828331751749</li>\n",
       "\t<li>0.368926718831062</li>\n",
       "\t<li>0.732725627720356</li>\n",
       "\t<li>0.773408411303535</li>\n",
       "</ol>\n"
      ],
      "text/latex": [
       "\\begin{enumerate*}\n",
       "\\item 0.146828331751749\n",
       "\\item 0.368926718831062\n",
       "\\item 0.732725627720356\n",
       "\\item 0.773408411303535\n",
       "\\end{enumerate*}\n"
      ],
      "text/markdown": [
       "1. 0.146828331751749\n",
       "2. 0.368926718831062\n",
       "3. 0.732725627720356\n",
       "4. 0.773408411303535\n",
       "\n",
       "\n"
      ],
      "text/plain": [
       "[1] 0.1468283 0.3689267 0.7327256 0.7734084"
      ]
     },
     "metadata": {},
     "output_type": "display_data"
    }
   ],
   "source": [
    "beta2[1:4]"
   ]
  },
  {
   "cell_type": "markdown",
   "metadata": {},
   "source": [
    "## Run univariate computation"
   ]
  },
  {
   "cell_type": "code",
   "execution_count": 4,
   "metadata": {},
   "outputs": [],
   "source": [
    "m1 = susieR::susie(X,y1,residual_variance = var(y1), estimate_residual_variance=F, scaled_prior_variance = 0.2, L=10)\n",
    "bhat1 = coef(m1)"
   ]
  },
  {
   "cell_type": "code",
   "execution_count": 5,
   "metadata": {},
   "outputs": [],
   "source": [
    "m2 = susieR::susie(X,y2,residual_variance = var(y2), estimate_residual_variance=F, scaled_prior_variance = 0.2, L=10)\n",
    "bhat2 = coef(m2)"
   ]
  },
  {
   "cell_type": "code",
   "execution_count": 6,
   "metadata": {},
   "outputs": [
    {
     "data": {
      "text/html": [
       "<ol class=list-inline>\n",
       "\t<li>0.645162702268217</li>\n",
       "\t<li>0.366051871429767</li>\n",
       "\t<li>0.0427790598240261</li>\n",
       "\t<li>0.817566203775892</li>\n",
       "</ol>\n"
      ],
      "text/latex": [
       "\\begin{enumerate*}\n",
       "\\item 0.645162702268217\n",
       "\\item 0.366051871429767\n",
       "\\item 0.0427790598240261\n",
       "\\item 0.817566203775892\n",
       "\\end{enumerate*}\n"
      ],
      "text/markdown": [
       "1. 0.645162702268217\n",
       "2. 0.366051871429767\n",
       "3. 0.0427790598240261\n",
       "4. 0.817566203775892\n",
       "\n",
       "\n"
      ],
      "text/plain": [
       "[1] 0.64516270 0.36605187 0.04277906 0.81756620"
      ]
     },
     "metadata": {},
     "output_type": "display_data"
    }
   ],
   "source": [
    "bhat1[2:5]"
   ]
  },
  {
   "cell_type": "code",
   "execution_count": 7,
   "metadata": {},
   "outputs": [
    {
     "data": {
      "text/html": [
       "<ol class=list-inline>\n",
       "\t<li>0.0980475617546921</li>\n",
       "\t<li>0.38960535231639</li>\n",
       "\t<li>0.738156435514154</li>\n",
       "\t<li>0.731947304076357</li>\n",
       "</ol>\n"
      ],
      "text/latex": [
       "\\begin{enumerate*}\n",
       "\\item 0.0980475617546921\n",
       "\\item 0.38960535231639\n",
       "\\item 0.738156435514154\n",
       "\\item 0.731947304076357\n",
       "\\end{enumerate*}\n"
      ],
      "text/markdown": [
       "1. 0.0980475617546921\n",
       "2. 0.38960535231639\n",
       "3. 0.738156435514154\n",
       "4. 0.731947304076357\n",
       "\n",
       "\n"
      ],
      "text/plain": [
       "[1] 0.09804756 0.38960535 0.73815644 0.73194730"
      ]
     },
     "metadata": {},
     "output_type": "display_data"
    }
   ],
   "source": [
    "bhat2[2:5]"
   ]
  },
  {
   "cell_type": "markdown",
   "metadata": {},
   "source": [
    "## Run multivariate computation"
   ]
  },
  {
   "cell_type": "code",
   "execution_count": 8,
   "metadata": {},
   "outputs": [],
   "source": [
    "prior_var = diag(0.2 * c(var(y1), var(y2)))\n",
    "residual_var = diag(c(var(y1), var(y2)))\n",
    "y = cbind(y1,y2)\n",
    "data = mmbr:::DenseData$new(X,y)"
   ]
  },
  {
   "cell_type": "code",
   "execution_count": 9,
   "metadata": {},
   "outputs": [],
   "source": [
    "prior_covar = mmbr:::MashInitializer$new(list(prior_var), 1, 1, 0)"
   ]
  },
  {
   "cell_type": "code",
   "execution_count": 10,
   "metadata": {},
   "outputs": [],
   "source": [
    "m = mmbr::susie(X, y, L=10, V=prior_covar)"
   ]
  },
  {
   "cell_type": "code",
   "execution_count": 11,
   "metadata": {},
   "outputs": [
    {
     "data": {
      "text/html": [
       "<ol class=list-inline>\n",
       "\t<li>0.638472610122762</li>\n",
       "\t<li>0.36247050294064</li>\n",
       "\t<li>0.173950724491783</li>\n",
       "\t<li>0.816801229780556</li>\n",
       "</ol>\n"
      ],
      "text/latex": [
       "\\begin{enumerate*}\n",
       "\\item 0.638472610122762\n",
       "\\item 0.36247050294064\n",
       "\\item 0.173950724491783\n",
       "\\item 0.816801229780556\n",
       "\\end{enumerate*}\n"
      ],
      "text/markdown": [
       "1. 0.638472610122762\n",
       "2. 0.36247050294064\n",
       "3. 0.173950724491783\n",
       "4. 0.816801229780556\n",
       "\n",
       "\n"
      ],
      "text/plain": [
       "[1] 0.6384726 0.3624705 0.1739507 0.8168012"
      ]
     },
     "metadata": {},
     "output_type": "display_data"
    }
   ],
   "source": [
    "m$coef[3:6]"
   ]
  },
  {
   "cell_type": "code",
   "execution_count": 12,
   "metadata": {},
   "outputs": [
    {
     "data": {
      "text/html": [
       "<ol class=list-inline>\n",
       "\t<li>0.18216096727379</li>\n",
       "\t<li>0.388286058279454</li>\n",
       "\t<li>0.734448514430323</li>\n",
       "\t<li>0.73044554056559</li>\n",
       "</ol>\n"
      ],
      "text/latex": [
       "\\begin{enumerate*}\n",
       "\\item 0.18216096727379\n",
       "\\item 0.388286058279454\n",
       "\\item 0.734448514430323\n",
       "\\item 0.73044554056559\n",
       "\\end{enumerate*}\n"
      ],
      "text/markdown": [
       "1. 0.18216096727379\n",
       "2. 0.388286058279454\n",
       "3. 0.734448514430323\n",
       "4. 0.73044554056559\n",
       "\n",
       "\n"
      ],
      "text/plain": [
       "[1] 0.1821610 0.3882861 0.7344485 0.7304455"
      ]
     },
     "metadata": {},
     "output_type": "display_data"
    }
   ],
   "source": [
    "m$coef[1003:1006]"
   ]
  }
 ],
 "metadata": {
  "kernelspec": {
   "display_name": "R",
   "language": "R",
   "name": "ir"
  },
  "language_info": {
   "codemirror_mode": "r",
   "file_extension": ".r",
   "mimetype": "text/x-r-source",
   "name": "R",
   "pygments_lexer": "r",
   "version": "3.4.4"
  }
 },
 "nbformat": 4,
 "nbformat_minor": 2
}
