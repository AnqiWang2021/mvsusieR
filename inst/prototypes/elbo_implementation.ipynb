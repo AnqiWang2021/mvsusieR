{
 "cells": [
  {
   "cell_type": "markdown",
   "metadata": {},
   "source": [
    "# ELBO implementation and comparisons\n",
    "\n",
    "I have implemented ELBO for M&M model based on write up in [this document](https://www.overleaf.com/project/5bd111aaa3ec8118d7b1cfa8)."
   ]
  },
  {
   "cell_type": "markdown",
   "metadata": {},
   "source": [
    "## `susieR` implementation in univariate case\n",
    "\n",
    "Here I simulate one trait and run with `susieR::susie` as well as `mmbr::susie` to check if the elbo agree."
   ]
  },
  {
   "cell_type": "code",
   "execution_count": 1,
   "metadata": {},
   "outputs": [
    {
     "name": "stderr",
     "output_type": "stream",
     "text": [
      "Loading required package: mashr\n",
      "Loading required package: ashr\n"
     ]
    }
   ],
   "source": [
    "library(mmbr)\n",
    "set.seed(2)"
   ]
  },
  {
   "cell_type": "markdown",
   "metadata": {},
   "source": [
    "I pick `L=5` and simulate a univariate trait,"
   ]
  },
  {
   "cell_type": "code",
   "execution_count": 2,
   "metadata": {},
   "outputs": [],
   "source": [
    "L = 5\n",
    "dat = mmbr_sim1(r=1)"
   ]
  },
  {
   "cell_type": "markdown",
   "metadata": {},
   "source": [
    "Then run SuSiE and get the ELBO,"
   ]
  },
  {
   "cell_type": "code",
   "execution_count": 4,
   "metadata": {},
   "outputs": [],
   "source": [
    "res = susieR::susie(dat$X,dat$y,L=L,scaled_prior_variance=0.2,estimate_residual_variance=F,estimate_prior_variance=F)"
   ]
  },
  {
   "cell_type": "code",
   "execution_count": 5,
   "metadata": {},
   "outputs": [
    {
     "data": {
      "text/html": [
       "<ol class=list-inline>\n",
       "\t<li>-429.40495176513</li>\n",
       "\t<li>-409.549300389438</li>\n",
       "\t<li>-407.707739710942</li>\n",
       "\t<li>-407.7058409462</li>\n",
       "\t<li>-407.70583907902</li>\n",
       "</ol>\n"
      ],
      "text/latex": [
       "\\begin{enumerate*}\n",
       "\\item -429.40495176513\n",
       "\\item -409.549300389438\n",
       "\\item -407.707739710942\n",
       "\\item -407.7058409462\n",
       "\\item -407.70583907902\n",
       "\\end{enumerate*}\n"
      ],
      "text/markdown": [
       "1. -429.40495176513\n",
       "2. -409.549300389438\n",
       "3. -407.707739710942\n",
       "4. -407.7058409462\n",
       "5. -407.70583907902\n",
       "\n",
       "\n"
      ],
      "text/plain": [
       "[1] -429.4050 -409.5493 -407.7077 -407.7058 -407.7058"
      ]
     },
     "metadata": {},
     "output_type": "display_data"
    }
   ],
   "source": [
    "res$elbo"
   ]
  },
  {
   "cell_type": "markdown",
   "metadata": {},
   "source": [
    "## Compare `mmbr`'s Bayesian multivariate regression module with SuSiE"
   ]
  },
  {
   "cell_type": "markdown",
   "metadata": {},
   "source": [
    "I have implemented the multiple regression [in this class in `mmbr` package](https://github.com/gaow/mmbr/blob/master/R/bayesian_multiple_regression.R). On the `mmbr` interface this is triggered by setting prior `V` as a scalar and make input `Y` a one column matrix,"
   ]
  },
  {
   "cell_type": "code",
   "execution_count": 9,
   "metadata": {},
   "outputs": [],
   "source": [
    "res = mmbr::susie(dat$X,dat$y,L=L,V=0.2,compute_objective=T,estimate_residual_variance=F,estimate_prior_variance=F)"
   ]
  },
  {
   "cell_type": "code",
   "execution_count": 10,
   "metadata": {},
   "outputs": [
    {
     "data": {
      "text/html": [
       "<ol class=list-inline>\n",
       "\t<li>-429.40495176513</li>\n",
       "\t<li>-409.549300389436</li>\n",
       "\t<li>-407.707739710942</li>\n",
       "\t<li>-407.7058409462</li>\n",
       "\t<li>-407.70583907902</li>\n",
       "</ol>\n"
      ],
      "text/latex": [
       "\\begin{enumerate*}\n",
       "\\item -429.40495176513\n",
       "\\item -409.549300389436\n",
       "\\item -407.707739710942\n",
       "\\item -407.7058409462\n",
       "\\item -407.70583907902\n",
       "\\end{enumerate*}\n"
      ],
      "text/markdown": [
       "1. -429.40495176513\n",
       "2. -409.549300389436\n",
       "3. -407.707739710942\n",
       "4. -407.7058409462\n",
       "5. -407.70583907902\n",
       "\n",
       "\n"
      ],
      "text/plain": [
       "[1] -429.4050 -409.5493 -407.7077 -407.7058 -407.7058"
      ]
     },
     "metadata": {},
     "output_type": "display_data"
    }
   ],
   "source": [
    "res$elbo"
   ]
  },
  {
   "cell_type": "markdown",
   "metadata": {},
   "source": [
    "The output is identical to using `susieR`."
   ]
  },
  {
   "cell_type": "markdown",
   "metadata": {},
   "source": [
    "## Compare `mmbr`'s MASH regression module with SuSiE"
   ]
  },
  {
   "cell_type": "markdown",
   "metadata": {},
   "source": [
    "Here I create a degenerated [MASH regression module implemented in `mmbr`](https://github.com/gaow/mmbr/blob/master/R/mash_multiple_regression.R). \"Degenerated\" means it has only one phenotype, and the prior is also a trivial one-component 1 by 1 matrix of `0.2 * var(Y)`. Here we use `EE` model in MASH (`alpha = 0`)."
   ]
  },
  {
   "cell_type": "markdown",
   "metadata": {},
   "source": [
    "The difference in code between this and previous section in computing ELBO can be found in this function for computing the L-th KL: [compute_expected_loglik_partial()](https://github.com/gaow/mmbr/blob/7eead885b914efcb44e97acfb26a1b81bec6ab64/R/single_effect_regression.R#L37) and this function: [compute_objective()](https://github.com/gaow/mmbr/blob/7eead885b914efcb44e97acfb26a1b81bec6ab64/R/susie_regression.R#L111) for finalizing the ELBO. The univariate and multivariate cases are distinguished by `if ... else` statement."
   ]
  },
  {
   "cell_type": "code",
   "execution_count": 12,
   "metadata": {},
   "outputs": [
    {
     "data": {
      "text/html": [
       "<dl>\n",
       "\t<dt>$pi</dt>\n",
       "\t\t<dd><ol class=list-inline>\n",
       "\t<li>0</li>\n",
       "\t<li>1</li>\n",
       "</ol>\n",
       "</dd>\n",
       "\t<dt>$Ulist</dt>\n",
       "\t\t<dd><ol>\n",
       "\t<li><table>\n",
       "<caption>A matrix: 1 × 1 of type dbl</caption>\n",
       "<tbody>\n",
       "\t<tr><td>1.138784</td></tr>\n",
       "</tbody>\n",
       "</table>\n",
       "</li>\n",
       "</ol>\n",
       "</dd>\n",
       "\t<dt>$grid</dt>\n",
       "\t\t<dd>1</dd>\n",
       "\t<dt>$usepointmass</dt>\n",
       "\t\t<dd>TRUE</dd>\n",
       "</dl>\n"
      ],
      "text/latex": [
       "\\begin{description}\n",
       "\\item[\\$pi] \\begin{enumerate*}\n",
       "\\item 0\n",
       "\\item 1\n",
       "\\end{enumerate*}\n",
       "\n",
       "\\item[\\$Ulist] \\begin{enumerate}\n",
       "\\item A matrix: 1 × 1 of type dbl\n",
       "\\begin{tabular}{l}\n",
       "\t 1.138784\\\\\n",
       "\\end{tabular}\n",
       "\n",
       "\\end{enumerate}\n",
       "\n",
       "\\item[\\$grid] 1\n",
       "\\item[\\$usepointmass] TRUE\n",
       "\\end{description}\n"
      ],
      "text/markdown": [
       "$pi\n",
       ":   1. 0\n",
       "2. 1\n",
       "\n",
       "\n",
       "\n",
       "$Ulist\n",
       ":   1. \n",
       "A matrix: 1 × 1 of type dbl\n",
       "\n",
       "| 1.138784 |\n",
       "\n",
       "\n",
       "\n",
       "\n",
       "\n",
       "$grid\n",
       ":   1\n",
       "$usepointmass\n",
       ":   TRUE\n",
       "\n",
       "\n"
      ],
      "text/plain": [
       "$pi\n",
       "[1] 0 1\n",
       "\n",
       "$Ulist\n",
       "$Ulist[[1]]\n",
       "         [,1]\n",
       "[1,] 1.138784\n",
       "\n",
       "\n",
       "$grid\n",
       "[1] 1\n",
       "\n",
       "$usepointmass\n",
       "[1] TRUE\n"
      ]
     },
     "metadata": {},
     "output_type": "display_data"
    }
   ],
   "source": [
    "m_init = mmbr:::MashInitializer$new(list(matrix(0.2*var(dat$y))), 1, prior_weight =1, null_weight=0,alpha=0)\n",
    "m_init$mash_prior"
   ]
  },
  {
   "cell_type": "code",
   "execution_count": 13,
   "metadata": {},
   "outputs": [],
   "source": [
    "res = mmbr::susie(dat$X,dat$y,L=L,V=m_init,compute_objective=T,estimate_residual_variance=F)"
   ]
  },
  {
   "cell_type": "code",
   "execution_count": 14,
   "metadata": {},
   "outputs": [
    {
     "data": {
      "text/html": [
       "<ol class=list-inline>\n",
       "\t<li>-429.40495176513</li>\n",
       "\t<li>-409.549300389436</li>\n",
       "\t<li>-407.707739710942</li>\n",
       "\t<li>-407.7058409462</li>\n",
       "\t<li>-407.70583907902</li>\n",
       "</ol>\n"
      ],
      "text/latex": [
       "\\begin{enumerate*}\n",
       "\\item -429.40495176513\n",
       "\\item -409.549300389436\n",
       "\\item -407.707739710942\n",
       "\\item -407.7058409462\n",
       "\\item -407.70583907902\n",
       "\\end{enumerate*}\n"
      ],
      "text/markdown": [
       "1. -429.40495176513\n",
       "2. -409.549300389436\n",
       "3. -407.707739710942\n",
       "4. -407.7058409462\n",
       "5. -407.70583907902\n",
       "\n",
       "\n"
      ],
      "text/plain": [
       "[1] -429.4050 -409.5493 -407.7077 -407.7058 -407.7058"
      ]
     },
     "metadata": {},
     "output_type": "display_data"
    }
   ],
   "source": [
    "res$elbo"
   ]
  },
  {
   "cell_type": "markdown",
   "metadata": {},
   "source": [
    "The output is also the same as previous calculations."
   ]
  },
  {
   "cell_type": "markdown",
   "metadata": {},
   "source": [
    "## Problem with multivariate calculation"
   ]
  },
  {
   "cell_type": "markdown",
   "metadata": {},
   "source": [
    "Now using the same code, but more phenotypes, `R = 5`, and still using a very simple prior for the MASH part,"
   ]
  },
  {
   "cell_type": "code",
   "execution_count": 20,
   "metadata": {},
   "outputs": [
    {
     "data": {
      "text/html": [
       "<dl>\n",
       "\t<dt>$pi</dt>\n",
       "\t\t<dd><ol class=list-inline>\n",
       "\t<li>0</li>\n",
       "\t<li>1</li>\n",
       "</ol>\n",
       "</dd>\n",
       "\t<dt>$Ulist</dt>\n",
       "\t\t<dd><ol>\n",
       "\t<li><table>\n",
       "<caption>A matrix: 5 × 5 of type dbl</caption>\n",
       "<tbody>\n",
       "\t<tr><td> 1.14068826</td><td>-0.02561830</td><td>-0.19275481</td><td>-0.040421229</td><td>-0.029376381</td></tr>\n",
       "\t<tr><td>-0.02561830</td><td> 1.01088663</td><td> 0.03491952</td><td> 0.018064842</td><td> 0.016833489</td></tr>\n",
       "\t<tr><td>-0.19275481</td><td> 0.03491952</td><td> 1.15215509</td><td>-0.112673234</td><td>-0.063194855</td></tr>\n",
       "\t<tr><td>-0.04042123</td><td> 0.01806484</td><td>-0.11267323</td><td> 0.836044978</td><td> 0.008248383</td></tr>\n",
       "\t<tr><td>-0.02937638</td><td> 0.01683349</td><td>-0.06319485</td><td> 0.008248383</td><td> 0.865937437</td></tr>\n",
       "</tbody>\n",
       "</table>\n",
       "</li>\n",
       "</ol>\n",
       "</dd>\n",
       "\t<dt>$grid</dt>\n",
       "\t\t<dd>1</dd>\n",
       "\t<dt>$usepointmass</dt>\n",
       "\t\t<dd>TRUE</dd>\n",
       "</dl>\n"
      ],
      "text/latex": [
       "\\begin{description}\n",
       "\\item[\\$pi] \\begin{enumerate*}\n",
       "\\item 0\n",
       "\\item 1\n",
       "\\end{enumerate*}\n",
       "\n",
       "\\item[\\$Ulist] \\begin{enumerate}\n",
       "\\item A matrix: 5 × 5 of type dbl\n",
       "\\begin{tabular}{lllll}\n",
       "\t  1.14068826 & -0.02561830 & -0.19275481 & -0.040421229 & -0.029376381\\\\\n",
       "\t -0.02561830 &  1.01088663 &  0.03491952 &  0.018064842 &  0.016833489\\\\\n",
       "\t -0.19275481 &  0.03491952 &  1.15215509 & -0.112673234 & -0.063194855\\\\\n",
       "\t -0.04042123 &  0.01806484 & -0.11267323 &  0.836044978 &  0.008248383\\\\\n",
       "\t -0.02937638 &  0.01683349 & -0.06319485 &  0.008248383 &  0.865937437\\\\\n",
       "\\end{tabular}\n",
       "\n",
       "\\end{enumerate}\n",
       "\n",
       "\\item[\\$grid] 1\n",
       "\\item[\\$usepointmass] TRUE\n",
       "\\end{description}\n"
      ],
      "text/markdown": [
       "$pi\n",
       ":   1. 0\n",
       "2. 1\n",
       "\n",
       "\n",
       "\n",
       "$Ulist\n",
       ":   1. \n",
       "A matrix: 5 × 5 of type dbl\n",
       "\n",
       "|  1.14068826 | -0.02561830 | -0.19275481 | -0.040421229 | -0.029376381 |\n",
       "| -0.02561830 |  1.01088663 |  0.03491952 |  0.018064842 |  0.016833489 |\n",
       "| -0.19275481 |  0.03491952 |  1.15215509 | -0.112673234 | -0.063194855 |\n",
       "| -0.04042123 |  0.01806484 | -0.11267323 |  0.836044978 |  0.008248383 |\n",
       "| -0.02937638 |  0.01683349 | -0.06319485 |  0.008248383 |  0.865937437 |\n",
       "\n",
       "\n",
       "\n",
       "\n",
       "\n",
       "$grid\n",
       ":   1\n",
       "$usepointmass\n",
       ":   TRUE\n",
       "\n",
       "\n"
      ],
      "text/plain": [
       "$pi\n",
       "[1] 0 1\n",
       "\n",
       "$Ulist\n",
       "$Ulist[[1]]\n",
       "            [,1]        [,2]        [,3]         [,4]         [,5]\n",
       "[1,]  1.14068826 -0.02561830 -0.19275481 -0.040421229 -0.029376381\n",
       "[2,] -0.02561830  1.01088663  0.03491952  0.018064842  0.016833489\n",
       "[3,] -0.19275481  0.03491952  1.15215509 -0.112673234 -0.063194855\n",
       "[4,] -0.04042123  0.01806484 -0.11267323  0.836044978  0.008248383\n",
       "[5,] -0.02937638  0.01683349 -0.06319485  0.008248383  0.865937437\n",
       "\n",
       "\n",
       "$grid\n",
       "[1] 1\n",
       "\n",
       "$usepointmass\n",
       "[1] TRUE\n"
      ]
     },
     "metadata": {},
     "output_type": "display_data"
    }
   ],
   "source": [
    "set.seed(2)\n",
    "dat = mmbr_sim1(r=5)\n",
    "m_init = mmbr:::MashInitializer$new(list(dat$V), 1, prior_weight =1, null_weight=0,alpha=0)\n",
    "m_init$mash_prior"
   ]
  },
  {
   "cell_type": "markdown",
   "metadata": {},
   "source": [
    "But the ELBO now is problematic,"
   ]
  },
  {
   "cell_type": "code",
   "execution_count": 21,
   "metadata": {},
   "outputs": [
    {
     "name": "stderr",
     "output_type": "stream",
     "text": [
      "Warning message in m$get_objective(dump = TRUE):\n",
      "“Objective is not non-decreasing”"
     ]
    }
   ],
   "source": [
    "res = mmbr::susie(dat$X,dat$y,L=L,V=m_init,compute_objective=T,estimate_residual_variance=F)"
   ]
  },
  {
   "cell_type": "code",
   "execution_count": 22,
   "metadata": {},
   "outputs": [
    {
     "data": {
      "text/html": [
       "<ol class=list-inline>\n",
       "\t<li>-2175.62693859326</li>\n",
       "\t<li>-2167.86641698802</li>\n",
       "\t<li>-2165.96779287995</li>\n",
       "\t<li>-2163.65364615963</li>\n",
       "\t<li>-2162.84327893865</li>\n",
       "\t<li>-2161.81742415547</li>\n",
       "\t<li>-2160.47818053715</li>\n",
       "\t<li>-2160.57300024871</li>\n",
       "</ol>\n"
      ],
      "text/latex": [
       "\\begin{enumerate*}\n",
       "\\item -2175.62693859326\n",
       "\\item -2167.86641698802\n",
       "\\item -2165.96779287995\n",
       "\\item -2163.65364615963\n",
       "\\item -2162.84327893865\n",
       "\\item -2161.81742415547\n",
       "\\item -2160.47818053715\n",
       "\\item -2160.57300024871\n",
       "\\end{enumerate*}\n"
      ],
      "text/markdown": [
       "1. -2175.62693859326\n",
       "2. -2167.86641698802\n",
       "3. -2165.96779287995\n",
       "4. -2163.65364615963\n",
       "5. -2162.84327893865\n",
       "6. -2161.81742415547\n",
       "7. -2160.47818053715\n",
       "8. -2160.57300024871\n",
       "\n",
       "\n"
      ],
      "text/plain": [
       "[1] -2175.627 -2167.866 -2165.968 -2163.654 -2162.843 -2161.817 -2160.478\n",
       "[8] -2160.573"
      ]
     },
     "metadata": {},
     "output_type": "display_data"
    }
   ],
   "source": [
    "res$elbo"
   ]
  },
  {
   "cell_type": "markdown",
   "metadata": {},
   "source": [
    "although it is not always reproduced, eg with a different seed:"
   ]
  },
  {
   "cell_type": "code",
   "execution_count": 25,
   "metadata": {},
   "outputs": [
    {
     "data": {
      "text/html": [
       "<ol class=list-inline>\n",
       "\t<li>-2160.72684263865</li>\n",
       "\t<li>-2156.67794273142</li>\n",
       "\t<li>-2155.30077273089</li>\n",
       "\t<li>-2153.17920875588</li>\n",
       "\t<li>-2152.59376272092</li>\n",
       "\t<li>-2152.46246944398</li>\n",
       "\t<li>-2152.43582299289</li>\n",
       "\t<li>-2152.42981649149</li>\n",
       "\t<li>-2152.42826536545</li>\n",
       "\t<li>-2152.42782200092</li>\n",
       "</ol>\n"
      ],
      "text/latex": [
       "\\begin{enumerate*}\n",
       "\\item -2160.72684263865\n",
       "\\item -2156.67794273142\n",
       "\\item -2155.30077273089\n",
       "\\item -2153.17920875588\n",
       "\\item -2152.59376272092\n",
       "\\item -2152.46246944398\n",
       "\\item -2152.43582299289\n",
       "\\item -2152.42981649149\n",
       "\\item -2152.42826536545\n",
       "\\item -2152.42782200092\n",
       "\\end{enumerate*}\n"
      ],
      "text/markdown": [
       "1. -2160.72684263865\n",
       "2. -2156.67794273142\n",
       "3. -2155.30077273089\n",
       "4. -2153.17920875588\n",
       "5. -2152.59376272092\n",
       "6. -2152.46246944398\n",
       "7. -2152.43582299289\n",
       "8. -2152.42981649149\n",
       "9. -2152.42826536545\n",
       "10. -2152.42782200092\n",
       "\n",
       "\n"
      ],
      "text/plain": [
       " [1] -2160.727 -2156.678 -2155.301 -2153.179 -2152.594 -2152.462 -2152.436\n",
       " [8] -2152.430 -2152.428 -2152.428"
      ]
     },
     "metadata": {},
     "output_type": "display_data"
    }
   ],
   "source": [
    "set.seed(1)\n",
    "dat = mmbr_sim1(r=5)\n",
    "m_init = mmbr:::MashInitializer$new(list(dat$V), 1, prior_weight =1, null_weight=0,alpha=0)\n",
    "res = mmbr::susie(dat$X,dat$y,L=L,V=m_init,compute_objective=T,estimate_residual_variance=F)\n",
    "res$elbo"
   ]
  }
 ],
 "metadata": {
  "kernelspec": {
   "display_name": "R",
   "language": "R",
   "name": "ir"
  },
  "language_info": {
   "codemirror_mode": "r",
   "file_extension": ".r",
   "mimetype": "text/x-r-source",
   "name": "R",
   "pygments_lexer": "r",
   "version": "3.5.3"
  }
 },
 "nbformat": 4,
 "nbformat_minor": 4
}
