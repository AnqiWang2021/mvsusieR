{
 "cells": [
  {
   "cell_type": "markdown",
   "metadata": {},
   "source": [
    "# Decreasing ELBO issue\n",
    "\n",
    "Possibly caused by comparing and setting prior variances to zero when estimating them.\n",
    "\n",
    "## Context\n",
    "\n",
    "I recently implemented EM updates for prior scalar in both MASH regression and  Bayesian multivariate regression (hereafter BMR, essentially MASH with just one component but we have separate, simpler code for it written in R for prototyping purpose). I verified with some tests that for IBSS using MASH mixture with only one matrix the result agree with IBSS using BMR. And BMR, when reduced to just one response, agrees with susieR result. The EM estimate for prior variance scalar are identical and ELBO are non-decreasing. \n",
    "\n",
    "## Problem\n",
    "\n",
    "However, as I moved on to more simulations I get warnings for decreasing ELBO. It seems to happen only when there are many effect variables relative to conditions. For example my toy example below has 2 conditions each having 2 effect variables out of 50 variables. The problem is that not only EM method, but also the \"simple\" method which estimates prior variance scalar simply by comparing the original to zero and accept whichever has better likelihood, resulted in decreasing ELBO."
   ]
  },
  {
   "cell_type": "markdown",
   "metadata": {},
   "source": [
    "This is not the case for SuSiE -- no matter how many effect variables are there, the ELBO is non-decreasing. And at least in my toy example below, estimating the scalar using `optim` also works."
   ]
  },
  {
   "cell_type": "markdown",
   "metadata": {},
   "source": [
    "## Possible cause\n",
    "\n",
    "An interesting observation is that if I switch off the comparison between current estimate and zero at the end of each EM update ([comment out this line](https://github.com/stephenslab/mmbr/blob/390eb23852fa5ed5c17b5062deb6f3e8494ba76e/R/single_effect_model.R#L22)), the algorithm takes longer to converge but ELBO is non-decreasing, is eventually larger than any other approaches, and the estimates make more sense given we know the truth. \n",
    "\n",
    "A major difference between EM update and maximizing the single effect loglik directly is that the former is a function of posterior quantities whereas the latter only involves the data, with the prior to be estimated ([here for instance](https://github.com/stephenslab/mmbr/blob/390eb23852fa5ed5c17b5062deb6f3e8494ba76e/R/bayesian_simple_regression.R#L73)). As a result, in EM updates if in a previous iteration sets the estimate to zero then it will impact the posterior of the next iteration and the estimate will never come back from zero. This is not the case for when prior is directly estimated as in `optim`.\n",
    "\n",
    "However it is still puzzling that `simple` method doesn't work.\n",
    "\n",
    "## Illustration\n",
    "\n",
    "Here I use BMR not MASH regression to illustrate."
   ]
  },
  {
   "cell_type": "code",
   "execution_count": 1,
   "metadata": {},
   "outputs": [
    {
     "name": "stderr",
     "output_type": "stream",
     "text": [
      "Loading mmbr\n",
      "\n",
      "Loading required package: mashr\n",
      "\n",
      "Loading required package: ashr\n",
      "\n"
     ]
    }
   ],
   "source": [
    "devtools::load_all('~/GIT/software/mmbr')\n",
    "set.seed(1)\n",
    "dat = mmbr_sim1(n=50,p=50,r=2,s=2)\n",
    "L = 10"
   ]
  },
  {
   "cell_type": "markdown",
   "metadata": {},
   "source": [
    "There are 2 conditions, each having 2 effect variables."
   ]
  },
  {
   "cell_type": "code",
   "execution_count": 2,
   "metadata": {},
   "outputs": [
    {
     "data": {
      "text/html": [
       "4"
      ],
      "text/latex": [
       "4"
      ],
      "text/markdown": [
       "4"
      ],
      "text/plain": [
       "[1] 4"
      ]
     },
     "metadata": {},
     "output_type": "display_data"
    }
   ],
   "source": [
    "sum(rowSums(dat$b)>0)"
   ]
  },
  {
   "cell_type": "markdown",
   "metadata": {},
   "source": [
    "### Fit without estimating prior\n",
    "\n",
    "We use fixed prior here provided by simulated data object; everything looks fine:"
   ]
  },
  {
   "cell_type": "code",
   "execution_count": 3,
   "metadata": {},
   "outputs": [
    {
     "data": {
      "text/html": [
       "<table>\n",
       "<caption>A matrix: 2 × 2 of type dbl</caption>\n",
       "<tbody>\n",
       "\t<tr><td>0.46673960</td><td>0.05659291</td></tr>\n",
       "\t<tr><td>0.05659291</td><td>0.50840182</td></tr>\n",
       "</tbody>\n",
       "</table>\n"
      ],
      "text/latex": [
       "A matrix: 2 × 2 of type dbl\n",
       "\\begin{tabular}{ll}\n",
       "\t 0.46673960 & 0.05659291\\\\\n",
       "\t 0.05659291 & 0.50840182\\\\\n",
       "\\end{tabular}\n"
      ],
      "text/markdown": [
       "\n",
       "A matrix: 2 × 2 of type dbl\n",
       "\n",
       "| 0.46673960 | 0.05659291 |\n",
       "| 0.05659291 | 0.50840182 |\n",
       "\n"
      ],
      "text/plain": [
       "     [,1]       [,2]      \n",
       "[1,] 0.46673960 0.05659291\n",
       "[2,] 0.05659291 0.50840182"
      ]
     },
     "metadata": {},
     "output_type": "display_data"
    }
   ],
   "source": [
    "dat$V"
   ]
  },
  {
   "cell_type": "code",
   "execution_count": 4,
   "metadata": {},
   "outputs": [],
   "source": [
    "fit0 = msusie(dat$X,dat$y,L=L,prior_variance=dat$V, \n",
    "              compute_objective=T, estimate_residual_variance=F, \n",
    "              estimate_prior_variance=F)"
   ]
  },
  {
   "cell_type": "code",
   "execution_count": 5,
   "metadata": {},
   "outputs": [
    {
     "data": {
      "text/html": [
       "<style>\n",
       ".list-inline {list-style: none; margin:0; padding: 0}\n",
       ".list-inline>li {display: inline-block}\n",
       ".list-inline>li:not(:last-child)::after {content: \"\\00b7\"; padding: 0 .5ex}\n",
       "</style>\n",
       "<ol class=list-inline><li>-198.044780051201</li><li>-196.062858410187</li><li>-195.768521254949</li><li>-195.608472451142</li><li>-195.361025036579</li><li>-195.242309228748</li><li>-195.227677853132</li><li>-195.225650183385</li><li>-195.224819801876</li></ol>\n"
      ],
      "text/latex": [
       "\\begin{enumerate*}\n",
       "\\item -198.044780051201\n",
       "\\item -196.062858410187\n",
       "\\item -195.768521254949\n",
       "\\item -195.608472451142\n",
       "\\item -195.361025036579\n",
       "\\item -195.242309228748\n",
       "\\item -195.227677853132\n",
       "\\item -195.225650183385\n",
       "\\item -195.224819801876\n",
       "\\end{enumerate*}\n"
      ],
      "text/markdown": [
       "1. -198.044780051201\n",
       "2. -196.062858410187\n",
       "3. -195.768521254949\n",
       "4. -195.608472451142\n",
       "5. -195.361025036579\n",
       "6. -195.242309228748\n",
       "7. -195.227677853132\n",
       "8. -195.225650183385\n",
       "9. -195.224819801876\n",
       "\n",
       "\n"
      ],
      "text/plain": [
       "[1] -198.0448 -196.0629 -195.7685 -195.6085 -195.3610 -195.2423 -195.2277\n",
       "[8] -195.2257 -195.2248"
      ]
     },
     "metadata": {},
     "output_type": "display_data"
    }
   ],
   "source": [
    "fit0$elbo"
   ]
  },
  {
   "cell_type": "code",
   "execution_count": 6,
   "metadata": {},
   "outputs": [
    {
     "data": {
      "text/html": [
       "<style>\n",
       ".list-inline {list-style: none; margin:0; padding: 0}\n",
       ".list-inline>li {display: inline-block}\n",
       ".list-inline>li:not(:last-child)::after {content: \"\\00b7\"; padding: 0 .5ex}\n",
       "</style>\n",
       "<ol class=list-inline><li>1</li><li>1</li><li>1</li><li>1</li><li>1</li><li>1</li><li>1</li><li>1</li><li>1</li><li>1</li></ol>\n"
      ],
      "text/latex": [
       "\\begin{enumerate*}\n",
       "\\item 1\n",
       "\\item 1\n",
       "\\item 1\n",
       "\\item 1\n",
       "\\item 1\n",
       "\\item 1\n",
       "\\item 1\n",
       "\\item 1\n",
       "\\item 1\n",
       "\\item 1\n",
       "\\end{enumerate*}\n"
      ],
      "text/markdown": [
       "1. 1\n",
       "2. 1\n",
       "3. 1\n",
       "4. 1\n",
       "5. 1\n",
       "6. 1\n",
       "7. 1\n",
       "8. 1\n",
       "9. 1\n",
       "10. 1\n",
       "\n",
       "\n"
      ],
      "text/plain": [
       " [1] 1 1 1 1 1 1 1 1 1 1"
      ]
     },
     "metadata": {},
     "output_type": "display_data"
    }
   ],
   "source": [
    "fit0$V"
   ]
  },
  {
   "cell_type": "markdown",
   "metadata": {},
   "source": [
    "### `simple` method"
   ]
  },
  {
   "cell_type": "markdown",
   "metadata": {},
   "source": [
    "Using `simple` method we see decreasing ELBO, and only 1 out of 4 effects was captured."
   ]
  },
  {
   "cell_type": "code",
   "execution_count": 7,
   "metadata": {},
   "outputs": [
    {
     "name": "stderr",
     "output_type": "stream",
     "text": [
      "Warning message in m$get_objective(dump = TRUE):\n",
      "“Objective is not non-decreasing”\n"
     ]
    }
   ],
   "source": [
    "fit1 = msusie(dat$X,dat$y,L=L,prior_variance=dat$V, \n",
    "              compute_objective=T, estimate_residual_variance=F, \n",
    "              estimate_prior_variance=T, estimate_prior_method = 'simple')"
   ]
  },
  {
   "cell_type": "code",
   "execution_count": 8,
   "metadata": {},
   "outputs": [
    {
     "data": {
      "text/html": [
       "<style>\n",
       ".list-inline {list-style: none; margin:0; padding: 0}\n",
       ".list-inline>li {display: inline-block}\n",
       ".list-inline>li:not(:last-child)::after {content: \"\\00b7\"; padding: 0 .5ex}\n",
       "</style>\n",
       "<ol class=list-inline><li>-182.785460711142</li><li>-182.785460711142</li></ol>\n"
      ],
      "text/latex": [
       "\\begin{enumerate*}\n",
       "\\item -182.785460711142\n",
       "\\item -182.785460711142\n",
       "\\end{enumerate*}\n"
      ],
      "text/markdown": [
       "1. -182.785460711142\n",
       "2. -182.785460711142\n",
       "\n",
       "\n"
      ],
      "text/plain": [
       "[1] -182.7855 -182.7855"
      ]
     },
     "metadata": {},
     "output_type": "display_data"
    }
   ],
   "source": [
    "fit1$elbo"
   ]
  },
  {
   "cell_type": "code",
   "execution_count": 9,
   "metadata": {},
   "outputs": [
    {
     "data": {
      "text/html": [
       "<style>\n",
       ".list-inline {list-style: none; margin:0; padding: 0}\n",
       ".list-inline>li {display: inline-block}\n",
       ".list-inline>li:not(:last-child)::after {content: \"\\00b7\"; padding: 0 .5ex}\n",
       "</style>\n",
       "<ol class=list-inline><li>1</li><li>0</li><li>0</li><li>0</li><li>0</li><li>0</li><li>0</li><li>0</li><li>0</li><li>0</li></ol>\n"
      ],
      "text/latex": [
       "\\begin{enumerate*}\n",
       "\\item 1\n",
       "\\item 0\n",
       "\\item 0\n",
       "\\item 0\n",
       "\\item 0\n",
       "\\item 0\n",
       "\\item 0\n",
       "\\item 0\n",
       "\\item 0\n",
       "\\item 0\n",
       "\\end{enumerate*}\n"
      ],
      "text/markdown": [
       "1. 1\n",
       "2. 0\n",
       "3. 0\n",
       "4. 0\n",
       "5. 0\n",
       "6. 0\n",
       "7. 0\n",
       "8. 0\n",
       "9. 0\n",
       "10. 0\n",
       "\n",
       "\n"
      ],
      "text/plain": [
       " [1] 1 0 0 0 0 0 0 0 0 0"
      ]
     },
     "metadata": {},
     "output_type": "display_data"
    }
   ],
   "source": [
    "fit1$V"
   ]
  },
  {
   "cell_type": "markdown",
   "metadata": {},
   "source": [
    "Notice that with `L = 5` I get the same behavior,"
   ]
  },
  {
   "cell_type": "code",
   "execution_count": 10,
   "metadata": {},
   "outputs": [
    {
     "name": "stderr",
     "output_type": "stream",
     "text": [
      "Warning message in m$get_objective(dump = TRUE):\n",
      "“Objective is not non-decreasing”\n"
     ]
    }
   ],
   "source": [
    "fit11 = msusie(dat$X,dat$y,L=5,prior_variance=dat$V, \n",
    "              compute_objective=T, estimate_residual_variance=F, \n",
    "              estimate_prior_variance=T, estimate_prior_method = 'simple')"
   ]
  },
  {
   "cell_type": "code",
   "execution_count": 11,
   "metadata": {},
   "outputs": [
    {
     "data": {
      "text/html": [
       "<style>\n",
       ".list-inline {list-style: none; margin:0; padding: 0}\n",
       ".list-inline>li {display: inline-block}\n",
       ".list-inline>li:not(:last-child)::after {content: \"\\00b7\"; padding: 0 .5ex}\n",
       "</style>\n",
       "<ol class=list-inline><li>-182.785460711142</li><li>-182.785460711142</li></ol>\n"
      ],
      "text/latex": [
       "\\begin{enumerate*}\n",
       "\\item -182.785460711142\n",
       "\\item -182.785460711142\n",
       "\\end{enumerate*}\n"
      ],
      "text/markdown": [
       "1. -182.785460711142\n",
       "2. -182.785460711142\n",
       "\n",
       "\n"
      ],
      "text/plain": [
       "[1] -182.7855 -182.7855"
      ]
     },
     "metadata": {},
     "output_type": "display_data"
    }
   ],
   "source": [
    "fit11$elbo"
   ]
  },
  {
   "cell_type": "code",
   "execution_count": 12,
   "metadata": {},
   "outputs": [
    {
     "data": {
      "text/html": [
       "<style>\n",
       ".list-inline {list-style: none; margin:0; padding: 0}\n",
       ".list-inline>li {display: inline-block}\n",
       ".list-inline>li:not(:last-child)::after {content: \"\\00b7\"; padding: 0 .5ex}\n",
       "</style>\n",
       "<ol class=list-inline><li>1</li><li>0</li><li>0</li><li>0</li><li>0</li></ol>\n"
      ],
      "text/latex": [
       "\\begin{enumerate*}\n",
       "\\item 1\n",
       "\\item 0\n",
       "\\item 0\n",
       "\\item 0\n",
       "\\item 0\n",
       "\\end{enumerate*}\n"
      ],
      "text/markdown": [
       "1. 1\n",
       "2. 0\n",
       "3. 0\n",
       "4. 0\n",
       "5. 0\n",
       "\n",
       "\n"
      ],
      "text/plain": [
       "[1] 1 0 0 0 0"
      ]
     },
     "metadata": {},
     "output_type": "display_data"
    }
   ],
   "source": [
    "fit11$V"
   ]
  },
  {
   "cell_type": "markdown",
   "metadata": {},
   "source": [
    "### `EM` method\n",
    "\n",
    "It suffers from the same, or maybe even more so, because the ELBO is worse,"
   ]
  },
  {
   "cell_type": "code",
   "execution_count": 13,
   "metadata": {},
   "outputs": [
    {
     "name": "stderr",
     "output_type": "stream",
     "text": [
      "Warning message in m$get_objective(dump = TRUE):\n",
      "“Objective is not non-decreasing”\n"
     ]
    }
   ],
   "source": [
    "fit2 = msusie(dat$X,dat$y,L=L,prior_variance=dat$V, \n",
    "              compute_objective=T, estimate_residual_variance=F, \n",
    "              estimate_prior_variance=T, estimate_prior_method = 'EM')"
   ]
  },
  {
   "cell_type": "code",
   "execution_count": 14,
   "metadata": {},
   "outputs": [
    {
     "data": {
      "text/html": [
       "<style>\n",
       ".list-inline {list-style: none; margin:0; padding: 0}\n",
       ".list-inline>li {display: inline-block}\n",
       ".list-inline>li:not(:last-child)::after {content: \"\\00b7\"; padding: 0 .5ex}\n",
       "</style>\n",
       "<ol class=list-inline><li>-198.044780051201</li><li>-183.89382332534</li><li>-185.064348616454</li></ol>\n"
      ],
      "text/latex": [
       "\\begin{enumerate*}\n",
       "\\item -198.044780051201\n",
       "\\item -183.89382332534\n",
       "\\item -185.064348616454\n",
       "\\end{enumerate*}\n"
      ],
      "text/markdown": [
       "1. -198.044780051201\n",
       "2. -183.89382332534\n",
       "3. -185.064348616454\n",
       "\n",
       "\n"
      ],
      "text/plain": [
       "[1] -198.0448 -183.8938 -185.0643"
      ]
     },
     "metadata": {},
     "output_type": "display_data"
    }
   ],
   "source": [
    "fit2$elbo"
   ]
  },
  {
   "cell_type": "code",
   "execution_count": 15,
   "metadata": {},
   "outputs": [
    {
     "data": {
      "text/html": [
       "<style>\n",
       ".list-inline {list-style: none; margin:0; padding: 0}\n",
       ".list-inline>li {display: inline-block}\n",
       ".list-inline>li:not(:last-child)::after {content: \"\\00b7\"; padding: 0 .5ex}\n",
       "</style>\n",
       "<ol class=list-inline><li>0</li><li>0</li><li>0</li><li>0</li><li>0</li><li>0</li><li>0</li><li>0</li><li>0</li><li>0</li></ol>\n"
      ],
      "text/latex": [
       "\\begin{enumerate*}\n",
       "\\item 0\n",
       "\\item 0\n",
       "\\item 0\n",
       "\\item 0\n",
       "\\item 0\n",
       "\\item 0\n",
       "\\item 0\n",
       "\\item 0\n",
       "\\item 0\n",
       "\\item 0\n",
       "\\end{enumerate*}\n"
      ],
      "text/markdown": [
       "1. 0\n",
       "2. 0\n",
       "3. 0\n",
       "4. 0\n",
       "5. 0\n",
       "6. 0\n",
       "7. 0\n",
       "8. 0\n",
       "9. 0\n",
       "10. 0\n",
       "\n",
       "\n"
      ],
      "text/plain": [
       " [1] 0 0 0 0 0 0 0 0 0 0"
      ]
     },
     "metadata": {},
     "output_type": "display_data"
    }
   ],
   "source": [
    "fit2$V"
   ]
  },
  {
   "cell_type": "markdown",
   "metadata": {},
   "source": [
    "However, when I set `L = 5` it seems to work,"
   ]
  },
  {
   "cell_type": "code",
   "execution_count": 16,
   "metadata": {},
   "outputs": [],
   "source": [
    "fit21 = msusie(dat$X,dat$y,L=5,prior_variance=dat$V, \n",
    "              compute_objective=T, estimate_residual_variance=F, \n",
    "              estimate_prior_variance=T, estimate_prior_method = 'EM')"
   ]
  },
  {
   "cell_type": "code",
   "execution_count": 17,
   "metadata": {},
   "outputs": [
    {
     "data": {
      "text/html": [
       "<style>\n",
       ".list-inline {list-style: none; margin:0; padding: 0}\n",
       ".list-inline>li {display: inline-block}\n",
       ".list-inline>li:not(:last-child)::after {content: \"\\00b7\"; padding: 0 .5ex}\n",
       "</style>\n",
       "<ol class=list-inline><li>-188.01736755959</li><li>-183.262876818347</li><li>-182.795977777449</li><li>-182.75095982415</li><li>-182.746969306347</li><li>-182.746686553396</li></ol>\n"
      ],
      "text/latex": [
       "\\begin{enumerate*}\n",
       "\\item -188.01736755959\n",
       "\\item -183.262876818347\n",
       "\\item -182.795977777449\n",
       "\\item -182.75095982415\n",
       "\\item -182.746969306347\n",
       "\\item -182.746686553396\n",
       "\\end{enumerate*}\n"
      ],
      "text/markdown": [
       "1. -188.01736755959\n",
       "2. -183.262876818347\n",
       "3. -182.795977777449\n",
       "4. -182.75095982415\n",
       "5. -182.746969306347\n",
       "6. -182.746686553396\n",
       "\n",
       "\n"
      ],
      "text/plain": [
       "[1] -188.0174 -183.2629 -182.7960 -182.7510 -182.7470 -182.7467"
      ]
     },
     "metadata": {},
     "output_type": "display_data"
    }
   ],
   "source": [
    "fit21$elbo"
   ]
  },
  {
   "cell_type": "code",
   "execution_count": 18,
   "metadata": {},
   "outputs": [
    {
     "data": {
      "text/html": [
       "<style>\n",
       ".list-inline {list-style: none; margin:0; padding: 0}\n",
       ".list-inline>li {display: inline-block}\n",
       ".list-inline>li:not(:last-child)::after {content: \"\\00b7\"; padding: 0 .5ex}\n",
       "</style>\n",
       "<ol class=list-inline><li>0.716762547285981</li><li>0</li><li>0</li><li>0</li><li>0</li></ol>\n"
      ],
      "text/latex": [
       "\\begin{enumerate*}\n",
       "\\item 0.716762547285981\n",
       "\\item 0\n",
       "\\item 0\n",
       "\\item 0\n",
       "\\item 0\n",
       "\\end{enumerate*}\n"
      ],
      "text/markdown": [
       "1. 0.716762547285981\n",
       "2. 0\n",
       "3. 0\n",
       "4. 0\n",
       "5. 0\n",
       "\n",
       "\n"
      ],
      "text/plain": [
       "[1] 0.7167625 0.0000000 0.0000000 0.0000000 0.0000000"
      ]
     },
     "metadata": {},
     "output_type": "display_data"
    }
   ],
   "source": [
    "fit21$V"
   ]
  },
  {
   "cell_type": "markdown",
   "metadata": {},
   "source": [
    "Although still it sets only the first effect to be non-zero and the signals share the one effect."
   ]
  },
  {
   "cell_type": "code",
   "execution_count": 19,
   "metadata": {},
   "outputs": [
    {
     "data": {
      "image/png": "[encoded data removed]",
      "text/plain": [
       "plot without title"
      ]
     },
     "metadata": {
      "image/png": {
       "height": 420,
       "width": 420
      },
      "text/plain": {
       "height": 420,
       "width": 420
      }
     },
     "output_type": "display_data"
    }
   ],
   "source": [
    "susieR::susie_plot(fit21, 'PIP', b = rowSums(dat$b))"
   ]
  },
  {
   "cell_type": "code",
   "execution_count": 22,
   "metadata": {},
   "outputs": [
    {
     "data": {
      "text/html": [
       "1"
      ],
      "text/latex": [
       "1"
      ],
      "text/markdown": [
       "1"
      ],
      "text/plain": [
       "[1] 1"
      ]
     },
     "metadata": {},
     "output_type": "display_data"
    }
   ],
   "source": [
    "sum(fit21$pip)"
   ]
  },
  {
   "cell_type": "markdown",
   "metadata": {},
   "source": [
    "### `optim` method\n",
    "\n",
    "It seems to work at least for this example with `L=10` and the estimate is similar to that produced by `EM` with `L = 5`. Notice that for `optim` method we still have that check at the end of each update comparing current estimate with zero in terms of likelihood. Thus many `V` are set to zero."
   ]
  },
  {
   "cell_type": "code",
   "execution_count": 23,
   "metadata": {},
   "outputs": [],
   "source": [
    "fit3 = msusie(dat$X,dat$y,L=L,prior_variance=dat$V, \n",
    "              compute_objective=T, estimate_residual_variance=F, \n",
    "              estimate_prior_variance=T, estimate_prior_method = 'optim')"
   ]
  },
  {
   "cell_type": "code",
   "execution_count": 24,
   "metadata": {},
   "outputs": [
    {
     "data": {
      "text/html": [
       "<style>\n",
       ".list-inline {list-style: none; margin:0; padding: 0}\n",
       ".list-inline>li {display: inline-block}\n",
       ".list-inline>li:not(:last-child)::after {content: \"\\00b7\"; padding: 0 .5ex}\n",
       "</style>\n",
       "<ol class=list-inline><li>-182.746666507784</li><li>-182.746666507784</li></ol>\n"
      ],
      "text/latex": [
       "\\begin{enumerate*}\n",
       "\\item -182.746666507784\n",
       "\\item -182.746666507784\n",
       "\\end{enumerate*}\n"
      ],
      "text/markdown": [
       "1. -182.746666507784\n",
       "2. -182.746666507784\n",
       "\n",
       "\n"
      ],
      "text/plain": [
       "[1] -182.7467 -182.7467"
      ]
     },
     "metadata": {},
     "output_type": "display_data"
    }
   ],
   "source": [
    "fit3$elbo"
   ]
  },
  {
   "cell_type": "code",
   "execution_count": 25,
   "metadata": {},
   "outputs": [
    {
     "data": {
      "text/html": [
       "<style>\n",
       ".list-inline {list-style: none; margin:0; padding: 0}\n",
       ".list-inline>li {display: inline-block}\n",
       ".list-inline>li:not(:last-child)::after {content: \"\\00b7\"; padding: 0 .5ex}\n",
       "</style>\n",
       "<ol class=list-inline><li>0.718104560164367</li><li>0</li><li>0</li><li>0</li><li>0</li><li>0</li><li>0</li><li>0</li><li>0</li><li>0</li></ol>\n"
      ],
      "text/latex": [
       "\\begin{enumerate*}\n",
       "\\item 0.718104560164367\n",
       "\\item 0\n",
       "\\item 0\n",
       "\\item 0\n",
       "\\item 0\n",
       "\\item 0\n",
       "\\item 0\n",
       "\\item 0\n",
       "\\item 0\n",
       "\\item 0\n",
       "\\end{enumerate*}\n"
      ],
      "text/markdown": [
       "1. 0.718104560164367\n",
       "2. 0\n",
       "3. 0\n",
       "4. 0\n",
       "5. 0\n",
       "6. 0\n",
       "7. 0\n",
       "8. 0\n",
       "9. 0\n",
       "10. 0\n",
       "\n",
       "\n"
      ],
      "text/plain": [
       " [1] 0.7181046 0.0000000 0.0000000 0.0000000 0.0000000 0.0000000 0.0000000\n",
       " [8] 0.0000000 0.0000000 0.0000000"
      ]
     },
     "metadata": {},
     "output_type": "display_data"
    }
   ],
   "source": [
    "fit3$V"
   ]
  },
  {
   "cell_type": "code",
   "execution_count": 26,
   "metadata": {},
   "outputs": [
    {
     "data": {
      "image/png": "[encoded data removed]",
      "text/plain": [
       "plot without title"
      ]
     },
     "metadata": {
      "image/png": {
       "height": 420,
       "width": 420
      },
      "text/plain": {
       "height": 420,
       "width": 420
      }
     },
     "output_type": "display_data"
    }
   ],
   "source": [
    "susieR::susie_plot(fit3, 'PIP', b = rowSums(dat$b))"
   ]
  },
  {
   "cell_type": "markdown",
   "metadata": {},
   "source": [
    "### `EM` update without checking with zero\n",
    "\n",
    "I commented out [this line](https://github.com/stephenslab/mmbr/blob/390eb23852fa5ed5c17b5062deb6f3e8494ba76e/R/single_effect_model.R#L22)) in my code, and run EM with `L=10`:"
   ]
  },
  {
   "cell_type": "code",
   "execution_count": 46,
   "metadata": {},
   "outputs": [
    {
     "name": "stderr",
     "output_type": "stream",
     "text": [
      "Loading mmbr\n",
      "\n"
     ]
    }
   ],
   "source": [
    "devtools::load_all('~/GIT/software/mmbr')"
   ]
  },
  {
   "cell_type": "code",
   "execution_count": 51,
   "metadata": {},
   "outputs": [],
   "source": [
    "fit4 = msusie(dat$X,dat$y,L=L,prior_variance=dat$V, \n",
    "              compute_objective=T, estimate_residual_variance=F, \n",
    "              estimate_prior_variance=T, estimate_prior_method = 'EM', max_iter = 200)"
   ]
  },
  {
   "cell_type": "code",
   "execution_count": 52,
   "metadata": {},
   "outputs": [
    {
     "data": {
      "text/html": [
       "<style>\n",
       ".list-inline {list-style: none; margin:0; padding: 0}\n",
       ".list-inline>li {display: inline-block}\n",
       ".list-inline>li:not(:last-child)::after {content: \"\\00b7\"; padding: 0 .5ex}\n",
       "</style>\n",
       "<ol class=list-inline><li>-198.044780051201</li><li>-185.808446867106</li><li>-184.186223744929</li><li>-183.748348515929</li><li>-183.517946916971</li><li>-183.347957226874</li><li>-183.228141911754</li><li>-183.158819669811</li><li>-183.122288636005</li><li>-183.100822326533</li><li>-183.08558841485</li><li>-183.073211704825</li><li>-183.062327230459</li><li>-183.052198977251</li><li>-183.042274528671</li><li>-183.03201305774</li><li>-183.020763776462</li><li>-183.007608403357</li><li>-182.991088736146</li><li>-182.968679236777</li><li>-182.935727526705</li><li>-182.88344571863</li><li>-182.796386513956</li><li>-182.656681568024</li><li>-182.475109898781</li><li>-182.31519771353</li><li>-182.218387872279</li><li>-182.166127784205</li><li>-182.132652406407</li><li>-182.106278000122</li><li>-182.083266460384</li><li>-182.062470319903</li><li>-182.043454610881</li><li>-182.025980421308</li><li>-182.009872422002</li><li>-181.994984702269</li><li>-181.981190998938</li><li>-181.96838088548</li><li>-181.956457457973</li><li>-181.945335496277</li><li>-181.934939885653</li><li>-181.925204251526</li><li>-181.916069785292</li><li>-181.907484239335</li><li>-181.899401068683</li><li>-181.891778697851</li><li>-181.88457989376</li><li>-181.877771228245</li><li>-181.871322616192</li><li>-181.865206917615</li><li>-181.859399593881</li><li>-181.853878409897</li><li>-181.84862317543</li><li>-181.843615519816</li><li>-181.838838695242</li><li>-181.83427740455</li><li>-181.829917650122</li><li>-181.825746600967</li><li>-181.821752475532</li><li>-181.817924438144</li><li>-181.814252507307</li><li>-181.810727474311</li><li>-181.807340830853</li><li>-181.804084704534</li><li>-181.800951801277</li><li>-181.797935353803</li><li>-181.795029075472</li><li>-181.792227118822</li><li>-181.789524038298</li><li>-181.786914756664</li><li>-181.784394534698</li><li>-181.781958943801</li><li>-181.7796038412</li><li>-181.777325347474</li><li>-181.775119826142</li><li>-181.772983865106</li><li>-181.770914259761</li><li>-181.768907997584</li><li>-181.766962244078</li><li>-181.765074329917</li><li>-181.763241739179</li><li>-181.761462098566</li><li>-181.759733167516</li><li>-181.758052829118</li><li>-181.756419081757</li><li>-181.754830031426</li><li>-181.753283884637</li><li>-181.75177894189</li><li>-181.750313591628</li><li>-181.748886304666</li><li>-181.747495629019</li><li>-181.746140185128</li><li>-181.744818661421</li><li>-181.743529810206</li><li>-181.742272443847</li><li>-181.741045431215</li><li>-181.739847694388</li><li>-181.738678205572</li><li>-181.737535984239</li><li>-181.736420094456</li><li>-181.735329642387</li><li>-181.734263773969</li><li>-181.733221672733</li><li>-181.73220255777</li><li>-181.731205681822</li></ol>\n"
      ],
      "text/latex": [
       "\\begin{enumerate*}\n",
       "\\item -198.044780051201\n",
       "\\item -185.808446867106\n",
       "\\item -184.186223744929\n",
       "\\item -183.748348515929\n",
       "\\item -183.517946916971\n",
       "\\item -183.347957226874\n",
       "\\item -183.228141911754\n",
       "\\item -183.158819669811\n",
       "\\item -183.122288636005\n",
       "\\item -183.100822326533\n",
       "\\item -183.08558841485\n",
       "\\item -183.073211704825\n",
       "\\item -183.062327230459\n",
       "\\item -183.052198977251\n",
       "\\item -183.042274528671\n",
       "\\item -183.03201305774\n",
       "\\item -183.020763776462\n",
       "\\item -183.007608403357\n",
       "\\item -182.991088736146\n",
       "\\item -182.968679236777\n",
       "\\item -182.935727526705\n",
       "\\item -182.88344571863\n",
       "\\item -182.796386513956\n",
       "\\item -182.656681568024\n",
       "\\item -182.475109898781\n",
       "\\item -182.31519771353\n",
       "\\item -182.218387872279\n",
       "\\item -182.166127784205\n",
       "\\item -182.132652406407\n",
       "\\item -182.106278000122\n",
       "\\item -182.083266460384\n",
       "\\item -182.062470319903\n",
       "\\item -182.043454610881\n",
       "\\item -182.025980421308\n",
       "\\item -182.009872422002\n",
       "\\item -181.994984702269\n",
       "\\item -181.981190998938\n",
       "\\item -181.96838088548\n",
       "\\item -181.956457457973\n",
       "\\item -181.945335496277\n",
       "\\item -181.934939885653\n",
       "\\item -181.925204251526\n",
       "\\item -181.916069785292\n",
       "\\item -181.907484239335\n",
       "\\item -181.899401068683\n",
       "\\item -181.891778697851\n",
       "\\item -181.88457989376\n",
       "\\item -181.877771228245\n",
       "\\item -181.871322616192\n",
       "\\item -181.865206917615\n",
       "\\item -181.859399593881\n",
       "\\item -181.853878409897\n",
       "\\item -181.84862317543\n",
       "\\item -181.843615519816\n",
       "\\item -181.838838695242\n",
       "\\item -181.83427740455\n",
       "\\item -181.829917650122\n",
       "\\item -181.825746600967\n",
       "\\item -181.821752475532\n",
       "\\item -181.817924438144\n",
       "\\item -181.814252507307\n",
       "\\item -181.810727474311\n",
       "\\item -181.807340830853\n",
       "\\item -181.804084704534\n",
       "\\item -181.800951801277\n",
       "\\item -181.797935353803\n",
       "\\item -181.795029075472\n",
       "\\item -181.792227118822\n",
       "\\item -181.789524038298\n",
       "\\item -181.786914756664\n",
       "\\item -181.784394534698\n",
       "\\item -181.781958943801\n",
       "\\item -181.7796038412\n",
       "\\item -181.777325347474\n",
       "\\item -181.775119826142\n",
       "\\item -181.772983865106\n",
       "\\item -181.770914259761\n",
       "\\item -181.768907997584\n",
       "\\item -181.766962244078\n",
       "\\item -181.765074329917\n",
       "\\item -181.763241739179\n",
       "\\item -181.761462098566\n",
       "\\item -181.759733167516\n",
       "\\item -181.758052829118\n",
       "\\item -181.756419081757\n",
       "\\item -181.754830031426\n",
       "\\item -181.753283884637\n",
       "\\item -181.75177894189\n",
       "\\item -181.750313591628\n",
       "\\item -181.748886304666\n",
       "\\item -181.747495629019\n",
       "\\item -181.746140185128\n",
       "\\item -181.744818661421\n",
       "\\item -181.743529810206\n",
       "\\item -181.742272443847\n",
       "\\item -181.741045431215\n",
       "\\item -181.739847694388\n",
       "\\item -181.738678205572\n",
       "\\item -181.737535984239\n",
       "\\item -181.736420094456\n",
       "\\item -181.735329642387\n",
       "\\item -181.734263773969\n",
       "\\item -181.733221672733\n",
       "\\item -181.73220255777\n",
       "\\item -181.731205681822\n",
       "\\end{enumerate*}\n"
      ],
      "text/markdown": [
       "1. -198.044780051201\n",
       "2. -185.808446867106\n",
       "3. -184.186223744929\n",
       "4. -183.748348515929\n",
       "5. -183.517946916971\n",
       "6. -183.347957226874\n",
       "7. -183.228141911754\n",
       "8. -183.158819669811\n",
       "9. -183.122288636005\n",
       "10. -183.100822326533\n",
       "11. -183.08558841485\n",
       "12. -183.073211704825\n",
       "13. -183.062327230459\n",
       "14. -183.052198977251\n",
       "15. -183.042274528671\n",
       "16. -183.03201305774\n",
       "17. -183.020763776462\n",
       "18. -183.007608403357\n",
       "19. -182.991088736146\n",
       "20. -182.968679236777\n",
       "21. -182.935727526705\n",
       "22. -182.88344571863\n",
       "23. -182.796386513956\n",
       "24. -182.656681568024\n",
       "25. -182.475109898781\n",
       "26. -182.31519771353\n",
       "27. -182.218387872279\n",
       "28. -182.166127784205\n",
       "29. -182.132652406407\n",
       "30. -182.106278000122\n",
       "31. -182.083266460384\n",
       "32. -182.062470319903\n",
       "33. -182.043454610881\n",
       "34. -182.025980421308\n",
       "35. -182.009872422002\n",
       "36. -181.994984702269\n",
       "37. -181.981190998938\n",
       "38. -181.96838088548\n",
       "39. -181.956457457973\n",
       "40. -181.945335496277\n",
       "41. -181.934939885653\n",
       "42. -181.925204251526\n",
       "43. -181.916069785292\n",
       "44. -181.907484239335\n",
       "45. -181.899401068683\n",
       "46. -181.891778697851\n",
       "47. -181.88457989376\n",
       "48. -181.877771228245\n",
       "49. -181.871322616192\n",
       "50. -181.865206917615\n",
       "51. -181.859399593881\n",
       "52. -181.853878409897\n",
       "53. -181.84862317543\n",
       "54. -181.843615519816\n",
       "55. -181.838838695242\n",
       "56. -181.83427740455\n",
       "57. -181.829917650122\n",
       "58. -181.825746600967\n",
       "59. -181.821752475532\n",
       "60. -181.817924438144\n",
       "61. -181.814252507307\n",
       "62. -181.810727474311\n",
       "63. -181.807340830853\n",
       "64. -181.804084704534\n",
       "65. -181.800951801277\n",
       "66. -181.797935353803\n",
       "67. -181.795029075472\n",
       "68. -181.792227118822\n",
       "69. -181.789524038298\n",
       "70. -181.786914756664\n",
       "71. -181.784394534698\n",
       "72. -181.781958943801\n",
       "73. -181.7796038412\n",
       "74. -181.777325347474\n",
       "75. -181.775119826142\n",
       "76. -181.772983865106\n",
       "77. -181.770914259761\n",
       "78. -181.768907997584\n",
       "79. -181.766962244078\n",
       "80. -181.765074329917\n",
       "81. -181.763241739179\n",
       "82. -181.761462098566\n",
       "83. -181.759733167516\n",
       "84. -181.758052829118\n",
       "85. -181.756419081757\n",
       "86. -181.754830031426\n",
       "87. -181.753283884637\n",
       "88. -181.75177894189\n",
       "89. -181.750313591628\n",
       "90. -181.748886304666\n",
       "91. -181.747495629019\n",
       "92. -181.746140185128\n",
       "93. -181.744818661421\n",
       "94. -181.743529810206\n",
       "95. -181.742272443847\n",
       "96. -181.741045431215\n",
       "97. -181.739847694388\n",
       "98. -181.738678205572\n",
       "99. -181.737535984239\n",
       "100. -181.736420094456\n",
       "101. -181.735329642387\n",
       "102. -181.734263773969\n",
       "103. -181.733221672733\n",
       "104. -181.73220255777\n",
       "105. -181.731205681822\n",
       "\n",
       "\n"
      ],
      "text/plain": [
       "  [1] -198.0448 -185.8084 -184.1862 -183.7483 -183.5179 -183.3480 -183.2281\n",
       "  [8] -183.1588 -183.1223 -183.1008 -183.0856 -183.0732 -183.0623 -183.0522\n",
       " [15] -183.0423 -183.0320 -183.0208 -183.0076 -182.9911 -182.9687 -182.9357\n",
       " [22] -182.8834 -182.7964 -182.6567 -182.4751 -182.3152 -182.2184 -182.1661\n",
       " [29] -182.1327 -182.1063 -182.0833 -182.0625 -182.0435 -182.0260 -182.0099\n",
       " [36] -181.9950 -181.9812 -181.9684 -181.9565 -181.9453 -181.9349 -181.9252\n",
       " [43] -181.9161 -181.9075 -181.8994 -181.8918 -181.8846 -181.8778 -181.8713\n",
       " [50] -181.8652 -181.8594 -181.8539 -181.8486 -181.8436 -181.8388 -181.8343\n",
       " [57] -181.8299 -181.8257 -181.8218 -181.8179 -181.8143 -181.8107 -181.8073\n",
       " [64] -181.8041 -181.8010 -181.7979 -181.7950 -181.7922 -181.7895 -181.7869\n",
       " [71] -181.7844 -181.7820 -181.7796 -181.7773 -181.7751 -181.7730 -181.7709\n",
       " [78] -181.7689 -181.7670 -181.7651 -181.7632 -181.7615 -181.7597 -181.7581\n",
       " [85] -181.7564 -181.7548 -181.7533 -181.7518 -181.7503 -181.7489 -181.7475\n",
       " [92] -181.7461 -181.7448 -181.7435 -181.7423 -181.7410 -181.7398 -181.7387\n",
       " [99] -181.7375 -181.7364 -181.7353 -181.7343 -181.7332 -181.7322 -181.7312"
      ]
     },
     "metadata": {},
     "output_type": "display_data"
    }
   ],
   "source": [
    "fit4$elbo"
   ]
  },
  {
   "cell_type": "code",
   "execution_count": 53,
   "metadata": {},
   "outputs": [
    {
     "data": {
      "text/html": [
       "105"
      ],
      "text/latex": [
       "105"
      ],
      "text/markdown": [
       "105"
      ],
      "text/plain": [
       "[1] 105"
      ]
     },
     "metadata": {},
     "output_type": "display_data"
    }
   ],
   "source": [
    "fit4$niter"
   ]
  },
  {
   "cell_type": "markdown",
   "metadata": {},
   "source": [
    "It took 105 iterations to converge but the ELBO -181 is the best ELBO achieved in this document. \n",
    "\n",
    "The prior estimates are:"
   ]
  },
  {
   "cell_type": "code",
   "execution_count": 54,
   "metadata": {},
   "outputs": [
    {
     "data": {
      "text/html": [
       "<style>\n",
       ".list-inline {list-style: none; margin:0; padding: 0}\n",
       ".list-inline>li {display: inline-block}\n",
       ".list-inline>li:not(:last-child)::after {content: \"\\00b7\"; padding: 0 .5ex}\n",
       "</style>\n",
       "<ol class=list-inline><li>0.714071252664812</li><li>0.688578701959507</li><li>0.00337649436178791</li><li>0.00331738817397583</li><li>0.00329732911004534</li><li>0.0032842114304321</li><li>0.00327467368818631</li><li>0.0032673322654283</li><li>0.00326146768668188</li><li>0.00325665554106171</li></ol>\n"
      ],
      "text/latex": [
       "\\begin{enumerate*}\n",
       "\\item 0.714071252664812\n",
       "\\item 0.688578701959507\n",
       "\\item 0.00337649436178791\n",
       "\\item 0.00331738817397583\n",
       "\\item 0.00329732911004534\n",
       "\\item 0.0032842114304321\n",
       "\\item 0.00327467368818631\n",
       "\\item 0.0032673322654283\n",
       "\\item 0.00326146768668188\n",
       "\\item 0.00325665554106171\n",
       "\\end{enumerate*}\n"
      ],
      "text/markdown": [
       "1. 0.714071252664812\n",
       "2. 0.688578701959507\n",
       "3. 0.00337649436178791\n",
       "4. 0.00331738817397583\n",
       "5. 0.00329732911004534\n",
       "6. 0.0032842114304321\n",
       "7. 0.00327467368818631\n",
       "8. 0.0032673322654283\n",
       "9. 0.00326146768668188\n",
       "10. 0.00325665554106171\n",
       "\n",
       "\n"
      ],
      "text/plain": [
       " [1] 0.714071253 0.688578702 0.003376494 0.003317388 0.003297329 0.003284211\n",
       " [7] 0.003274674 0.003267332 0.003261468 0.003256656"
      ]
     },
     "metadata": {},
     "output_type": "display_data"
    }
   ],
   "source": [
    "fit4$V"
   ]
  },
  {
   "cell_type": "markdown",
   "metadata": {},
   "source": [
    "Here it captures 2 effects, as also reflected below that two effects have large PIP,"
   ]
  },
  {
   "cell_type": "code",
   "execution_count": 58,
   "metadata": {},
   "outputs": [
    {
     "data": {
      "image/png": "[encoded data removed]",
      "text/plain": [
       "plot without title"
      ]
     },
     "metadata": {
      "image/png": {
       "height": 420,
       "width": 420
      },
      "text/plain": {
       "height": 420,
       "width": 420
      }
     },
     "output_type": "display_data"
    }
   ],
   "source": [
    "susieR::susie_plot(fit4, 'PIP', b = rowSums(dat$b))"
   ]
  }
 ],
 "metadata": {
  "kernelspec": {
   "display_name": "R",
   "language": "R",
   "name": "ir"
  },
  "language_info": {
   "codemirror_mode": "r",
   "file_extension": ".r",
   "mimetype": "text/x-r-source",
   "name": "R",
   "pygments_lexer": "r",
   "version": "3.6.1"
  }
 },
 "nbformat": 4,
 "nbformat_minor": 4
}
