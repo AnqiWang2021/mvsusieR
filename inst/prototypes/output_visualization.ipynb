{
 "cells": [
  {
   "cell_type": "markdown",
   "metadata": {
    "kernel": "SoS"
   },
   "source": [
    "# Visualization of M&M output\n",
    "\n",
    "A prototype to plot various M&M output information."
   ]
  },
  {
   "cell_type": "markdown",
   "metadata": {
    "kernel": "SoS"
   },
   "source": [
    "## Load a sample M&M output data-set"
   ]
  },
  {
   "cell_type": "code",
   "execution_count": 1,
   "metadata": {
    "kernel": "R"
   },
   "outputs": [],
   "source": [
    "result_file = 'small_data_100_mixture01_1_oracle_generator_1_mnm_mixture01_1.rds'\n",
    "meta_file = 'small_data_100_mixture01_1.pkl'"
   ]
  },
  {
   "cell_type": "code",
   "execution_count": 2,
   "metadata": {
    "kernel": "R"
   },
   "outputs": [
    {
     "data": {
      "text/html": [
       "<ol class=list-inline>\n",
       "\t<li>'alpha'</li>\n",
       "\t<li>'mu'</li>\n",
       "\t<li>'mu2'</li>\n",
       "\t<li>'KL'</li>\n",
       "\t<li>'lbf'</li>\n",
       "\t<li>'sigma2'</li>\n",
       "\t<li>'V'</li>\n",
       "\t<li>'elbo'</li>\n",
       "\t<li>'niter'</li>\n",
       "\t<li>'fitted'</li>\n",
       "\t<li>'coef'</li>\n",
       "\t<li>'null_index'</li>\n",
       "\t<li>'mixture_weights'</li>\n",
       "\t<li>'intercept'</li>\n",
       "\t<li>'sets'</li>\n",
       "\t<li>'pip'</li>\n",
       "\t<li>'m_init'</li>\n",
       "</ol>\n"
      ],
      "text/latex": [
       "\\begin{enumerate*}\n",
       "\\item 'alpha'\n",
       "\\item 'mu'\n",
       "\\item 'mu2'\n",
       "\\item 'KL'\n",
       "\\item 'lbf'\n",
       "\\item 'sigma2'\n",
       "\\item 'V'\n",
       "\\item 'elbo'\n",
       "\\item 'niter'\n",
       "\\item 'fitted'\n",
       "\\item 'coef'\n",
       "\\item 'null\\_index'\n",
       "\\item 'mixture\\_weights'\n",
       "\\item 'intercept'\n",
       "\\item 'sets'\n",
       "\\item 'pip'\n",
       "\\item 'm\\_init'\n",
       "\\end{enumerate*}\n"
      ],
      "text/markdown": [
       "1. 'alpha'\n",
       "2. 'mu'\n",
       "3. 'mu2'\n",
       "4. 'KL'\n",
       "5. 'lbf'\n",
       "6. 'sigma2'\n",
       "7. 'V'\n",
       "8. 'elbo'\n",
       "9. 'niter'\n",
       "10. 'fitted'\n",
       "11. 'coef'\n",
       "12. 'null_index'\n",
       "13. 'mixture_weights'\n",
       "14. 'intercept'\n",
       "15. 'sets'\n",
       "16. 'pip'\n",
       "17. 'm_init'\n",
       "\n",
       "\n"
      ],
      "text/plain": [
       " [1] \"alpha\"           \"mu\"              \"mu2\"             \"KL\"             \n",
       " [5] \"lbf\"             \"sigma2\"          \"V\"               \"elbo\"           \n",
       " [9] \"niter\"           \"fitted\"          \"coef\"            \"null_index\"     \n",
       "[13] \"mixture_weights\" \"intercept\"       \"sets\"            \"pip\"            \n",
       "[17] \"m_init\"         "
      ]
     },
     "metadata": {},
     "output_type": "display_data"
    }
   ],
   "source": [
    "dat = readRDS(result_file)$result\n",
    "names(dat)"
   ]
  },
  {
   "cell_type": "markdown",
   "metadata": {
    "kernel": "SoS"
   },
   "source": [
    "## SuSiE plot\n",
    "\n",
    "We can directly call SuSiE plot function. Since it is simulated data we can add the true causal effects to it."
   ]
  },
  {
   "cell_type": "code",
   "execution_count": 3,
   "metadata": {
    "kernel": "R"
   },
   "outputs": [
    {
     "data": {
      "text/html": [
       "<table>\n",
       "<thead><tr><th scope=col>row</th><th scope=col>col</th></tr></thead>\n",
       "<tbody>\n",
       "\t<tr><td>149</td><td>1  </td></tr>\n",
       "\t<tr><td>394</td><td>1  </td></tr>\n",
       "\t<tr><td>786</td><td>1  </td></tr>\n",
       "\t<tr><td>149</td><td>2  </td></tr>\n",
       "\t<tr><td>394</td><td>2  </td></tr>\n",
       "\t<tr><td>786</td><td>2  </td></tr>\n",
       "\t<tr><td>149</td><td>3  </td></tr>\n",
       "\t<tr><td>394</td><td>3  </td></tr>\n",
       "\t<tr><td>786</td><td>3  </td></tr>\n",
       "\t<tr><td>149</td><td>4  </td></tr>\n",
       "\t<tr><td>394</td><td>4  </td></tr>\n",
       "\t<tr><td>786</td><td>4  </td></tr>\n",
       "\t<tr><td>149</td><td>5  </td></tr>\n",
       "\t<tr><td>394</td><td>5  </td></tr>\n",
       "\t<tr><td>786</td><td>5  </td></tr>\n",
       "</tbody>\n",
       "</table>\n"
      ],
      "text/latex": [
       "\\begin{tabular}{ll}\n",
       " row & col\\\\\n",
       "\\hline\n",
       "\t 149 & 1  \\\\\n",
       "\t 394 & 1  \\\\\n",
       "\t 786 & 1  \\\\\n",
       "\t 149 & 2  \\\\\n",
       "\t 394 & 2  \\\\\n",
       "\t 786 & 2  \\\\\n",
       "\t 149 & 3  \\\\\n",
       "\t 394 & 3  \\\\\n",
       "\t 786 & 3  \\\\\n",
       "\t 149 & 4  \\\\\n",
       "\t 394 & 4  \\\\\n",
       "\t 786 & 4  \\\\\n",
       "\t 149 & 5  \\\\\n",
       "\t 394 & 5  \\\\\n",
       "\t 786 & 5  \\\\\n",
       "\\end{tabular}\n"
      ],
      "text/markdown": [
       "\n",
       "row | col | \n",
       "|---|---|---|---|---|---|---|---|---|---|---|---|---|---|---|\n",
       "| 149 | 1   | \n",
       "| 394 | 1   | \n",
       "| 786 | 1   | \n",
       "| 149 | 2   | \n",
       "| 394 | 2   | \n",
       "| 786 | 2   | \n",
       "| 149 | 3   | \n",
       "| 394 | 3   | \n",
       "| 786 | 3   | \n",
       "| 149 | 4   | \n",
       "| 394 | 4   | \n",
       "| 786 | 4   | \n",
       "| 149 | 5   | \n",
       "| 394 | 5   | \n",
       "| 786 | 5   | \n",
       "\n",
       "\n"
      ],
      "text/plain": [
       "      row col\n",
       " [1,] 149 1  \n",
       " [2,] 394 1  \n",
       " [3,] 786 1  \n",
       " [4,] 149 2  \n",
       " [5,] 394 2  \n",
       " [6,] 786 2  \n",
       " [7,] 149 3  \n",
       " [8,] 394 3  \n",
       " [9,] 786 3  \n",
       "[10,] 149 4  \n",
       "[11,] 394 4  \n",
       "[12,] 786 4  \n",
       "[13,] 149 5  \n",
       "[14,] 394 5  \n",
       "[15,] 786 5  "
      ]
     },
     "metadata": {},
     "output_type": "display_data"
    }
   ],
   "source": [
    "truth = dscrutils::read_dsc(meta_file)$meta$true_coef\n",
    "true_pos = as.integer(apply(truth, 1, sum) != 0)\n",
    "true_idx = which(truth != 0, arr.ind = TRUE)\n",
    "true_idx"
   ]
  },
  {
   "cell_type": "code",
   "execution_count": 4,
   "metadata": {
    "kernel": "R"
   },
   "outputs": [
    {
     "data": {
      "text/html": [
       "<ol class=list-inline>\n",
       "\t<li>0.4118992818317</li>\n",
       "\t<li>0.4118992818317</li>\n",
       "\t<li>0.4118992818317</li>\n",
       "\t<li>0.393450176636018</li>\n",
       "\t<li>0.393450176636018</li>\n",
       "\t<li>0.393450176636018</li>\n",
       "\t<li>0.0880609627812645</li>\n",
       "\t<li>0.0880609627812645</li>\n",
       "\t<li>0.0880609627812645</li>\n",
       "\t<li>-0.0723079333301778</li>\n",
       "\t<li>-0.0723079333301778</li>\n",
       "\t<li>-0.0723079333301778</li>\n",
       "\t<li>0.0500416475180683</li>\n",
       "\t<li>0.0500416475180683</li>\n",
       "\t<li>0.0500416475180683</li>\n",
       "</ol>\n"
      ],
      "text/latex": [
       "\\begin{enumerate*}\n",
       "\\item 0.4118992818317\n",
       "\\item 0.4118992818317\n",
       "\\item 0.4118992818317\n",
       "\\item 0.393450176636018\n",
       "\\item 0.393450176636018\n",
       "\\item 0.393450176636018\n",
       "\\item 0.0880609627812645\n",
       "\\item 0.0880609627812645\n",
       "\\item 0.0880609627812645\n",
       "\\item -0.0723079333301778\n",
       "\\item -0.0723079333301778\n",
       "\\item -0.0723079333301778\n",
       "\\item 0.0500416475180683\n",
       "\\item 0.0500416475180683\n",
       "\\item 0.0500416475180683\n",
       "\\end{enumerate*}\n"
      ],
      "text/markdown": [
       "1. 0.4118992818317\n",
       "2. 0.4118992818317\n",
       "3. 0.4118992818317\n",
       "4. 0.393450176636018\n",
       "5. 0.393450176636018\n",
       "6. 0.393450176636018\n",
       "7. 0.0880609627812645\n",
       "8. 0.0880609627812645\n",
       "9. 0.0880609627812645\n",
       "10. -0.0723079333301778\n",
       "11. -0.0723079333301778\n",
       "12. -0.0723079333301778\n",
       "13. 0.0500416475180683\n",
       "14. 0.0500416475180683\n",
       "15. 0.0500416475180683\n",
       "\n",
       "\n"
      ],
      "text/plain": [
       " [1]  0.41189928  0.41189928  0.41189928  0.39345018  0.39345018  0.39345018\n",
       " [7]  0.08806096  0.08806096  0.08806096 -0.07230793 -0.07230793 -0.07230793\n",
       "[13]  0.05004165  0.05004165  0.05004165"
      ]
     },
     "metadata": {},
     "output_type": "display_data"
    }
   ],
   "source": [
    "truth[true_idx]"
   ]
  },
  {
   "cell_type": "code",
   "execution_count": 5,
   "metadata": {
    "kernel": "R"
   },
   "outputs": [
    {
     "data": {
      "text/html": [
       "<strong>png:</strong> 2"
      ],
      "text/latex": [
       "\\textbf{png:} 2"
      ],
      "text/markdown": [
       "**png:** 2"
      ],
      "text/plain": [
       "png \n",
       "  2 "
      ]
     },
     "metadata": {},
     "output_type": "display_data"
    }
   ],
   "source": [
    "pdf('susie_plot_demo.pdf', width=10, height=5)\n",
    "susieR::susie_plot(dat,y='PIP', main = 'Default SuSiE plot for cross-condition PIP', xlab = 'SNP positions', add_legend = T, b=true_pos)\n",
    "dev.off()"
   ]
  },
  {
   "cell_type": "code",
   "execution_count": 6,
   "metadata": {
    "kernel": "SoS"
   },
   "outputs": [
    {
     "data": {
      "text/html": [
       "<div class=\"sos_hint\">> susie_plot_demo.pdf (11.0 KiB):</div>"
      ],
      "text/plain": [
       "\n",
       "> susie_plot_demo.pdf (11.0 KiB):"
      ]
     },
     "metadata": {},
     "output_type": "display_data"
    },
    {
     "data": {
      "image/png": "[encoded data removed]"
     },
     "metadata": {},
     "output_type": "display_data"
    }
   ],
   "source": [
    "%preview susie_plot_demo.pdf -s png --dpi 100"
   ]
  },
  {
   "cell_type": "markdown",
   "metadata": {
    "kernel": "SoS"
   },
   "source": [
    "## Bubble plot for estimated effect size"
   ]
  },
  {
   "cell_type": "markdown",
   "metadata": {
    "kernel": "SoS"
   },
   "source": [
    "Effect size will be the color of the bubble:"
   ]
  },
  {
   "cell_type": "code",
   "execution_count": 7,
   "metadata": {
    "kernel": "R"
   },
   "outputs": [
    {
     "data": {
      "text/html": [
       "<ol class=list-inline>\n",
       "\t<li>1001</li>\n",
       "\t<li>5</li>\n",
       "</ol>\n"
      ],
      "text/latex": [
       "\\begin{enumerate*}\n",
       "\\item 1001\n",
       "\\item 5\n",
       "\\end{enumerate*}\n"
      ],
      "text/markdown": [
       "1. 1001\n",
       "2. 5\n",
       "\n",
       "\n"
      ],
      "text/plain": [
       "[1] 1001    5"
      ]
     },
     "metadata": {},
     "output_type": "display_data"
    }
   ],
   "source": [
    "dim(dat$coef[-1,]) # remove intercept"
   ]
  },
  {
   "cell_type": "markdown",
   "metadata": {
    "kernel": "SoS"
   },
   "source": [
    "PIP will be the size of the bubble:"
   ]
  },
  {
   "cell_type": "code",
   "execution_count": 8,
   "metadata": {
    "kernel": "R"
   },
   "outputs": [
    {
     "data": {
      "text/html": [
       "<ol class=list-inline>\n",
       "\t<li>1001</li>\n",
       "\t<li>5</li>\n",
       "</ol>\n"
      ],
      "text/latex": [
       "\\begin{enumerate*}\n",
       "\\item 1001\n",
       "\\item 5\n",
       "\\end{enumerate*}\n"
      ],
      "text/markdown": [
       "1. 1001\n",
       "2. 5\n",
       "\n",
       "\n"
      ],
      "text/plain": [
       "[1] 1001    5"
      ]
     },
     "metadata": {},
     "output_type": "display_data"
    }
   ],
   "source": [
    "cond_pip = mmbr::mmbr_get_pip_per_condition(dat, dat$m_init)\n",
    "dim(cond_pip)"
   ]
  },
  {
   "cell_type": "code",
   "execution_count": 9,
   "metadata": {
    "kernel": "R"
   },
   "outputs": [
    {
     "data": {
      "text/html": [
       "<table>\n",
       "<tbody>\n",
       "\t<tr><td>1.222101e-02</td><td>4.685408e-22</td><td>4.867315e-22</td></tr>\n",
       "\t<tr><td>1.329052e-18</td><td>1.449352e-01</td><td>1.341495e-18</td></tr>\n",
       "\t<tr><td>8.447406e-17</td><td>7.957771e-17</td><td>3.293492e-01</td></tr>\n",
       "\t<tr><td>6.533748e-04</td><td>6.382051e-04</td><td>6.487285e-04</td></tr>\n",
       "\t<tr><td>6.537123e-04</td><td>6.385829e-04</td><td>6.490915e-04</td></tr>\n",
       "\t<tr><td>6.537294e-04</td><td>6.385758e-04</td><td>6.490911e-04</td></tr>\n",
       "\t<tr><td>6.535125e-04</td><td>6.382878e-04</td><td>6.488256e-04</td></tr>\n",
       "\t<tr><td>6.532115e-04</td><td>6.378966e-04</td><td>6.484634e-04</td></tr>\n",
       "\t<tr><td>6.529780e-04</td><td>6.375808e-04</td><td>6.481744e-04</td></tr>\n",
       "\t<tr><td>6.529267e-04</td><td>6.374745e-04</td><td>6.480863e-04</td></tr>\n",
       "</tbody>\n",
       "</table>\n"
      ],
      "text/latex": [
       "\\begin{tabular}{lll}\n",
       "\t 1.222101e-02 & 4.685408e-22 & 4.867315e-22\\\\\n",
       "\t 1.329052e-18 & 1.449352e-01 & 1.341495e-18\\\\\n",
       "\t 8.447406e-17 & 7.957771e-17 & 3.293492e-01\\\\\n",
       "\t 6.533748e-04 & 6.382051e-04 & 6.487285e-04\\\\\n",
       "\t 6.537123e-04 & 6.385829e-04 & 6.490915e-04\\\\\n",
       "\t 6.537294e-04 & 6.385758e-04 & 6.490911e-04\\\\\n",
       "\t 6.535125e-04 & 6.382878e-04 & 6.488256e-04\\\\\n",
       "\t 6.532115e-04 & 6.378966e-04 & 6.484634e-04\\\\\n",
       "\t 6.529780e-04 & 6.375808e-04 & 6.481744e-04\\\\\n",
       "\t 6.529267e-04 & 6.374745e-04 & 6.480863e-04\\\\\n",
       "\\end{tabular}\n"
      ],
      "text/markdown": [
       "\n",
       "| 1.222101e-02 | 4.685408e-22 | 4.867315e-22 | \n",
       "| 1.329052e-18 | 1.449352e-01 | 1.341495e-18 | \n",
       "| 8.447406e-17 | 7.957771e-17 | 3.293492e-01 | \n",
       "| 6.533748e-04 | 6.382051e-04 | 6.487285e-04 | \n",
       "| 6.537123e-04 | 6.385829e-04 | 6.490915e-04 | \n",
       "| 6.537294e-04 | 6.385758e-04 | 6.490911e-04 | \n",
       "| 6.535125e-04 | 6.382878e-04 | 6.488256e-04 | \n",
       "| 6.532115e-04 | 6.378966e-04 | 6.484634e-04 | \n",
       "| 6.529780e-04 | 6.375808e-04 | 6.481744e-04 | \n",
       "| 6.529267e-04 | 6.374745e-04 | 6.480863e-04 | \n",
       "\n",
       "\n"
      ],
      "text/plain": [
       "      [,1]         [,2]         [,3]        \n",
       " [1,] 1.222101e-02 4.685408e-22 4.867315e-22\n",
       " [2,] 1.329052e-18 1.449352e-01 1.341495e-18\n",
       " [3,] 8.447406e-17 7.957771e-17 3.293492e-01\n",
       " [4,] 6.533748e-04 6.382051e-04 6.487285e-04\n",
       " [5,] 6.537123e-04 6.385829e-04 6.490915e-04\n",
       " [6,] 6.537294e-04 6.385758e-04 6.490911e-04\n",
       " [7,] 6.535125e-04 6.382878e-04 6.488256e-04\n",
       " [8,] 6.532115e-04 6.378966e-04 6.484634e-04\n",
       " [9,] 6.529780e-04 6.375808e-04 6.481744e-04\n",
       "[10,] 6.529267e-04 6.374745e-04 6.480863e-04"
      ]
     },
     "metadata": {},
     "output_type": "display_data"
    }
   ],
   "source": [
    "dat$alpha[,c(149,394,786)]"
   ]
  },
  {
   "cell_type": "markdown",
   "metadata": {
    "kernel": "SoS"
   },
   "source": [
    "Now get table of effect size estimates and PIP, for all conditions."
   ]
  },
  {
   "cell_type": "code",
   "execution_count": 10,
   "metadata": {
    "kernel": "R"
   },
   "outputs": [],
   "source": [
    "table = data.frame(matrix(NA, prod(dim(cond_pip)), 5))\n",
    "colnames(table) = c('y', 'x', 'effect_size', 'pip', 'cs')"
   ]
  },
  {
   "cell_type": "code",
   "execution_count": 11,
   "metadata": {
    "kernel": "R"
   },
   "outputs": [
    {
     "data": {
      "text/html": [
       "<table>\n",
       "<thead><tr><th scope=col>y</th><th scope=col>x</th><th scope=col>effect_size</th><th scope=col>pip</th><th scope=col>cs</th></tr></thead>\n",
       "<tbody>\n",
       "\t<tr><td>condition 1  </td><td>variable 1   </td><td>-7.276723e-08</td><td>0.003069809  </td><td>NA           </td></tr>\n",
       "\t<tr><td>condition 2  </td><td>variable 1   </td><td>-1.476321e-08</td><td>0.002189100  </td><td>NA           </td></tr>\n",
       "\t<tr><td>condition 3  </td><td>variable 1   </td><td>-2.354022e-08</td><td>0.002330131  </td><td>NA           </td></tr>\n",
       "\t<tr><td>condition 4  </td><td>variable 1   </td><td>-2.449357e-07</td><td>0.004035745  </td><td>NA           </td></tr>\n",
       "\t<tr><td>condition 5  </td><td>variable 1   </td><td>-4.029866e-08</td><td>0.002277351  </td><td>NA           </td></tr>\n",
       "\t<tr><td>condition 1  </td><td>variable 2   </td><td>-4.029866e-08</td><td>0.002277351  </td><td>NA           </td></tr>\n",
       "</tbody>\n",
       "</table>\n"
      ],
      "text/latex": [
       "\\begin{tabular}{r|lllll}\n",
       " y & x & effect\\_size & pip & cs\\\\\n",
       "\\hline\n",
       "\t condition 1   & variable 1    & -7.276723e-08 & 0.003069809   & NA           \\\\\n",
       "\t condition 2   & variable 1    & -1.476321e-08 & 0.002189100   & NA           \\\\\n",
       "\t condition 3   & variable 1    & -2.354022e-08 & 0.002330131   & NA           \\\\\n",
       "\t condition 4   & variable 1    & -2.449357e-07 & 0.004035745   & NA           \\\\\n",
       "\t condition 5   & variable 1    & -4.029866e-08 & 0.002277351   & NA           \\\\\n",
       "\t condition 1   & variable 2    & -4.029866e-08 & 0.002277351   & NA           \\\\\n",
       "\\end{tabular}\n"
      ],
      "text/markdown": [
       "\n",
       "y | x | effect_size | pip | cs | \n",
       "|---|---|---|---|---|---|\n",
       "| condition 1   | variable 1    | -7.276723e-08 | 0.003069809   | NA            | \n",
       "| condition 2   | variable 1    | -1.476321e-08 | 0.002189100   | NA            | \n",
       "| condition 3   | variable 1    | -2.354022e-08 | 0.002330131   | NA            | \n",
       "| condition 4   | variable 1    | -2.449357e-07 | 0.004035745   | NA            | \n",
       "| condition 5   | variable 1    | -4.029866e-08 | 0.002277351   | NA            | \n",
       "| condition 1   | variable 2    | -4.029866e-08 | 0.002277351   | NA            | \n",
       "\n",
       "\n"
      ],
      "text/plain": [
       "  y           x          effect_size   pip         cs\n",
       "1 condition 1 variable 1 -7.276723e-08 0.003069809 NA\n",
       "2 condition 2 variable 1 -1.476321e-08 0.002189100 NA\n",
       "3 condition 3 variable 1 -2.354022e-08 0.002330131 NA\n",
       "4 condition 4 variable 1 -2.449357e-07 0.004035745 NA\n",
       "5 condition 5 variable 1 -4.029866e-08 0.002277351 NA\n",
       "6 condition 1 variable 2 -4.029866e-08 0.002277351 NA"
      ]
     },
     "metadata": {},
     "output_type": "display_data"
    }
   ],
   "source": [
    "x_names = paste('variable', 1:nrow(cond_pip))\n",
    "y_names = paste('condition', 1:ncol(cond_pip))\n",
    "table$y = rep(y_names, length(x_names))\n",
    "table$x = rep(x_names, each = length(y_names))\n",
    "table$effect_size = as.vector(dat$coef[-1,])\n",
    "table$pip = as.vector(cond_pip)\n",
    "head(table)"
   ]
  },
  {
   "cell_type": "markdown",
   "metadata": {
    "kernel": "SoS"
   },
   "source": [
    "Now add CS to this table."
   ]
  },
  {
   "cell_type": "code",
   "execution_count": 12,
   "metadata": {
    "kernel": "R"
   },
   "outputs": [],
   "source": [
    "for (i in dat$sets$cs_index) {\n",
    "    variables = x_names[dat$sets$cs[[i]]]\n",
    "    table[which(table$x %in% variables),]$cs = i\n",
    "}\n",
    "table = table[which(!is.na(table$cs)),]"
   ]
  },
  {
   "cell_type": "code",
   "execution_count": 13,
   "metadata": {
    "kernel": "R"
   },
   "outputs": [
    {
     "data": {
      "text/html": [
       "<ol class=list-inline>\n",
       "\t<li>180</li>\n",
       "\t<li>5</li>\n",
       "</ol>\n"
      ],
      "text/latex": [
       "\\begin{enumerate*}\n",
       "\\item 180\n",
       "\\item 5\n",
       "\\end{enumerate*}\n"
      ],
      "text/markdown": [
       "1. 180\n",
       "2. 5\n",
       "\n",
       "\n"
      ],
      "text/plain": [
       "[1] 180   5"
      ]
     },
     "metadata": {},
     "output_type": "display_data"
    },
    {
     "data": {
      "text/html": [
       "<table>\n",
       "<thead><tr><th></th><th scope=col>y</th><th scope=col>x</th><th scope=col>effect_size</th><th scope=col>pip</th><th scope=col>cs</th></tr></thead>\n",
       "<tbody>\n",
       "\t<tr><th scope=row>1716</th><td>condition 1  </td><td>variable 344 </td><td> 3.496002e-08</td><td>0.002216022  </td><td>1            </td></tr>\n",
       "\t<tr><th scope=row>1717</th><td>condition 2  </td><td>variable 344 </td><td> 5.115692e-08</td><td>0.003102110  </td><td>1            </td></tr>\n",
       "\t<tr><th scope=row>1718</th><td>condition 3  </td><td>variable 344 </td><td> 1.815800e-08</td><td>0.002252564  </td><td>1            </td></tr>\n",
       "\t<tr><th scope=row>1719</th><td>condition 4  </td><td>variable 344 </td><td> 1.065014e-07</td><td>0.003226755  </td><td>1            </td></tr>\n",
       "\t<tr><th scope=row>1720</th><td>condition 5  </td><td>variable 344 </td><td> 5.308603e-08</td><td>0.003064365  </td><td>1            </td></tr>\n",
       "\t<tr><th scope=row>1851</th><td>condition 1  </td><td>variable 371 </td><td> 1.060740e-08</td><td>0.002729667  </td><td>1            </td></tr>\n",
       "\t<tr><th scope=row>1852</th><td>condition 2  </td><td>variable 371 </td><td> 4.338759e-08</td><td>0.002288875  </td><td>1            </td></tr>\n",
       "\t<tr><th scope=row>1853</th><td>condition 3  </td><td>variable 371 </td><td>-1.260157e-08</td><td>0.002091571  </td><td>1            </td></tr>\n",
       "\t<tr><th scope=row>1854</th><td>condition 4  </td><td>variable 371 </td><td> 5.235178e-08</td><td>0.002355021  </td><td>1            </td></tr>\n",
       "\t<tr><th scope=row>1855</th><td>condition 5  </td><td>variable 371 </td><td> 1.499557e-08</td><td>0.002124148  </td><td>1            </td></tr>\n",
       "\t<tr><th scope=row>1961</th><td>condition 1  </td><td>variable 393 </td><td> 9.635914e-08</td><td>0.002765508  </td><td>1            </td></tr>\n",
       "\t<tr><th scope=row>1962</th><td>condition 2  </td><td>variable 393 </td><td>-2.389824e-07</td><td>0.004145378  </td><td>1            </td></tr>\n",
       "\t<tr><th scope=row>1963</th><td>condition 3  </td><td>variable 393 </td><td>-9.561618e-10</td><td>0.003229697  </td><td>1            </td></tr>\n",
       "\t<tr><th scope=row>1964</th><td>condition 4  </td><td>variable 393 </td><td> 1.160823e-07</td><td>0.002899537  </td><td>1            </td></tr>\n",
       "\t<tr><th scope=row>1965</th><td>condition 5  </td><td>variable 393 </td><td> 9.390752e-08</td><td>0.002747126  </td><td>1            </td></tr>\n",
       "\t<tr><th scope=row>1966</th><td>condition 1  </td><td>variable 394 </td><td> 3.102677e-08</td><td>0.002920690  </td><td>1            </td></tr>\n",
       "\t<tr><th scope=row>1967</th><td>condition 2  </td><td>variable 394 </td><td> 4.064019e-09</td><td>0.003123960  </td><td>1            </td></tr>\n",
       "\t<tr><th scope=row>1968</th><td>condition 3  </td><td>variable 394 </td><td> 1.343054e-07</td><td>0.003023157  </td><td>1            </td></tr>\n",
       "\t<tr><th scope=row>1969</th><td>condition 4  </td><td>variable 394 </td><td> 2.662238e-08</td><td>0.002886369  </td><td>1            </td></tr>\n",
       "\t<tr><th scope=row>1970</th><td>condition 5  </td><td>variable 394 </td><td> 2.227147e-07</td><td>0.003758740  </td><td>1            </td></tr>\n",
       "\t<tr><th scope=row>2021</th><td>condition 1  </td><td>variable 405 </td><td>-3.458690e-08</td><td>0.002542421  </td><td>1            </td></tr>\n",
       "\t<tr><th scope=row>2022</th><td>condition 2  </td><td>variable 405 </td><td>-2.260393e-08</td><td>0.002039215  </td><td>1            </td></tr>\n",
       "\t<tr><th scope=row>2023</th><td>condition 3  </td><td>variable 405 </td><td> 3.220394e-09</td><td>0.001184921  </td><td>1            </td></tr>\n",
       "\t<tr><th scope=row>2024</th><td>condition 4  </td><td>variable 405 </td><td>-3.136309e-08</td><td>0.002327394  </td><td>1            </td></tr>\n",
       "\t<tr><th scope=row>2025</th><td>condition 5  </td><td>variable 405 </td><td> 2.873009e-08</td><td>0.002147385  </td><td>1            </td></tr>\n",
       "</tbody>\n",
       "</table>\n"
      ],
      "text/latex": [
       "\\begin{tabular}{r|lllll}\n",
       "  & y & x & effect\\_size & pip & cs\\\\\n",
       "\\hline\n",
       "\t1716 & condition 1   & variable 344  &  3.496002e-08 & 0.002216022   & 1            \\\\\n",
       "\t1717 & condition 2   & variable 344  &  5.115692e-08 & 0.003102110   & 1            \\\\\n",
       "\t1718 & condition 3   & variable 344  &  1.815800e-08 & 0.002252564   & 1            \\\\\n",
       "\t1719 & condition 4   & variable 344  &  1.065014e-07 & 0.003226755   & 1            \\\\\n",
       "\t1720 & condition 5   & variable 344  &  5.308603e-08 & 0.003064365   & 1            \\\\\n",
       "\t1851 & condition 1   & variable 371  &  1.060740e-08 & 0.002729667   & 1            \\\\\n",
       "\t1852 & condition 2   & variable 371  &  4.338759e-08 & 0.002288875   & 1            \\\\\n",
       "\t1853 & condition 3   & variable 371  & -1.260157e-08 & 0.002091571   & 1            \\\\\n",
       "\t1854 & condition 4   & variable 371  &  5.235178e-08 & 0.002355021   & 1            \\\\\n",
       "\t1855 & condition 5   & variable 371  &  1.499557e-08 & 0.002124148   & 1            \\\\\n",
       "\t1961 & condition 1   & variable 393  &  9.635914e-08 & 0.002765508   & 1            \\\\\n",
       "\t1962 & condition 2   & variable 393  & -2.389824e-07 & 0.004145378   & 1            \\\\\n",
       "\t1963 & condition 3   & variable 393  & -9.561618e-10 & 0.003229697   & 1            \\\\\n",
       "\t1964 & condition 4   & variable 393  &  1.160823e-07 & 0.002899537   & 1            \\\\\n",
       "\t1965 & condition 5   & variable 393  &  9.390752e-08 & 0.002747126   & 1            \\\\\n",
       "\t1966 & condition 1   & variable 394  &  3.102677e-08 & 0.002920690   & 1            \\\\\n",
       "\t1967 & condition 2   & variable 394  &  4.064019e-09 & 0.003123960   & 1            \\\\\n",
       "\t1968 & condition 3   & variable 394  &  1.343054e-07 & 0.003023157   & 1            \\\\\n",
       "\t1969 & condition 4   & variable 394  &  2.662238e-08 & 0.002886369   & 1            \\\\\n",
       "\t1970 & condition 5   & variable 394  &  2.227147e-07 & 0.003758740   & 1            \\\\\n",
       "\t2021 & condition 1   & variable 405  & -3.458690e-08 & 0.002542421   & 1            \\\\\n",
       "\t2022 & condition 2   & variable 405  & -2.260393e-08 & 0.002039215   & 1            \\\\\n",
       "\t2023 & condition 3   & variable 405  &  3.220394e-09 & 0.001184921   & 1            \\\\\n",
       "\t2024 & condition 4   & variable 405  & -3.136309e-08 & 0.002327394   & 1            \\\\\n",
       "\t2025 & condition 5   & variable 405  &  2.873009e-08 & 0.002147385   & 1            \\\\\n",
       "\\end{tabular}\n"
      ],
      "text/markdown": [
       "\n",
       "| <!--/--> | y | x | effect_size | pip | cs | \n",
       "|---|---|---|---|---|---|---|---|---|---|---|---|---|---|---|---|---|---|---|---|---|---|---|---|---|\n",
       "| 1716 | condition 1   | variable 344  |  3.496002e-08 | 0.002216022   | 1             | \n",
       "| 1717 | condition 2   | variable 344  |  5.115692e-08 | 0.003102110   | 1             | \n",
       "| 1718 | condition 3   | variable 344  |  1.815800e-08 | 0.002252564   | 1             | \n",
       "| 1719 | condition 4   | variable 344  |  1.065014e-07 | 0.003226755   | 1             | \n",
       "| 1720 | condition 5   | variable 344  |  5.308603e-08 | 0.003064365   | 1             | \n",
       "| 1851 | condition 1   | variable 371  |  1.060740e-08 | 0.002729667   | 1             | \n",
       "| 1852 | condition 2   | variable 371  |  4.338759e-08 | 0.002288875   | 1             | \n",
       "| 1853 | condition 3   | variable 371  | -1.260157e-08 | 0.002091571   | 1             | \n",
       "| 1854 | condition 4   | variable 371  |  5.235178e-08 | 0.002355021   | 1             | \n",
       "| 1855 | condition 5   | variable 371  |  1.499557e-08 | 0.002124148   | 1             | \n",
       "| 1961 | condition 1   | variable 393  |  9.635914e-08 | 0.002765508   | 1             | \n",
       "| 1962 | condition 2   | variable 393  | -2.389824e-07 | 0.004145378   | 1             | \n",
       "| 1963 | condition 3   | variable 393  | -9.561618e-10 | 0.003229697   | 1             | \n",
       "| 1964 | condition 4   | variable 393  |  1.160823e-07 | 0.002899537   | 1             | \n",
       "| 1965 | condition 5   | variable 393  |  9.390752e-08 | 0.002747126   | 1             | \n",
       "| 1966 | condition 1   | variable 394  |  3.102677e-08 | 0.002920690   | 1             | \n",
       "| 1967 | condition 2   | variable 394  |  4.064019e-09 | 0.003123960   | 1             | \n",
       "| 1968 | condition 3   | variable 394  |  1.343054e-07 | 0.003023157   | 1             | \n",
       "| 1969 | condition 4   | variable 394  |  2.662238e-08 | 0.002886369   | 1             | \n",
       "| 1970 | condition 5   | variable 394  |  2.227147e-07 | 0.003758740   | 1             | \n",
       "| 2021 | condition 1   | variable 405  | -3.458690e-08 | 0.002542421   | 1             | \n",
       "| 2022 | condition 2   | variable 405  | -2.260393e-08 | 0.002039215   | 1             | \n",
       "| 2023 | condition 3   | variable 405  |  3.220394e-09 | 0.001184921   | 1             | \n",
       "| 2024 | condition 4   | variable 405  | -3.136309e-08 | 0.002327394   | 1             | \n",
       "| 2025 | condition 5   | variable 405  |  2.873009e-08 | 0.002147385   | 1             | \n",
       "\n",
       "\n"
      ],
      "text/plain": [
       "     y           x            effect_size   pip         cs\n",
       "1716 condition 1 variable 344  3.496002e-08 0.002216022 1 \n",
       "1717 condition 2 variable 344  5.115692e-08 0.003102110 1 \n",
       "1718 condition 3 variable 344  1.815800e-08 0.002252564 1 \n",
       "1719 condition 4 variable 344  1.065014e-07 0.003226755 1 \n",
       "1720 condition 5 variable 344  5.308603e-08 0.003064365 1 \n",
       "1851 condition 1 variable 371  1.060740e-08 0.002729667 1 \n",
       "1852 condition 2 variable 371  4.338759e-08 0.002288875 1 \n",
       "1853 condition 3 variable 371 -1.260157e-08 0.002091571 1 \n",
       "1854 condition 4 variable 371  5.235178e-08 0.002355021 1 \n",
       "1855 condition 5 variable 371  1.499557e-08 0.002124148 1 \n",
       "1961 condition 1 variable 393  9.635914e-08 0.002765508 1 \n",
       "1962 condition 2 variable 393 -2.389824e-07 0.004145378 1 \n",
       "1963 condition 3 variable 393 -9.561618e-10 0.003229697 1 \n",
       "1964 condition 4 variable 393  1.160823e-07 0.002899537 1 \n",
       "1965 condition 5 variable 393  9.390752e-08 0.002747126 1 \n",
       "1966 condition 1 variable 394  3.102677e-08 0.002920690 1 \n",
       "1967 condition 2 variable 394  4.064019e-09 0.003123960 1 \n",
       "1968 condition 3 variable 394  1.343054e-07 0.003023157 1 \n",
       "1969 condition 4 variable 394  2.662238e-08 0.002886369 1 \n",
       "1970 condition 5 variable 394  2.227147e-07 0.003758740 1 \n",
       "2021 condition 1 variable 405 -3.458690e-08 0.002542421 1 \n",
       "2022 condition 2 variable 405 -2.260393e-08 0.002039215 1 \n",
       "2023 condition 3 variable 405  3.220394e-09 0.001184921 1 \n",
       "2024 condition 4 variable 405 -3.136309e-08 0.002327394 1 \n",
       "2025 condition 5 variable 405  2.873009e-08 0.002147385 1 "
      ]
     },
     "metadata": {},
     "output_type": "display_data"
    }
   ],
   "source": [
    "dim(table)\n",
    "table[which(table$cs==1),]"
   ]
  },
  {
   "cell_type": "code",
   "execution_count": 14,
   "metadata": {
    "kernel": "R"
   },
   "outputs": [],
   "source": [
    "rects = NULL\n",
    "j = 1\n",
    "for (i in unique(table$cs)) {\n",
    "    x_involved = which(table$cs == i)\n",
    "    line = c(min(x_involved), max(x_involved), letters[j])\n",
    "    if (j == 1) rects = line\n",
    "    else rects = rbind(rects, line)\n",
    "    j = j + 1\n",
    "}\n",
    "colnames(rects) = c('xstart', 'xend', 'col')\n",
    "rownames(rects) = NULL\n",
    "rects = data.frame(rects)"
   ]
  },
  {
   "cell_type": "code",
   "execution_count": 15,
   "metadata": {
    "kernel": "R"
   },
   "outputs": [
    {
     "data": {
      "text/html": [
       "<table>\n",
       "<thead><tr><th scope=col>xstart</th><th scope=col>xend</th><th scope=col>col</th></tr></thead>\n",
       "<tbody>\n",
       "\t<tr><td>1  </td><td>140</td><td>a  </td></tr>\n",
       "\t<tr><td>141</td><td>165</td><td>b  </td></tr>\n",
       "\t<tr><td>166</td><td>180</td><td>c  </td></tr>\n",
       "</tbody>\n",
       "</table>\n"
      ],
      "text/latex": [
       "\\begin{tabular}{r|lll}\n",
       " xstart & xend & col\\\\\n",
       "\\hline\n",
       "\t 1   & 140 & a  \\\\\n",
       "\t 141 & 165 & b  \\\\\n",
       "\t 166 & 180 & c  \\\\\n",
       "\\end{tabular}\n"
      ],
      "text/markdown": [
       "\n",
       "xstart | xend | col | \n",
       "|---|---|---|\n",
       "| 1   | 140 | a   | \n",
       "| 141 | 165 | b   | \n",
       "| 166 | 180 | c   | \n",
       "\n",
       "\n"
      ],
      "text/plain": [
       "  xstart xend col\n",
       "1 1      140  a  \n",
       "2 141    165  b  \n",
       "3 166    180  c  "
      ]
     },
     "metadata": {},
     "output_type": "display_data"
    }
   ],
   "source": [
    "rects"
   ]
  },
  {
   "cell_type": "code",
   "execution_count": 16,
   "metadata": {
    "kernel": "R"
   },
   "outputs": [
    {
     "data": {
      "text/html": [
       "<strong>png:</strong> 2"
      ],
      "text/latex": [
       "\\textbf{png:} 2"
      ],
      "text/markdown": [
       "**png:** 2"
      ],
      "text/plain": [
       "png \n",
       "  2 "
      ]
     },
     "metadata": {},
     "output_type": "display_data"
    }
   ],
   "source": [
    "library(ggplot2)\n",
    "pdf('bubble_demo.pdf', width = length(unique(table$x)) * 0.5, height = length(unique(table$y)) * 0.9)\n",
    "p = ggplot(table) + \n",
    "    geom_point(aes(x = x, y = y, colour = effect_size , size = pip)) +\n",
    "    #geom_rect(data=rects, aes(ymin=-Inf, ymax=Inf, xmin=-Inf, xmax=Inf, fill=alpha(\"grey\",0), colour = col), alpha=0.5) +\n",
    "#   geom_point(data = atac_seq_table[which(atac_seq_table$sig == 1), ], aes(x = gwas, y = anno), size = 8, shape = 1) + \n",
    "    scale_x_discrete(limits = unique(table$x)) + \n",
    "    scale_y_discrete(limits = unique(table$y)) + \n",
    "    scale_color_gradient2(midpoint = 0, limit = c(-max(abs(table$effect_size)), max(abs(table$effect_size))), low=\"#022968\", mid=\"white\", high=\"#800000\", space=\"Lab\") + \n",
    "    theme_minimal() + theme(text = element_text(face = \"bold\", size = 14), panel.grid = element_blank(), \n",
    "        axis.text.x = element_text(angle = 45, vjust = 1, hjust = 1), \n",
    "        axis.title.x = element_blank(), \n",
    "        axis.title.y = element_blank(),\n",
    "        axis.text = element_text(size = 15, color = \"black\"))\n",
    "print(p)\n",
    "dev.off()"
   ]
  },
  {
   "cell_type": "code",
   "execution_count": 17,
   "metadata": {
    "kernel": "SoS"
   },
   "outputs": [
    {
     "data": {
      "text/html": [
       "<div class=\"sos_hint\">> bubble_demo.pdf (7.0 KiB):</div>"
      ],
      "text/plain": [
       "\n",
       "> bubble_demo.pdf (7.0 KiB):"
      ]
     },
     "metadata": {},
     "output_type": "display_data"
    },
    {
     "data": {
      "image/png": "[encoded data removed]"
     },
     "metadata": {},
     "output_type": "display_data"
    }
   ],
   "source": [
    "%preview bubble_demo.pdf -s png --dpi 100"
   ]
  }
 ],
 "metadata": {
  "kernelspec": {
   "display_name": "SoS",
   "language": "sos",
   "name": "sos"
  },
  "language_info": {
   "codemirror_mode": "sos",
   "file_extension": ".sos",
   "mimetype": "text/x-sos",
   "name": "sos",
   "nbconvert_exporter": "sos_notebook.converter.SoS_Exporter",
   "pygments_lexer": "sos"
  },
  "sos": {
   "kernels": [
    [
     "R",
     "ir",
     "R",
     "#DCDCDA"
    ]
   ],
   "version": "0.19.1"
  }
 },
 "nbformat": 4,
 "nbformat_minor": 2
}
