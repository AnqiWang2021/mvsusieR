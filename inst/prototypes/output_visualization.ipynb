{
 "cells": [
  {
   "cell_type": "markdown",
   "metadata": {
    "kernel": "SoS"
   },
   "source": [
    "# Visualization of M&M output\n",
    "\n",
    "A prototype to plot various M&M output information."
   ]
  },
  {
   "cell_type": "markdown",
   "metadata": {
    "kernel": "SoS"
   },
   "source": [
    "## Load a sample M&M output data-set"
   ]
  },
  {
   "cell_type": "code",
   "execution_count": 1,
   "metadata": {
    "kernel": "R"
   },
   "outputs": [],
   "source": [
    "result_file = 'small_data_100_mixture01_1_oracle_generator_1_mnm_mixture01_1.rds'\n",
    "meta_file = 'small_data_100_mixture01_1.pkl'"
   ]
  },
  {
   "cell_type": "code",
   "execution_count": 2,
   "metadata": {
    "kernel": "R"
   },
   "outputs": [
    {
     "data": {
      "text/html": [
       "<ol class=list-inline>\n",
       "\t<li>'alpha'</li>\n",
       "\t<li>'mu'</li>\n",
       "\t<li>'mu2'</li>\n",
       "\t<li>'KL'</li>\n",
       "\t<li>'lbf'</li>\n",
       "\t<li>'sigma2'</li>\n",
       "\t<li>'V'</li>\n",
       "\t<li>'elbo'</li>\n",
       "\t<li>'niter'</li>\n",
       "\t<li>'fitted'</li>\n",
       "\t<li>'coef'</li>\n",
       "\t<li>'null_index'</li>\n",
       "\t<li>'mixture_weights'</li>\n",
       "\t<li>'lfsr'</li>\n",
       "\t<li>'intercept'</li>\n",
       "\t<li>'sets'</li>\n",
       "\t<li>'pip'</li>\n",
       "\t<li>'m_init'</li>\n",
       "</ol>\n"
      ],
      "text/latex": [
       "\\begin{enumerate*}\n",
       "\\item 'alpha'\n",
       "\\item 'mu'\n",
       "\\item 'mu2'\n",
       "\\item 'KL'\n",
       "\\item 'lbf'\n",
       "\\item 'sigma2'\n",
       "\\item 'V'\n",
       "\\item 'elbo'\n",
       "\\item 'niter'\n",
       "\\item 'fitted'\n",
       "\\item 'coef'\n",
       "\\item 'null\\_index'\n",
       "\\item 'mixture\\_weights'\n",
       "\\item 'lfsr'\n",
       "\\item 'intercept'\n",
       "\\item 'sets'\n",
       "\\item 'pip'\n",
       "\\item 'm\\_init'\n",
       "\\end{enumerate*}\n"
      ],
      "text/markdown": [
       "1. 'alpha'\n",
       "2. 'mu'\n",
       "3. 'mu2'\n",
       "4. 'KL'\n",
       "5. 'lbf'\n",
       "6. 'sigma2'\n",
       "7. 'V'\n",
       "8. 'elbo'\n",
       "9. 'niter'\n",
       "10. 'fitted'\n",
       "11. 'coef'\n",
       "12. 'null_index'\n",
       "13. 'mixture_weights'\n",
       "14. 'lfsr'\n",
       "15. 'intercept'\n",
       "16. 'sets'\n",
       "17. 'pip'\n",
       "18. 'm_init'\n",
       "\n",
       "\n"
      ],
      "text/plain": [
       " [1] \"alpha\"           \"mu\"              \"mu2\"             \"KL\"             \n",
       " [5] \"lbf\"             \"sigma2\"          \"V\"               \"elbo\"           \n",
       " [9] \"niter\"           \"fitted\"          \"coef\"            \"null_index\"     \n",
       "[13] \"mixture_weights\" \"lfsr\"            \"intercept\"       \"sets\"           \n",
       "[17] \"pip\"             \"m_init\"         "
      ]
     },
     "metadata": {},
     "output_type": "display_data"
    }
   ],
   "source": [
    "dat = readRDS(result_file)$result\n",
    "names(dat)"
   ]
  },
  {
   "cell_type": "markdown",
   "metadata": {
    "kernel": "SoS"
   },
   "source": [
    "## SuSiE plot\n",
    "\n",
    "We can directly call SuSiE plot function. Since it is simulated data we can add the true causal effects to it."
   ]
  },
  {
   "cell_type": "code",
   "execution_count": 3,
   "metadata": {
    "kernel": "R"
   },
   "outputs": [
    {
     "data": {
      "text/html": [
       "<table>\n",
       "<thead><tr><th scope=col>row</th><th scope=col>col</th></tr></thead>\n",
       "<tbody>\n",
       "\t<tr><td>149</td><td>1  </td></tr>\n",
       "\t<tr><td>394</td><td>1  </td></tr>\n",
       "\t<tr><td>786</td><td>1  </td></tr>\n",
       "\t<tr><td>149</td><td>2  </td></tr>\n",
       "\t<tr><td>394</td><td>2  </td></tr>\n",
       "\t<tr><td>786</td><td>2  </td></tr>\n",
       "\t<tr><td>149</td><td>3  </td></tr>\n",
       "\t<tr><td>394</td><td>3  </td></tr>\n",
       "\t<tr><td>786</td><td>3  </td></tr>\n",
       "\t<tr><td>149</td><td>4  </td></tr>\n",
       "\t<tr><td>394</td><td>4  </td></tr>\n",
       "\t<tr><td>786</td><td>4  </td></tr>\n",
       "\t<tr><td>149</td><td>5  </td></tr>\n",
       "\t<tr><td>394</td><td>5  </td></tr>\n",
       "\t<tr><td>786</td><td>5  </td></tr>\n",
       "</tbody>\n",
       "</table>\n"
      ],
      "text/latex": [
       "\\begin{tabular}{ll}\n",
       " row & col\\\\\n",
       "\\hline\n",
       "\t 149 & 1  \\\\\n",
       "\t 394 & 1  \\\\\n",
       "\t 786 & 1  \\\\\n",
       "\t 149 & 2  \\\\\n",
       "\t 394 & 2  \\\\\n",
       "\t 786 & 2  \\\\\n",
       "\t 149 & 3  \\\\\n",
       "\t 394 & 3  \\\\\n",
       "\t 786 & 3  \\\\\n",
       "\t 149 & 4  \\\\\n",
       "\t 394 & 4  \\\\\n",
       "\t 786 & 4  \\\\\n",
       "\t 149 & 5  \\\\\n",
       "\t 394 & 5  \\\\\n",
       "\t 786 & 5  \\\\\n",
       "\\end{tabular}\n"
      ],
      "text/markdown": [
       "\n",
       "row | col | \n",
       "|---|---|---|---|---|---|---|---|---|---|---|---|---|---|---|\n",
       "| 149 | 1   | \n",
       "| 394 | 1   | \n",
       "| 786 | 1   | \n",
       "| 149 | 2   | \n",
       "| 394 | 2   | \n",
       "| 786 | 2   | \n",
       "| 149 | 3   | \n",
       "| 394 | 3   | \n",
       "| 786 | 3   | \n",
       "| 149 | 4   | \n",
       "| 394 | 4   | \n",
       "| 786 | 4   | \n",
       "| 149 | 5   | \n",
       "| 394 | 5   | \n",
       "| 786 | 5   | \n",
       "\n",
       "\n"
      ],
      "text/plain": [
       "      row col\n",
       " [1,] 149 1  \n",
       " [2,] 394 1  \n",
       " [3,] 786 1  \n",
       " [4,] 149 2  \n",
       " [5,] 394 2  \n",
       " [6,] 786 2  \n",
       " [7,] 149 3  \n",
       " [8,] 394 3  \n",
       " [9,] 786 3  \n",
       "[10,] 149 4  \n",
       "[11,] 394 4  \n",
       "[12,] 786 4  \n",
       "[13,] 149 5  \n",
       "[14,] 394 5  \n",
       "[15,] 786 5  "
      ]
     },
     "metadata": {},
     "output_type": "display_data"
    }
   ],
   "source": [
    "truth = dscrutils::read_dsc(meta_file)$meta$true_coef\n",
    "true_pos = as.integer(apply(truth, 1, sum) != 0)\n",
    "true_idx = which(truth != 0, arr.ind = TRUE)\n",
    "true_idx"
   ]
  },
  {
   "cell_type": "code",
   "execution_count": 4,
   "metadata": {
    "kernel": "R"
   },
   "outputs": [
    {
     "data": {
      "text/html": [
       "<table>\n",
       "<tbody>\n",
       "\t<tr><td>0.4118993  </td><td>0.3934502  </td><td>0.08806096 </td><td>-0.07230793</td><td>0.05004165 </td></tr>\n",
       "\t<tr><td>0.4118993  </td><td>0.3934502  </td><td>0.08806096 </td><td>-0.07230793</td><td>0.05004165 </td></tr>\n",
       "\t<tr><td>0.4118993  </td><td>0.3934502  </td><td>0.08806096 </td><td>-0.07230793</td><td>0.05004165 </td></tr>\n",
       "\t<tr><td>0.4118993  </td><td>0.3934502  </td><td>0.08806096 </td><td>-0.07230793</td><td>0.05004165 </td></tr>\n",
       "\t<tr><td>0.4118993  </td><td>0.3934502  </td><td>0.08806096 </td><td>-0.07230793</td><td>0.05004165 </td></tr>\n",
       "\t<tr><td>0.4118993  </td><td>0.3934502  </td><td>0.08806096 </td><td>-0.07230793</td><td>0.05004165 </td></tr>\n",
       "\t<tr><td>0.4118993  </td><td>0.3934502  </td><td>0.08806096 </td><td>-0.07230793</td><td>0.05004165 </td></tr>\n",
       "\t<tr><td>0.4118993  </td><td>0.3934502  </td><td>0.08806096 </td><td>-0.07230793</td><td>0.05004165 </td></tr>\n",
       "\t<tr><td>0.4118993  </td><td>0.3934502  </td><td>0.08806096 </td><td>-0.07230793</td><td>0.05004165 </td></tr>\n",
       "\t<tr><td>0.4118993  </td><td>0.3934502  </td><td>0.08806096 </td><td>-0.07230793</td><td>0.05004165 </td></tr>\n",
       "\t<tr><td>0.4118993  </td><td>0.3934502  </td><td>0.08806096 </td><td>-0.07230793</td><td>0.05004165 </td></tr>\n",
       "\t<tr><td>0.4118993  </td><td>0.3934502  </td><td>0.08806096 </td><td>-0.07230793</td><td>0.05004165 </td></tr>\n",
       "\t<tr><td>0.4118993  </td><td>0.3934502  </td><td>0.08806096 </td><td>-0.07230793</td><td>0.05004165 </td></tr>\n",
       "\t<tr><td>0.4118993  </td><td>0.3934502  </td><td>0.08806096 </td><td>-0.07230793</td><td>0.05004165 </td></tr>\n",
       "\t<tr><td>0.4118993  </td><td>0.3934502  </td><td>0.08806096 </td><td>-0.07230793</td><td>0.05004165 </td></tr>\n",
       "</tbody>\n",
       "</table>\n"
      ],
      "text/latex": [
       "\\begin{tabular}{lllll}\n",
       "\t 0.4118993   & 0.3934502   & 0.08806096  & -0.07230793 & 0.05004165 \\\\\n",
       "\t 0.4118993   & 0.3934502   & 0.08806096  & -0.07230793 & 0.05004165 \\\\\n",
       "\t 0.4118993   & 0.3934502   & 0.08806096  & -0.07230793 & 0.05004165 \\\\\n",
       "\t 0.4118993   & 0.3934502   & 0.08806096  & -0.07230793 & 0.05004165 \\\\\n",
       "\t 0.4118993   & 0.3934502   & 0.08806096  & -0.07230793 & 0.05004165 \\\\\n",
       "\t 0.4118993   & 0.3934502   & 0.08806096  & -0.07230793 & 0.05004165 \\\\\n",
       "\t 0.4118993   & 0.3934502   & 0.08806096  & -0.07230793 & 0.05004165 \\\\\n",
       "\t 0.4118993   & 0.3934502   & 0.08806096  & -0.07230793 & 0.05004165 \\\\\n",
       "\t 0.4118993   & 0.3934502   & 0.08806096  & -0.07230793 & 0.05004165 \\\\\n",
       "\t 0.4118993   & 0.3934502   & 0.08806096  & -0.07230793 & 0.05004165 \\\\\n",
       "\t 0.4118993   & 0.3934502   & 0.08806096  & -0.07230793 & 0.05004165 \\\\\n",
       "\t 0.4118993   & 0.3934502   & 0.08806096  & -0.07230793 & 0.05004165 \\\\\n",
       "\t 0.4118993   & 0.3934502   & 0.08806096  & -0.07230793 & 0.05004165 \\\\\n",
       "\t 0.4118993   & 0.3934502   & 0.08806096  & -0.07230793 & 0.05004165 \\\\\n",
       "\t 0.4118993   & 0.3934502   & 0.08806096  & -0.07230793 & 0.05004165 \\\\\n",
       "\\end{tabular}\n"
      ],
      "text/markdown": [
       "\n",
       "| 0.4118993   | 0.3934502   | 0.08806096  | -0.07230793 | 0.05004165  | \n",
       "| 0.4118993   | 0.3934502   | 0.08806096  | -0.07230793 | 0.05004165  | \n",
       "| 0.4118993   | 0.3934502   | 0.08806096  | -0.07230793 | 0.05004165  | \n",
       "| 0.4118993   | 0.3934502   | 0.08806096  | -0.07230793 | 0.05004165  | \n",
       "| 0.4118993   | 0.3934502   | 0.08806096  | -0.07230793 | 0.05004165  | \n",
       "| 0.4118993   | 0.3934502   | 0.08806096  | -0.07230793 | 0.05004165  | \n",
       "| 0.4118993   | 0.3934502   | 0.08806096  | -0.07230793 | 0.05004165  | \n",
       "| 0.4118993   | 0.3934502   | 0.08806096  | -0.07230793 | 0.05004165  | \n",
       "| 0.4118993   | 0.3934502   | 0.08806096  | -0.07230793 | 0.05004165  | \n",
       "| 0.4118993   | 0.3934502   | 0.08806096  | -0.07230793 | 0.05004165  | \n",
       "| 0.4118993   | 0.3934502   | 0.08806096  | -0.07230793 | 0.05004165  | \n",
       "| 0.4118993   | 0.3934502   | 0.08806096  | -0.07230793 | 0.05004165  | \n",
       "| 0.4118993   | 0.3934502   | 0.08806096  | -0.07230793 | 0.05004165  | \n",
       "| 0.4118993   | 0.3934502   | 0.08806096  | -0.07230793 | 0.05004165  | \n",
       "| 0.4118993   | 0.3934502   | 0.08806096  | -0.07230793 | 0.05004165  | \n",
       "\n",
       "\n"
      ],
      "text/plain": [
       "      [,1]      [,2]      [,3]       [,4]        [,5]      \n",
       " [1,] 0.4118993 0.3934502 0.08806096 -0.07230793 0.05004165\n",
       " [2,] 0.4118993 0.3934502 0.08806096 -0.07230793 0.05004165\n",
       " [3,] 0.4118993 0.3934502 0.08806096 -0.07230793 0.05004165\n",
       " [4,] 0.4118993 0.3934502 0.08806096 -0.07230793 0.05004165\n",
       " [5,] 0.4118993 0.3934502 0.08806096 -0.07230793 0.05004165\n",
       " [6,] 0.4118993 0.3934502 0.08806096 -0.07230793 0.05004165\n",
       " [7,] 0.4118993 0.3934502 0.08806096 -0.07230793 0.05004165\n",
       " [8,] 0.4118993 0.3934502 0.08806096 -0.07230793 0.05004165\n",
       " [9,] 0.4118993 0.3934502 0.08806096 -0.07230793 0.05004165\n",
       "[10,] 0.4118993 0.3934502 0.08806096 -0.07230793 0.05004165\n",
       "[11,] 0.4118993 0.3934502 0.08806096 -0.07230793 0.05004165\n",
       "[12,] 0.4118993 0.3934502 0.08806096 -0.07230793 0.05004165\n",
       "[13,] 0.4118993 0.3934502 0.08806096 -0.07230793 0.05004165\n",
       "[14,] 0.4118993 0.3934502 0.08806096 -0.07230793 0.05004165\n",
       "[15,] 0.4118993 0.3934502 0.08806096 -0.07230793 0.05004165"
      ]
     },
     "metadata": {},
     "output_type": "display_data"
    }
   ],
   "source": [
    "truth[which(truth!=0,arr.ind=T)[,1],]"
   ]
  },
  {
   "cell_type": "code",
   "execution_count": 5,
   "metadata": {
    "kernel": "R"
   },
   "outputs": [
    {
     "data": {
      "text/html": [
       "<ol class=list-inline>\n",
       "\t<li>5.54090525234181e-05</li>\n",
       "\t<li>0.00897184235057198</li>\n",
       "\t<li>0.0444660043879154</li>\n",
       "\t<li>3.70363283541188e-05</li>\n",
       "\t<li>0.00554368801446479</li>\n",
       "\t<li>0.0307386813051094</li>\n",
       "\t<li>1.26717037831625e-05</li>\n",
       "\t<li>0.00200180257108648</li>\n",
       "\t<li>0.00815300029442121</li>\n",
       "\t<li>-1.54978788368939e-05</li>\n",
       "\t<li>-0.00166610417021332</li>\n",
       "\t<li>-0.0074440800543281</li>\n",
       "\t<li>7.12173907318122e-06</li>\n",
       "\t<li>0.000838450772849928</li>\n",
       "\t<li>0.00557786253834454</li>\n",
       "</ol>\n"
      ],
      "text/latex": [
       "\\begin{enumerate*}\n",
       "\\item 5.54090525234181e-05\n",
       "\\item 0.00897184235057198\n",
       "\\item 0.0444660043879154\n",
       "\\item 3.70363283541188e-05\n",
       "\\item 0.00554368801446479\n",
       "\\item 0.0307386813051094\n",
       "\\item 1.26717037831625e-05\n",
       "\\item 0.00200180257108648\n",
       "\\item 0.00815300029442121\n",
       "\\item -1.54978788368939e-05\n",
       "\\item -0.00166610417021332\n",
       "\\item -0.0074440800543281\n",
       "\\item 7.12173907318122e-06\n",
       "\\item 0.000838450772849928\n",
       "\\item 0.00557786253834454\n",
       "\\end{enumerate*}\n"
      ],
      "text/markdown": [
       "1. 5.54090525234181e-05\n",
       "2. 0.00897184235057198\n",
       "3. 0.0444660043879154\n",
       "4. 3.70363283541188e-05\n",
       "5. 0.00554368801446479\n",
       "6. 0.0307386813051094\n",
       "7. 1.26717037831625e-05\n",
       "8. 0.00200180257108648\n",
       "9. 0.00815300029442121\n",
       "10. -1.54978788368939e-05\n",
       "11. -0.00166610417021332\n",
       "12. -0.0074440800543281\n",
       "13. 7.12173907318122e-06\n",
       "14. 0.000838450772849928\n",
       "15. 0.00557786253834454\n",
       "\n",
       "\n"
      ],
      "text/plain": [
       " [1]  5.540905e-05  8.971842e-03  4.446600e-02  3.703633e-05  5.543688e-03\n",
       " [6]  3.073868e-02  1.267170e-05  2.001803e-03  8.153000e-03 -1.549788e-05\n",
       "[11] -1.666104e-03 -7.444080e-03  7.121739e-06  8.384508e-04  5.577863e-03"
      ]
     },
     "metadata": {},
     "output_type": "display_data"
    }
   ],
   "source": [
    "dat$coef[-1,][true_idx]"
   ]
  },
  {
   "cell_type": "code",
   "execution_count": 6,
   "metadata": {
    "kernel": "R"
   },
   "outputs": [
    {
     "data": {
      "text/html": [
       "<strong>png:</strong> 2"
      ],
      "text/latex": [
       "\\textbf{png:} 2"
      ],
      "text/markdown": [
       "**png:** 2"
      ],
      "text/plain": [
       "png \n",
       "  2 "
      ]
     },
     "metadata": {},
     "output_type": "display_data"
    }
   ],
   "source": [
    "pdf('susie_plot_demo.pdf', width=10, height=5)\n",
    "susieR::susie_plot(dat,y='PIP', main = 'Default SuSiE plot for cross-condition PIP', xlab = 'SNP positions', add_legend = T, b=true_pos)\n",
    "dev.off()"
   ]
  },
  {
   "cell_type": "code",
   "execution_count": 7,
   "metadata": {
    "kernel": "SoS"
   },
   "outputs": [
    {
     "data": {
      "text/html": [
       "<div class=\"sos_hint\">> susie_plot_demo.pdf (11.0 KiB):</div>"
      ],
      "text/plain": [
       "\n",
       "> susie_plot_demo.pdf (11.0 KiB):"
      ]
     },
     "metadata": {},
     "output_type": "display_data"
    },
    {
     "data": {
      "image/png": "[encoded data removed]"
     },
     "metadata": {},
     "output_type": "display_data"
    }
   ],
   "source": [
    "%preview susie_plot_demo.pdf -s png --dpi 100"
   ]
  },
  {
   "cell_type": "markdown",
   "metadata": {
    "kernel": "SoS"
   },
   "source": [
    "## Bubble plot for estimated effect size"
   ]
  },
  {
   "cell_type": "markdown",
   "metadata": {
    "kernel": "SoS"
   },
   "source": [
    "Effect size will be the color of the bubble:"
   ]
  },
  {
   "cell_type": "code",
   "execution_count": 8,
   "metadata": {
    "kernel": "R"
   },
   "outputs": [
    {
     "data": {
      "text/html": [
       "<ol class=list-inline>\n",
       "\t<li>1001</li>\n",
       "\t<li>5</li>\n",
       "</ol>\n"
      ],
      "text/latex": [
       "\\begin{enumerate*}\n",
       "\\item 1001\n",
       "\\item 5\n",
       "\\end{enumerate*}\n"
      ],
      "text/markdown": [
       "1. 1001\n",
       "2. 5\n",
       "\n",
       "\n"
      ],
      "text/plain": [
       "[1] 1001    5"
      ]
     },
     "metadata": {},
     "output_type": "display_data"
    }
   ],
   "source": [
    "dim(dat$coef[-1,]) # remove intercept"
   ]
  },
  {
   "cell_type": "markdown",
   "metadata": {
    "kernel": "SoS"
   },
   "source": [
    "PIP will be the size of the bubble:"
   ]
  },
  {
   "cell_type": "code",
   "execution_count": 9,
   "metadata": {
    "kernel": "R"
   },
   "outputs": [
    {
     "data": {
      "text/html": [
       "<ol class=list-inline>\n",
       "\t<li>1001</li>\n",
       "\t<li>5</li>\n",
       "</ol>\n"
      ],
      "text/latex": [
       "\\begin{enumerate*}\n",
       "\\item 1001\n",
       "\\item 5\n",
       "\\end{enumerate*}\n"
      ],
      "text/markdown": [
       "1. 1001\n",
       "2. 5\n",
       "\n",
       "\n"
      ],
      "text/plain": [
       "[1] 1001    5"
      ]
     },
     "metadata": {},
     "output_type": "display_data"
    }
   ],
   "source": [
    "variable_lfsr = mmbr::mmbr_get_lfsr(dat, weighted = F)\n",
    "dim(variable_lfsr)"
   ]
  },
  {
   "cell_type": "code",
   "execution_count": 10,
   "metadata": {
    "kernel": "R"
   },
   "outputs": [
    {
     "data": {
      "text/html": [
       "<table>\n",
       "<tbody>\n",
       "\t<tr><td>1.222101e-02</td><td>4.685408e-22</td><td>4.867315e-22</td></tr>\n",
       "\t<tr><td>1.329052e-18</td><td>1.449352e-01</td><td>1.341495e-18</td></tr>\n",
       "\t<tr><td>8.447406e-17</td><td>7.957771e-17</td><td>3.293492e-01</td></tr>\n",
       "\t<tr><td>6.533748e-04</td><td>6.382051e-04</td><td>6.487285e-04</td></tr>\n",
       "\t<tr><td>6.537123e-04</td><td>6.385829e-04</td><td>6.490915e-04</td></tr>\n",
       "\t<tr><td>6.537294e-04</td><td>6.385758e-04</td><td>6.490911e-04</td></tr>\n",
       "\t<tr><td>6.535125e-04</td><td>6.382878e-04</td><td>6.488256e-04</td></tr>\n",
       "\t<tr><td>6.532115e-04</td><td>6.378966e-04</td><td>6.484634e-04</td></tr>\n",
       "\t<tr><td>6.529780e-04</td><td>6.375808e-04</td><td>6.481744e-04</td></tr>\n",
       "\t<tr><td>6.529267e-04</td><td>6.374745e-04</td><td>6.480863e-04</td></tr>\n",
       "</tbody>\n",
       "</table>\n"
      ],
      "text/latex": [
       "\\begin{tabular}{lll}\n",
       "\t 1.222101e-02 & 4.685408e-22 & 4.867315e-22\\\\\n",
       "\t 1.329052e-18 & 1.449352e-01 & 1.341495e-18\\\\\n",
       "\t 8.447406e-17 & 7.957771e-17 & 3.293492e-01\\\\\n",
       "\t 6.533748e-04 & 6.382051e-04 & 6.487285e-04\\\\\n",
       "\t 6.537123e-04 & 6.385829e-04 & 6.490915e-04\\\\\n",
       "\t 6.537294e-04 & 6.385758e-04 & 6.490911e-04\\\\\n",
       "\t 6.535125e-04 & 6.382878e-04 & 6.488256e-04\\\\\n",
       "\t 6.532115e-04 & 6.378966e-04 & 6.484634e-04\\\\\n",
       "\t 6.529780e-04 & 6.375808e-04 & 6.481744e-04\\\\\n",
       "\t 6.529267e-04 & 6.374745e-04 & 6.480863e-04\\\\\n",
       "\\end{tabular}\n"
      ],
      "text/markdown": [
       "\n",
       "| 1.222101e-02 | 4.685408e-22 | 4.867315e-22 | \n",
       "| 1.329052e-18 | 1.449352e-01 | 1.341495e-18 | \n",
       "| 8.447406e-17 | 7.957771e-17 | 3.293492e-01 | \n",
       "| 6.533748e-04 | 6.382051e-04 | 6.487285e-04 | \n",
       "| 6.537123e-04 | 6.385829e-04 | 6.490915e-04 | \n",
       "| 6.537294e-04 | 6.385758e-04 | 6.490911e-04 | \n",
       "| 6.535125e-04 | 6.382878e-04 | 6.488256e-04 | \n",
       "| 6.532115e-04 | 6.378966e-04 | 6.484634e-04 | \n",
       "| 6.529780e-04 | 6.375808e-04 | 6.481744e-04 | \n",
       "| 6.529267e-04 | 6.374745e-04 | 6.480863e-04 | \n",
       "\n",
       "\n"
      ],
      "text/plain": [
       "      [,1]         [,2]         [,3]        \n",
       " [1,] 1.222101e-02 4.685408e-22 4.867315e-22\n",
       " [2,] 1.329052e-18 1.449352e-01 1.341495e-18\n",
       " [3,] 8.447406e-17 7.957771e-17 3.293492e-01\n",
       " [4,] 6.533748e-04 6.382051e-04 6.487285e-04\n",
       " [5,] 6.537123e-04 6.385829e-04 6.490915e-04\n",
       " [6,] 6.537294e-04 6.385758e-04 6.490911e-04\n",
       " [7,] 6.535125e-04 6.382878e-04 6.488256e-04\n",
       " [8,] 6.532115e-04 6.378966e-04 6.484634e-04\n",
       " [9,] 6.529780e-04 6.375808e-04 6.481744e-04\n",
       "[10,] 6.529267e-04 6.374745e-04 6.480863e-04"
      ]
     },
     "metadata": {},
     "output_type": "display_data"
    }
   ],
   "source": [
    "dat$alpha[,c(149,394,786)]"
   ]
  },
  {
   "cell_type": "markdown",
   "metadata": {
    "kernel": "SoS"
   },
   "source": [
    "Now get table of effect size estimates and PIP, for all conditions."
   ]
  },
  {
   "cell_type": "code",
   "execution_count": 11,
   "metadata": {
    "kernel": "R"
   },
   "outputs": [],
   "source": [
    "table = data.frame(matrix(NA, prod(dim(variable_lfsr)), 5))\n",
    "colnames(table) = c('y', 'x', 'effect_size', 'mlog10lfsr', 'cs')"
   ]
  },
  {
   "cell_type": "code",
   "execution_count": 12,
   "metadata": {
    "kernel": "R"
   },
   "outputs": [
    {
     "data": {
      "text/html": [
       "<table>\n",
       "<thead><tr><th scope=col>y</th><th scope=col>x</th><th scope=col>effect_size</th><th scope=col>mlog10lfsr</th><th scope=col>cs</th></tr></thead>\n",
       "<tbody>\n",
       "\t<tr><td>condition 1  </td><td>variable 1   </td><td>-7.276723e-08</td><td>20           </td><td>NA           </td></tr>\n",
       "\t<tr><td>condition 2  </td><td>variable 1   </td><td>-2.049633e-07</td><td>20           </td><td>NA           </td></tr>\n",
       "\t<tr><td>condition 3  </td><td>variable 1   </td><td>-5.576905e-08</td><td>20           </td><td>NA           </td></tr>\n",
       "\t<tr><td>condition 4  </td><td>variable 1   </td><td>-1.468269e-08</td><td>20           </td><td>NA           </td></tr>\n",
       "\t<tr><td>condition 5  </td><td>variable 1   </td><td>-1.410924e-08</td><td>20           </td><td>NA           </td></tr>\n",
       "\t<tr><td>condition 1  </td><td>variable 2   </td><td>-1.476321e-08</td><td>20           </td><td>NA           </td></tr>\n",
       "</tbody>\n",
       "</table>\n"
      ],
      "text/latex": [
       "\\begin{tabular}{r|lllll}\n",
       " y & x & effect\\_size & mlog10lfsr & cs\\\\\n",
       "\\hline\n",
       "\t condition 1   & variable 1    & -7.276723e-08 & 20            & NA           \\\\\n",
       "\t condition 2   & variable 1    & -2.049633e-07 & 20            & NA           \\\\\n",
       "\t condition 3   & variable 1    & -5.576905e-08 & 20            & NA           \\\\\n",
       "\t condition 4   & variable 1    & -1.468269e-08 & 20            & NA           \\\\\n",
       "\t condition 5   & variable 1    & -1.410924e-08 & 20            & NA           \\\\\n",
       "\t condition 1   & variable 2    & -1.476321e-08 & 20            & NA           \\\\\n",
       "\\end{tabular}\n"
      ],
      "text/markdown": [
       "\n",
       "y | x | effect_size | mlog10lfsr | cs | \n",
       "|---|---|---|---|---|---|\n",
       "| condition 1   | variable 1    | -7.276723e-08 | 20            | NA            | \n",
       "| condition 2   | variable 1    | -2.049633e-07 | 20            | NA            | \n",
       "| condition 3   | variable 1    | -5.576905e-08 | 20            | NA            | \n",
       "| condition 4   | variable 1    | -1.468269e-08 | 20            | NA            | \n",
       "| condition 5   | variable 1    | -1.410924e-08 | 20            | NA            | \n",
       "| condition 1   | variable 2    | -1.476321e-08 | 20            | NA            | \n",
       "\n",
       "\n"
      ],
      "text/plain": [
       "  y           x          effect_size   mlog10lfsr cs\n",
       "1 condition 1 variable 1 -7.276723e-08 20         NA\n",
       "2 condition 2 variable 1 -2.049633e-07 20         NA\n",
       "3 condition 3 variable 1 -5.576905e-08 20         NA\n",
       "4 condition 4 variable 1 -1.468269e-08 20         NA\n",
       "5 condition 5 variable 1 -1.410924e-08 20         NA\n",
       "6 condition 1 variable 2 -1.476321e-08 20         NA"
      ]
     },
     "metadata": {},
     "output_type": "display_data"
    }
   ],
   "source": [
    "x_names = paste('variable', 1:nrow(variable_lfsr))\n",
    "y_names = paste('condition', 1:ncol(variable_lfsr))\n",
    "table$y = rep(y_names, length(x_names))\n",
    "table$x = rep(x_names, each = length(y_names))\n",
    "table$effect_size = as.vector(t(dat$coef[-1,]))\n",
    "table$mlog10lfsr = -log10(as.vector(t(variable_lfsr)))\n",
    "head(table)"
   ]
  },
  {
   "cell_type": "markdown",
   "metadata": {
    "kernel": "SoS"
   },
   "source": [
    "Now add CS to this table."
   ]
  },
  {
   "cell_type": "code",
   "execution_count": 13,
   "metadata": {
    "kernel": "R"
   },
   "outputs": [],
   "source": [
    "j = 1\n",
    "for (i in dat$sets$cs_index) {\n",
    "    variables = x_names[dat$sets$cs[[j]]]\n",
    "    table[which(table$x %in% variables),]$cs = i\n",
    "    j = j + 1\n",
    "}\n",
    "table = table[which(!is.na(table$cs)),]"
   ]
  },
  {
   "cell_type": "code",
   "execution_count": 14,
   "metadata": {
    "kernel": "R"
   },
   "outputs": [
    {
     "data": {
      "text/html": [
       "<ol class=list-inline>\n",
       "\t<li>180</li>\n",
       "\t<li>5</li>\n",
       "</ol>\n"
      ],
      "text/latex": [
       "\\begin{enumerate*}\n",
       "\\item 180\n",
       "\\item 5\n",
       "\\end{enumerate*}\n"
      ],
      "text/markdown": [
       "1. 180\n",
       "2. 5\n",
       "\n",
       "\n"
      ],
      "text/plain": [
       "[1] 180   5"
      ]
     },
     "metadata": {},
     "output_type": "display_data"
    }
   ],
   "source": [
    "dim(table)"
   ]
  },
  {
   "cell_type": "markdown",
   "metadata": {
    "kernel": "R"
   },
   "source": [
    "And get colors for x-axis by CS,"
   ]
  },
  {
   "cell_type": "code",
   "execution_count": 15,
   "metadata": {
    "kernel": "R"
   },
   "outputs": [],
   "source": [
    "xtable = unique(cbind(table$x, table$cs))"
   ]
  },
  {
   "cell_type": "code",
   "execution_count": 16,
   "metadata": {
    "kernel": "R"
   },
   "outputs": [],
   "source": [
    "colors = rep('black', nrow(xtable))\n",
    "for (i in unique(xtable[,2])) {\n",
    "    colors[which(xtable[,2] == i)] = as.integer(i) + 2\n",
    "}"
   ]
  },
  {
   "cell_type": "code",
   "execution_count": 17,
   "metadata": {
    "kernel": "R"
   },
   "outputs": [
    {
     "data": {
      "text/html": [
       "<strong>png:</strong> 2"
      ],
      "text/latex": [
       "\\textbf{png:} 2"
      ],
      "text/markdown": [
       "**png:** 2"
      ],
      "text/plain": [
       "png \n",
       "  2 "
      ]
     },
     "metadata": {},
     "output_type": "display_data"
    }
   ],
   "source": [
    "library(ggplot2)\n",
    "pdf('bubble_demo.pdf', width = length(unique(table$x)) * 0.5, height = length(unique(table$y)) * 0.9)\n",
    "p = ggplot(table) + \n",
    "    geom_point(aes(x = x, y = y, colour = effect_size , size = mlog10lfsr)) +\n",
    "    scale_x_discrete(limits = unique(table$x)) + \n",
    "    scale_y_discrete(limits = unique(table$y)) + \n",
    "    scale_color_gradient2(midpoint = 0, limit = c(-max(abs(table$effect_size)), max(abs(table$effect_size))), low=\"#022968\", mid=\"white\", high=\"#800000\", space=\"Lab\") + \n",
    "    labs(size=\"-log10(lfsr)\", colour=\"Effect size\") + \n",
    "    theme_minimal() + theme(text = element_text(face = \"bold\", size = 14), panel.grid = element_blank(), \n",
    "        axis.text.x = element_text(angle = 45, vjust = 1, hjust = 1, size = 15, color = colors),\n",
    "        axis.text.y = element_text(size = 15, color = \"black\"),\n",
    "        axis.title.x = element_blank(), \n",
    "        axis.title.y = element_blank())\n",
    "print(p)\n",
    "dev.off()"
   ]
  },
  {
   "cell_type": "code",
   "execution_count": 18,
   "metadata": {
    "kernel": "SoS"
   },
   "outputs": [
    {
     "data": {
      "text/html": [
       "<div class=\"sos_hint\">> bubble_demo.pdf (6.4 KiB):</div>"
      ],
      "text/plain": [
       "\n",
       "> bubble_demo.pdf (6.4 KiB):"
      ]
     },
     "metadata": {},
     "output_type": "display_data"
    },
    {
     "data": {
      "image/png": "[encoded data removed]"
     },
     "metadata": {},
     "output_type": "display_data"
    }
   ],
   "source": [
    "%preview bubble_demo.pdf -s png --dpi 100"
   ]
  }
 ],
 "metadata": {
  "kernelspec": {
   "display_name": "SoS",
   "language": "sos",
   "name": "sos"
  },
  "language_info": {
   "codemirror_mode": "sos",
   "file_extension": ".sos",
   "mimetype": "text/x-sos",
   "name": "sos",
   "nbconvert_exporter": "sos_notebook.converter.SoS_Exporter",
   "pygments_lexer": "sos"
  },
  "sos": {
   "kernels": [
    [
     "R",
     "ir",
     "R",
     "#DCDCDA"
    ],
    [
     "SoS",
     "sos",
     "",
     ""
    ]
   ],
   "panel": {
    "displayed": false,
    "height": 0
   },
   "version": "0.19.1"
  }
 },
 "nbformat": 4,
 "nbformat_minor": 2
}
