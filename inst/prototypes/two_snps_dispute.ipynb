{
 "cells": [
  {
   "cell_type": "markdown",
   "metadata": {
    "kernel": "SoS"
   },
   "source": [
    "# Proof of concept: the Two-SNP example\n",
    "\n",
    "Here I pick up a particular data-set and make a very specific simulation case:\n",
    "\n",
    "1. In data I find SNPs with -0.8 correlations\n",
    "2. I then simulate for one SNP to be associated with 3 phenotypes, and the other to be associated with the rest, both with fixed positive effect size\n",
    "\n",
    "[See here](https://github.com/stephenslab/gtexresults/blob/master/workflows/2SNP.ipynb) for motivation of the analysis."
   ]
  },
  {
   "cell_type": "code",
   "execution_count": 1,
   "metadata": {
    "kernel": "SoS"
   },
   "outputs": [
    {
     "name": "stdout",
     "output_type": "stream",
     "text": [
      "/home/gaow/Documents/TempDir/13-May-2019"
     ]
    }
   ],
   "source": [
    "%cd /home/gaow/tmp/13-May-2019"
   ]
  },
  {
   "cell_type": "markdown",
   "metadata": {
    "kernel": "SoS"
   },
   "source": [
    "## Find negatively correlation SNPs"
   ]
  },
  {
   "cell_type": "code",
   "execution_count": 2,
   "metadata": {
    "kernel": "R"
   },
   "outputs": [],
   "source": [
    "genotype = readRDS('Multi_Tissues.ENSG00000145214.RDS')$X"
   ]
  },
  {
   "cell_type": "code",
   "execution_count": 3,
   "metadata": {
    "kernel": "R"
   },
   "outputs": [],
   "source": [
    "ld = cor(genotype)"
   ]
  },
  {
   "cell_type": "code",
   "execution_count": 4,
   "metadata": {
    "kernel": "R"
   },
   "outputs": [],
   "source": [
    "idx = which(ld > -0.855 & ld < -0.85, arr.ind = T)"
   ]
  },
  {
   "cell_type": "code",
   "execution_count": 5,
   "metadata": {
    "kernel": "R"
   },
   "outputs": [
    {
     "data": {
      "text/html": [
       "<table>\n",
       "<caption>A matrix: 6 × 2 of type int</caption>\n",
       "<thead>\n",
       "\t<tr><th></th><th scope=col>row</th><th scope=col>col</th></tr>\n",
       "</thead>\n",
       "<tbody>\n",
       "\t<tr><th scope=row>chr4_173807_A_G_b38</th><td>354</td><td>184</td></tr>\n",
       "\t<tr><th scope=row>chr4_205767_C_CA_b38</th><td>454</td><td>184</td></tr>\n",
       "\t<tr><th scope=row>chr4_205769_C_T_b38</th><td>455</td><td>184</td></tr>\n",
       "\t<tr><th scope=row>chr4_196264_A_G_b38</th><td>417</td><td>233</td></tr>\n",
       "\t<tr><th scope=row>chr4_196753_C_T_b38</th><td>420</td><td>266</td></tr>\n",
       "\t<tr><th scope=row>chr4_199265_C_G_b38</th><td>427</td><td>293</td></tr>\n",
       "</tbody>\n",
       "</table>\n"
      ],
      "text/latex": [
       "A matrix: 6 × 2 of type int\n",
       "\\begin{tabular}{r|ll}\n",
       "  & row & col\\\\\n",
       "\\hline\n",
       "\tchr4\\_173807\\_A\\_G\\_b38 & 354 & 184\\\\\n",
       "\tchr4\\_205767\\_C\\_CA\\_b38 & 454 & 184\\\\\n",
       "\tchr4\\_205769\\_C\\_T\\_b38 & 455 & 184\\\\\n",
       "\tchr4\\_196264\\_A\\_G\\_b38 & 417 & 233\\\\\n",
       "\tchr4\\_196753\\_C\\_T\\_b38 & 420 & 266\\\\\n",
       "\tchr4\\_199265\\_C\\_G\\_b38 & 427 & 293\\\\\n",
       "\\end{tabular}\n"
      ],
      "text/markdown": [
       "\n",
       "A matrix: 6 × 2 of type int\n",
       "\n",
       "| <!--/--> | row | col |\n",
       "|---|---|---|\n",
       "| chr4_173807_A_G_b38 | 354 | 184 |\n",
       "| chr4_205767_C_CA_b38 | 454 | 184 |\n",
       "| chr4_205769_C_T_b38 | 455 | 184 |\n",
       "| chr4_196264_A_G_b38 | 417 | 233 |\n",
       "| chr4_196753_C_T_b38 | 420 | 266 |\n",
       "| chr4_199265_C_G_b38 | 427 | 293 |\n",
       "\n"
      ],
      "text/plain": [
       "                     row col\n",
       "chr4_173807_A_G_b38  354 184\n",
       "chr4_205767_C_CA_b38 454 184\n",
       "chr4_205769_C_T_b38  455 184\n",
       "chr4_196264_A_G_b38  417 233\n",
       "chr4_196753_C_T_b38  420 266\n",
       "chr4_199265_C_G_b38  427 293"
      ]
     },
     "metadata": {},
     "output_type": "display_data"
    }
   ],
   "source": [
    "head(idx)"
   ]
  },
  {
   "cell_type": "markdown",
   "metadata": {
    "kernel": "SoS"
   },
   "source": [
    "So let's check out 184 and 354:"
   ]
  },
  {
   "cell_type": "code",
   "execution_count": 6,
   "metadata": {
    "kernel": "R"
   },
   "outputs": [
    {
     "data": {
      "text/html": [
       "-0.8545869815011"
      ],
      "text/latex": [
       "-0.8545869815011"
      ],
      "text/markdown": [
       "-0.8545869815011"
      ],
      "text/plain": [
       "[1] -0.854587"
      ]
     },
     "metadata": {},
     "output_type": "display_data"
    }
   ],
   "source": [
    "cor(genotype[,184], genotype[,354])"
   ]
  },
  {
   "cell_type": "code",
   "execution_count": 7,
   "metadata": {
    "kernel": "R"
   },
   "outputs": [
    {
     "data": {
      "text/html": [
       "'chr4_112523_C_T_b38'"
      ],
      "text/latex": [
       "'chr4\\_112523\\_C\\_T\\_b38'"
      ],
      "text/markdown": [
       "'chr4_112523_C_T_b38'"
      ],
      "text/plain": [
       "[1] \"chr4_112523_C_T_b38\""
      ]
     },
     "metadata": {},
     "output_type": "display_data"
    }
   ],
   "source": [
    "colnames(genotype)[184]"
   ]
  },
  {
   "cell_type": "code",
   "execution_count": 8,
   "metadata": {
    "kernel": "R"
   },
   "outputs": [
    {
     "data": {
      "text/html": [
       "'chr4_173807_A_G_b38'"
      ],
      "text/latex": [
       "'chr4\\_173807\\_A\\_G\\_b38'"
      ],
      "text/markdown": [
       "'chr4_173807_A_G_b38'"
      ],
      "text/plain": [
       "[1] \"chr4_173807_A_G_b38\""
      ]
     },
     "metadata": {},
     "output_type": "display_data"
    }
   ],
   "source": [
    "colnames(genotype)[354]"
   ]
  },
  {
   "cell_type": "markdown",
   "metadata": {
    "kernel": "SoS"
   },
   "source": [
    "## Simulate multivariate phenotypes"
   ]
  },
  {
   "cell_type": "code",
   "execution_count": 9,
   "metadata": {
    "kernel": "R"
   },
   "outputs": [],
   "source": [
    "P = ncol(genotype)\n",
    "R = 6\n",
    "eff_factor = 1.5"
   ]
  },
  {
   "cell_type": "code",
   "execution_count": 10,
   "metadata": {
    "kernel": "R"
   },
   "outputs": [],
   "source": [
    "set.seed(1)\n",
    "b = matrix(0, P, R)\n",
    "sharing = matrix(0.75, 3, 3)\n",
    "diag(sharing) = 1"
   ]
  },
  {
   "cell_type": "code",
   "execution_count": 11,
   "metadata": {
    "kernel": "R"
   },
   "outputs": [
    {
     "name": "stdout",
     "output_type": "stream",
     "text": [
      "[1] 0.1951948 0.3530102 0.5955379\n",
      "[1] -1.136650 -1.039006 -0.736915\n"
     ]
    }
   ],
   "source": [
    "b[184, 1:3] = abs(MASS::mvrnorm(1, rep(0,3), sharing)) / eff_factor\n",
    "b[354, 4:6] = -abs(MASS::mvrnorm(1, rep(0,3), sharing)) / eff_factor\n",
    "print(b[184, 1:3])\n",
    "print(b[354, 4:6])"
   ]
  },
  {
   "cell_type": "code",
   "execution_count": 12,
   "metadata": {
    "kernel": "R"
   },
   "outputs": [],
   "source": [
    "g = genotype %*% b"
   ]
  },
  {
   "cell_type": "code",
   "execution_count": 13,
   "metadata": {
    "kernel": "R"
   },
   "outputs": [
    {
     "data": {
      "text/html": [
       "<ol class=list-inline>\n",
       "\t<li>0.202253269354167</li>\n",
       "\t<li>0.365775366878507</li>\n",
       "\t<li>0.617073192428342</li>\n",
       "\t<li>1.17053036467497</li>\n",
       "\t<li>1.06997601872598</li>\n",
       "\t<li>0.758880489205929</li>\n",
       "</ol>\n"
      ],
      "text/latex": [
       "\\begin{enumerate*}\n",
       "\\item 0.202253269354167\n",
       "\\item 0.365775366878507\n",
       "\\item 0.617073192428342\n",
       "\\item 1.17053036467497\n",
       "\\item 1.06997601872598\n",
       "\\item 0.758880489205929\n",
       "\\end{enumerate*}\n"
      ],
      "text/markdown": [
       "1. 0.202253269354167\n",
       "2. 0.365775366878507\n",
       "3. 0.617073192428342\n",
       "4. 1.17053036467497\n",
       "5. 1.06997601872598\n",
       "6. 0.758880489205929\n",
       "\n",
       "\n"
      ],
      "text/plain": [
       "[1] 0.2022533 0.3657754 0.6170732 1.1705304 1.0699760 0.7588805"
      ]
     },
     "metadata": {},
     "output_type": "display_data"
    }
   ],
   "source": [
    "apply(g,2,sd) * eff_factor"
   ]
  },
  {
   "cell_type": "code",
   "execution_count": 14,
   "metadata": {
    "kernel": "R"
   },
   "outputs": [],
   "source": [
    "e = MASS::mvrnorm(1, rep(0,R), diag(R) * 1)"
   ]
  },
  {
   "cell_type": "code",
   "execution_count": 15,
   "metadata": {
    "kernel": "R"
   },
   "outputs": [],
   "source": [
    "Y = g + e"
   ]
  },
  {
   "cell_type": "markdown",
   "metadata": {
    "kernel": "SoS"
   },
   "source": [
    "## Prepare MASH mixture prior"
   ]
  },
  {
   "cell_type": "code",
   "execution_count": 16,
   "metadata": {
    "kernel": "R"
   },
   "outputs": [],
   "source": [
    "U1 = matrix(0,R,R)\n",
    "U1[1:3,1:3] = sharing\n",
    "U2 = matrix(0,R,R)\n",
    "U2[4:6,4:6] = sharing\n",
    "Ulist = list(U1=U1, U2=U2)\n",
    "scaling = c(0.5,1) / eff_factor\n",
    "mash_init = mmbr:::MashInitializer$new(Ulist, scaling, alpha = 1)"
   ]
  },
  {
   "cell_type": "markdown",
   "metadata": {
    "kernel": "SoS"
   },
   "source": [
    "## Fit MV-SuSiE"
   ]
  },
  {
   "cell_type": "code",
   "execution_count": 17,
   "metadata": {
    "kernel": "R"
   },
   "outputs": [],
   "source": [
    "res = mmbr::susie(genotype,Y,\n",
    "                  L=10,V=mash_init,\n",
    "                  compute_objective=FALSE)"
   ]
  },
  {
   "cell_type": "code",
   "execution_count": 18,
   "metadata": {
    "kernel": "R"
   },
   "outputs": [],
   "source": [
    "snps = sub(\"_[A-Z]*_[A-Z]*_b38\", \"\", colnames(genotype))"
   ]
  },
  {
   "cell_type": "code",
   "execution_count": 19,
   "metadata": {
    "kernel": "R"
   },
   "outputs": [],
   "source": [
    "rownames(res$coef) = c('intercept', snps)"
   ]
  },
  {
   "cell_type": "markdown",
   "metadata": {
    "kernel": "SoS"
   },
   "source": [
    "## Visualize results"
   ]
  },
  {
   "cell_type": "code",
   "execution_count": 20,
   "metadata": {
    "kernel": "R"
   },
   "outputs": [
    {
     "data": {
      "text/html": [
       "<strong>png:</strong> 2"
      ],
      "text/latex": [
       "\\textbf{png:} 2"
      ],
      "text/markdown": [
       "**png:** 2"
      ],
      "text/plain": [
       "png \n",
       "  2 "
      ]
     },
     "metadata": {},
     "output_type": "display_data"
    }
   ],
   "source": [
    "pdf('susie_plot_toy.pdf', width=8, height=4)\n",
    "susieR::susie_plot(res,y='PIP', main = 'Cross-condition Posterior Inclusion Probability', xlab = 'SNP positions', add_legend = F)\n",
    "dev.off()"
   ]
  },
  {
   "cell_type": "code",
   "execution_count": 21,
   "metadata": {
    "kernel": "R"
   },
   "outputs": [
    {
     "name": "stdout",
     "output_type": "stream",
     "text": [
      "Suggested PDF canvas width: 8 height: 5.4 \n"
     ]
    }
   ],
   "source": [
    "p = mmbr::mmbr_plot(res)"
   ]
  },
  {
   "cell_type": "code",
   "execution_count": 22,
   "metadata": {
    "kernel": "R"
   },
   "outputs": [
    {
     "data": {
      "text/html": [
       "<strong>png:</strong> 2"
      ],
      "text/latex": [
       "\\textbf{png:} 2"
      ],
      "text/markdown": [
       "**png:** 2"
      ],
      "text/plain": [
       "png \n",
       "  2 "
      ]
     },
     "metadata": {},
     "output_type": "display_data"
    }
   ],
   "source": [
    "pdf('mmbr_plot_toy.pdf', width = 8, height = 4)\n",
    "print(p$plot)\n",
    "dev.off()"
   ]
  },
  {
   "cell_type": "code",
   "execution_count": 23,
   "metadata": {
    "kernel": "SoS"
   },
   "outputs": [
    {
     "data": {
      "text/html": [
       "<div class=\"sos_hint\">> susie_plot_toy.pdf (25.8 KiB):</div>"
      ],
      "text/plain": [
       "\n",
       "> susie_plot_toy.pdf (25.8 KiB):"
      ]
     },
     "metadata": {},
     "output_type": "display_data"
    },
    {
     "data": {
      "image/png": "[encoded data removed]"
     },
     "metadata": {},
     "output_type": "display_data"
    }
   ],
   "source": [
    "%preview susie_plot_toy.pdf -s png --dpi 150"
   ]
  },
  {
   "cell_type": "code",
   "execution_count": 25,
   "metadata": {
    "kernel": "SoS"
   },
   "outputs": [
    {
     "data": {
      "text/html": [
       "<div class=\"sos_hint\">> mmbr_plot_toy.pdf (5.6 KiB):</div>"
      ],
      "text/plain": [
       "\n",
       "> mmbr_plot_toy.pdf (5.6 KiB):"
      ]
     },
     "metadata": {},
     "output_type": "display_data"
    },
    {
     "data": {
      "image/png": "[encoded data removed]"
     },
     "metadata": {},
     "output_type": "display_data"
    }
   ],
   "source": [
    "%preview mmbr_plot_toy.pdf -s png --dpi 150"
   ]
  }
 ],
 "metadata": {
  "kernelspec": {
   "display_name": "SoS",
   "language": "sos",
   "name": "sos"
  },
  "language_info": {
   "codemirror_mode": "sos",
   "file_extension": ".sos",
   "mimetype": "text/x-sos",
   "name": "sos",
   "nbconvert_exporter": "sos_notebook.converter.SoS_Exporter",
   "pygments_lexer": "sos"
  },
  "sos": {
   "kernels": [
    [
     "R",
     "ir",
     "R",
     "#DCDCDA"
    ]
   ],
   "version": "0.19.8"
  }
 },
 "nbformat": 4,
 "nbformat_minor": 2
}
