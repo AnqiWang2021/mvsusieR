{
 "cells": [
  {
   "cell_type": "markdown",
   "metadata": {},
   "source": [
    "# Comparing MASH analysis with simple multivariate analysis\n",
    "\n",
    "Previously we showed that even though univariate analysis with degenerated MASH model gives identical results to SuSiE as expected (with non-decreasing ELBO), in multivariate calculations the ELBO does not always non-decreasing."
   ]
  },
  {
   "cell_type": "markdown",
   "metadata": {},
   "source": [
    "To investigate the issue we will 1) further simplify the problem and 2) isolate the problem to posterior calculation versus ELBO calculations and check which part is problematic. The best way to achieve both is to implement a simple Bayesian multivariate regression model with prior $b \\sim MVN(0, U)$ where $U$ is known, instead of using MASH prior for $b$.\n",
    "\n",
    "This feature is now implemented in the [`BayesianMultivariateRegression` class](https://github.com/gaow/mmbr/blob/master/R/bayesian_mulvariate_regression.R) with an interface added to the main function such that the code will be triggered [when prior variance is a matrix](https://github.com/gaow/mmbr/blob/dccc26cfbba0cfd3e6f20b37e06d4db6305b834f/R/main.R#L110)."
   ]
  },
  {
   "cell_type": "markdown",
   "metadata": {},
   "source": [
    "## Test the calculation agree with univariate code"
   ]
  },
  {
   "cell_type": "code",
   "execution_count": 1,
   "metadata": {},
   "outputs": [
    {
     "name": "stderr",
     "output_type": "stream",
     "text": [
      "Loading required package: mashr\n",
      "Loading required package: ashr\n"
     ]
    }
   ],
   "source": [
    "library(mmbr)\n",
    "set.seed(2)\n",
    "L = 5"
   ]
  },
  {
   "cell_type": "code",
   "execution_count": 2,
   "metadata": {},
   "outputs": [],
   "source": [
    "dat = mmbr_sim1(r=1)"
   ]
  },
  {
   "cell_type": "markdown",
   "metadata": {},
   "source": [
    "Run the simulated univariate data with SuSiE,"
   ]
  },
  {
   "cell_type": "code",
   "execution_count": 3,
   "metadata": {},
   "outputs": [
    {
     "data": {
      "text/html": [
       "<ol class=list-inline>\n",
       "\t<li>-429.40495176513</li>\n",
       "\t<li>-409.549300389438</li>\n",
       "\t<li>-407.707739710942</li>\n",
       "\t<li>-407.7058409462</li>\n",
       "\t<li>-407.70583907902</li>\n",
       "</ol>\n"
      ],
      "text/latex": [
       "\\begin{enumerate*}\n",
       "\\item -429.40495176513\n",
       "\\item -409.549300389438\n",
       "\\item -407.707739710942\n",
       "\\item -407.7058409462\n",
       "\\item -407.70583907902\n",
       "\\end{enumerate*}\n"
      ],
      "text/markdown": [
       "1. -429.40495176513\n",
       "2. -409.549300389438\n",
       "3. -407.707739710942\n",
       "4. -407.7058409462\n",
       "5. -407.70583907902\n",
       "\n",
       "\n"
      ],
      "text/plain": [
       "[1] -429.4050 -409.5493 -407.7077 -407.7058 -407.7058"
      ]
     },
     "metadata": {},
     "output_type": "display_data"
    }
   ],
   "source": [
    "res = susieR::susie(dat$X,dat$y,L=L,scaled_prior_variance=0.2,estimate_residual_variance=F,estimate_prior_variance=F)\n",
    "res$elbo"
   ]
  },
  {
   "cell_type": "markdown",
   "metadata": {},
   "source": [
    "Now run it with multivariate simple prior implementation in `mmbr`,"
   ]
  },
  {
   "cell_type": "code",
   "execution_count": 4,
   "metadata": {},
   "outputs": [
    {
     "data": {
      "text/html": [
       "<ol class=list-inline>\n",
       "\t<li>-429.40495176513</li>\n",
       "\t<li>-409.549300389436</li>\n",
       "\t<li>-407.707739710942</li>\n",
       "\t<li>-407.7058409462</li>\n",
       "\t<li>-407.70583907902</li>\n",
       "</ol>\n"
      ],
      "text/latex": [
       "\\begin{enumerate*}\n",
       "\\item -429.40495176513\n",
       "\\item -409.549300389436\n",
       "\\item -407.707739710942\n",
       "\\item -407.7058409462\n",
       "\\item -407.70583907902\n",
       "\\end{enumerate*}\n"
      ],
      "text/markdown": [
       "1. -429.40495176513\n",
       "2. -409.549300389436\n",
       "3. -407.707739710942\n",
       "4. -407.7058409462\n",
       "5. -407.70583907902\n",
       "\n",
       "\n"
      ],
      "text/plain": [
       "[1] -429.4050 -409.5493 -407.7077 -407.7058 -407.7058"
      ]
     },
     "metadata": {},
     "output_type": "display_data"
    }
   ],
   "source": [
    "res = mmbr::susie(dat$X,dat$y,L=L,V=0.2*var(dat$y),compute_objective=T,estimate_residual_variance=F,estimate_prior_variance=F)\n",
    "res$elbo"
   ]
  },
  {
   "cell_type": "markdown",
   "metadata": {},
   "source": [
    "So it is confirmed that this implementation produces identical results as SuSiE runs."
   ]
  },
  {
   "cell_type": "markdown",
   "metadata": {},
   "source": [
    "# Test multivariate analysis"
   ]
  },
  {
   "cell_type": "code",
   "execution_count": 5,
   "metadata": {},
   "outputs": [],
   "source": [
    "set.seed(2)\n",
    "dat = mmbr_sim1(r=5)"
   ]
  },
  {
   "cell_type": "code",
   "execution_count": 7,
   "metadata": {},
   "outputs": [
    {
     "data": {
      "text/html": [
       "<table>\n",
       "<caption>A matrix: 5 × 5 of type dbl</caption>\n",
       "<tbody>\n",
       "\t<tr><td> 1.14068826</td><td>-0.02561830</td><td>-0.19275481</td><td>-0.040421229</td><td>-0.029376381</td></tr>\n",
       "\t<tr><td>-0.02561830</td><td> 1.01088663</td><td> 0.03491952</td><td> 0.018064842</td><td> 0.016833489</td></tr>\n",
       "\t<tr><td>-0.19275481</td><td> 0.03491952</td><td> 1.15215509</td><td>-0.112673234</td><td>-0.063194855</td></tr>\n",
       "\t<tr><td>-0.04042123</td><td> 0.01806484</td><td>-0.11267323</td><td> 0.836044978</td><td> 0.008248383</td></tr>\n",
       "\t<tr><td>-0.02937638</td><td> 0.01683349</td><td>-0.06319485</td><td> 0.008248383</td><td> 0.865937437</td></tr>\n",
       "</tbody>\n",
       "</table>\n"
      ],
      "text/latex": [
       "A matrix: 5 × 5 of type dbl\n",
       "\\begin{tabular}{lllll}\n",
       "\t  1.14068826 & -0.02561830 & -0.19275481 & -0.040421229 & -0.029376381\\\\\n",
       "\t -0.02561830 &  1.01088663 &  0.03491952 &  0.018064842 &  0.016833489\\\\\n",
       "\t -0.19275481 &  0.03491952 &  1.15215509 & -0.112673234 & -0.063194855\\\\\n",
       "\t -0.04042123 &  0.01806484 & -0.11267323 &  0.836044978 &  0.008248383\\\\\n",
       "\t -0.02937638 &  0.01683349 & -0.06319485 &  0.008248383 &  0.865937437\\\\\n",
       "\\end{tabular}\n"
      ],
      "text/markdown": [
       "\n",
       "A matrix: 5 × 5 of type dbl\n",
       "\n",
       "|  1.14068826 | -0.02561830 | -0.19275481 | -0.040421229 | -0.029376381 |\n",
       "| -0.02561830 |  1.01088663 |  0.03491952 |  0.018064842 |  0.016833489 |\n",
       "| -0.19275481 |  0.03491952 |  1.15215509 | -0.112673234 | -0.063194855 |\n",
       "| -0.04042123 |  0.01806484 | -0.11267323 |  0.836044978 |  0.008248383 |\n",
       "| -0.02937638 |  0.01683349 | -0.06319485 |  0.008248383 |  0.865937437 |\n",
       "\n"
      ],
      "text/plain": [
       "     [,1]        [,2]        [,3]        [,4]         [,5]        \n",
       "[1,]  1.14068826 -0.02561830 -0.19275481 -0.040421229 -0.029376381\n",
       "[2,] -0.02561830  1.01088663  0.03491952  0.018064842  0.016833489\n",
       "[3,] -0.19275481  0.03491952  1.15215509 -0.112673234 -0.063194855\n",
       "[4,] -0.04042123  0.01806484 -0.11267323  0.836044978  0.008248383\n",
       "[5,] -0.02937638  0.01683349 -0.06319485  0.008248383  0.865937437"
      ]
     },
     "metadata": {},
     "output_type": "display_data"
    }
   ],
   "source": [
    "dat$V"
   ]
  },
  {
   "cell_type": "code",
   "execution_count": 6,
   "metadata": {},
   "outputs": [
    {
     "data": {
      "text/html": [
       "<ol class=list-inline>\n",
       "\t<li>-2184.07604753707</li>\n",
       "\t<li>-2173.19925417124</li>\n",
       "\t<li>-2169.55143832283</li>\n",
       "\t<li>-2167.74410199547</li>\n",
       "\t<li>-2167.26694357295</li>\n",
       "\t<li>-2167.08740604301</li>\n",
       "\t<li>-2166.51381866454</li>\n",
       "\t<li>-2166.01270008591</li>\n",
       "\t<li>-2164.89405592024</li>\n",
       "\t<li>-2163.63506437887</li>\n",
       "\t<li>-2163.57378303911</li>\n",
       "\t<li>-2163.57265177467</li>\n",
       "\t<li>-2163.57261683874</li>\n",
       "</ol>\n"
      ],
      "text/latex": [
       "\\begin{enumerate*}\n",
       "\\item -2184.07604753707\n",
       "\\item -2173.19925417124\n",
       "\\item -2169.55143832283\n",
       "\\item -2167.74410199547\n",
       "\\item -2167.26694357295\n",
       "\\item -2167.08740604301\n",
       "\\item -2166.51381866454\n",
       "\\item -2166.01270008591\n",
       "\\item -2164.89405592024\n",
       "\\item -2163.63506437887\n",
       "\\item -2163.57378303911\n",
       "\\item -2163.57265177467\n",
       "\\item -2163.57261683874\n",
       "\\end{enumerate*}\n"
      ],
      "text/markdown": [
       "1. -2184.07604753707\n",
       "2. -2173.19925417124\n",
       "3. -2169.55143832283\n",
       "4. -2167.74410199547\n",
       "5. -2167.26694357295\n",
       "6. -2167.08740604301\n",
       "7. -2166.51381866454\n",
       "8. -2166.01270008591\n",
       "9. -2164.89405592024\n",
       "10. -2163.63506437887\n",
       "11. -2163.57378303911\n",
       "12. -2163.57265177467\n",
       "13. -2163.57261683874\n",
       "\n",
       "\n"
      ],
      "text/plain": [
       " [1] -2184.076 -2173.199 -2169.551 -2167.744 -2167.267 -2167.087 -2166.514\n",
       " [8] -2166.013 -2164.894 -2163.635 -2163.574 -2163.573 -2163.573"
      ]
     },
     "metadata": {},
     "output_type": "display_data"
    }
   ],
   "source": [
    "res = mmbr::susie(dat$X,dat$y,L=L,V=dat$V,compute_objective=T,estimate_residual_variance=F,estimate_prior_variance=F)\n",
    "res$elbo"
   ]
  },
  {
   "cell_type": "markdown",
   "metadata": {},
   "source": [
    "Here the ELBO is non-decreasing."
   ]
  }
 ],
 "metadata": {
  "kernelspec": {
   "display_name": "R",
   "language": "R",
   "name": "ir"
  },
  "language_info": {
   "codemirror_mode": "r",
   "file_extension": ".r",
   "mimetype": "text/x-r-source",
   "name": "R",
   "pygments_lexer": "r",
   "version": "3.5.3"
  }
 },
 "nbformat": 4,
 "nbformat_minor": 4
}
