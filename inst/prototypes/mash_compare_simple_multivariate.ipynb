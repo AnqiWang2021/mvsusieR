{
 "cells": [
  {
   "cell_type": "markdown",
   "metadata": {},
   "source": [
    "# Comparing MASH analysis with simple multivariate analysis\n",
    "\n",
    "Previously we showed that even though univariate analysis with degenerated MASH model gives identical results to SuSiE as expected (with non-decreasing ELBO), in multivariate calculations the ELBO is not always non-decreasing. To investigate the issue we will 1) further simplify the problem and 2) isolate the problem to posterior calculation versus ELBO calculations and check which part is problematic. The best way to achieve both is to implement a simple Bayesian multivariate regression model with prior $b \\sim MVN(0, U)$ where $U$ is known, instead of using MASH prior for $b$."
   ]
  },
  {
   "cell_type": "markdown",
   "metadata": {},
   "source": [
    "This feature is now implemented in the [`BayesianMultivariateRegression` class](https://github.com/gaow/mmbr/blob/master/R/bayesian_multivariate_regression.R) with an interface added to the main function such that the code will be triggered [when prior variance is a matrix](https://github.com/gaow/mmbr/blob/dccc26cfbba0cfd3e6f20b37e06d4db6305b834f/R/main.R#L110)."
   ]
  },
  {
   "cell_type": "markdown",
   "metadata": {},
   "source": [
    "## Test the calculation agree with univariate code"
   ]
  },
  {
   "cell_type": "code",
   "execution_count": 1,
   "metadata": {},
   "outputs": [
    {
     "name": "stderr",
     "output_type": "stream",
     "text": [
      "Loading required package: mashr\n",
      "Loading required package: ashr\n"
     ]
    }
   ],
   "source": [
    "library(mmbr)\n",
    "set.seed(2)\n",
    "L = 5"
   ]
  },
  {
   "cell_type": "code",
   "execution_count": 2,
   "metadata": {},
   "outputs": [],
   "source": [
    "dat = mmbr_sim1(r=1)"
   ]
  },
  {
   "cell_type": "markdown",
   "metadata": {},
   "source": [
    "Run the simulated univariate data with SuSiE,"
   ]
  },
  {
   "cell_type": "code",
   "execution_count": 3,
   "metadata": {},
   "outputs": [
    {
     "data": {
      "text/html": [
       "<ol class=list-inline>\n",
       "\t<li>-429.40495176513</li>\n",
       "\t<li>-409.549300389438</li>\n",
       "\t<li>-407.707739710942</li>\n",
       "\t<li>-407.7058409462</li>\n",
       "\t<li>-407.70583907902</li>\n",
       "</ol>\n"
      ],
      "text/latex": [
       "\\begin{enumerate*}\n",
       "\\item -429.40495176513\n",
       "\\item -409.549300389438\n",
       "\\item -407.707739710942\n",
       "\\item -407.7058409462\n",
       "\\item -407.70583907902\n",
       "\\end{enumerate*}\n"
      ],
      "text/markdown": [
       "1. -429.40495176513\n",
       "2. -409.549300389438\n",
       "3. -407.707739710942\n",
       "4. -407.7058409462\n",
       "5. -407.70583907902\n",
       "\n",
       "\n"
      ],
      "text/plain": [
       "[1] -429.4050 -409.5493 -407.7077 -407.7058 -407.7058"
      ]
     },
     "metadata": {},
     "output_type": "display_data"
    }
   ],
   "source": [
    "res = susieR::susie(dat$X,dat$y,L=L,scaled_prior_variance=0.2,estimate_residual_variance=F,estimate_prior_variance=F)\n",
    "res$elbo"
   ]
  },
  {
   "cell_type": "markdown",
   "metadata": {},
   "source": [
    "Now run it with multivariate simple prior implementation in `mmbr`,"
   ]
  },
  {
   "cell_type": "code",
   "execution_count": 4,
   "metadata": {},
   "outputs": [
    {
     "data": {
      "text/html": [
       "<ol class=list-inline>\n",
       "\t<li>-429.40495176513</li>\n",
       "\t<li>-409.549300389436</li>\n",
       "\t<li>-407.707739710942</li>\n",
       "\t<li>-407.7058409462</li>\n",
       "\t<li>-407.70583907902</li>\n",
       "</ol>\n"
      ],
      "text/latex": [
       "\\begin{enumerate*}\n",
       "\\item -429.40495176513\n",
       "\\item -409.549300389436\n",
       "\\item -407.707739710942\n",
       "\\item -407.7058409462\n",
       "\\item -407.70583907902\n",
       "\\end{enumerate*}\n"
      ],
      "text/markdown": [
       "1. -429.40495176513\n",
       "2. -409.549300389436\n",
       "3. -407.707739710942\n",
       "4. -407.7058409462\n",
       "5. -407.70583907902\n",
       "\n",
       "\n"
      ],
      "text/plain": [
       "[1] -429.4050 -409.5493 -407.7077 -407.7058 -407.7058"
      ]
     },
     "metadata": {},
     "output_type": "display_data"
    }
   ],
   "source": [
    "res = mmbr::susie(dat$X,dat$y,L=L,V=0.2*var(dat$y),compute_objective=T,estimate_residual_variance=F,estimate_prior_variance=F)\n",
    "res$elbo"
   ]
  },
  {
   "cell_type": "markdown",
   "metadata": {},
   "source": [
    "So it is confirmed that this implementation produces identical results as SuSiE runs."
   ]
  },
  {
   "cell_type": "markdown",
   "metadata": {},
   "source": [
    "## Test multivariate analysis"
   ]
  },
  {
   "cell_type": "code",
   "execution_count": 5,
   "metadata": {},
   "outputs": [],
   "source": [
    "set.seed(2)\n",
    "dat = mmbr_sim1(r=5)"
   ]
  },
  {
   "cell_type": "code",
   "execution_count": 7,
   "metadata": {},
   "outputs": [
    {
     "data": {
      "text/html": [
       "<ol class=list-inline>\n",
       "\t<li>-2184.07604753707</li>\n",
       "\t<li>-2173.19925417124</li>\n",
       "\t<li>-2169.55143832283</li>\n",
       "\t<li>-2167.74410199547</li>\n",
       "\t<li>-2167.26694357295</li>\n",
       "\t<li>-2167.08740604301</li>\n",
       "\t<li>-2166.51381866454</li>\n",
       "\t<li>-2166.01270008591</li>\n",
       "\t<li>-2164.89405592024</li>\n",
       "\t<li>-2163.63506437887</li>\n",
       "\t<li>-2163.57378303911</li>\n",
       "\t<li>-2163.57265177467</li>\n",
       "\t<li>-2163.57261683874</li>\n",
       "</ol>\n"
      ],
      "text/latex": [
       "\\begin{enumerate*}\n",
       "\\item -2184.07604753707\n",
       "\\item -2173.19925417124\n",
       "\\item -2169.55143832283\n",
       "\\item -2167.74410199547\n",
       "\\item -2167.26694357295\n",
       "\\item -2167.08740604301\n",
       "\\item -2166.51381866454\n",
       "\\item -2166.01270008591\n",
       "\\item -2164.89405592024\n",
       "\\item -2163.63506437887\n",
       "\\item -2163.57378303911\n",
       "\\item -2163.57265177467\n",
       "\\item -2163.57261683874\n",
       "\\end{enumerate*}\n"
      ],
      "text/markdown": [
       "1. -2184.07604753707\n",
       "2. -2173.19925417124\n",
       "3. -2169.55143832283\n",
       "4. -2167.74410199547\n",
       "5. -2167.26694357295\n",
       "6. -2167.08740604301\n",
       "7. -2166.51381866454\n",
       "8. -2166.01270008591\n",
       "9. -2164.89405592024\n",
       "10. -2163.63506437887\n",
       "11. -2163.57378303911\n",
       "12. -2163.57265177467\n",
       "13. -2163.57261683874\n",
       "\n",
       "\n"
      ],
      "text/plain": [
       " [1] -2184.076 -2173.199 -2169.551 -2167.744 -2167.267 -2167.087 -2166.514\n",
       " [8] -2166.013 -2164.894 -2163.635 -2163.574 -2163.573 -2163.573"
      ]
     },
     "metadata": {},
     "output_type": "display_data"
    }
   ],
   "source": [
    "res = mmbr::susie(dat$X,dat$y,L=L,V=dat$V,compute_objective=T,estimate_residual_variance=F,estimate_prior_variance=F)\n",
    "res$elbo"
   ]
  },
  {
   "cell_type": "markdown",
   "metadata": {},
   "source": [
    "Here the ELBO is non-decreasing, as expected."
   ]
  },
  {
   "cell_type": "markdown",
   "metadata": {},
   "source": [
    "## Compare with MASH based model\n",
    "\n",
    "Here to keep things simple we use simulation with 2 conditions, and a diagonal prior covariance. We analyze with simple Bayesian multivariate regression,"
   ]
  },
  {
   "cell_type": "code",
   "execution_count": 8,
   "metadata": {},
   "outputs": [
    {
     "data": {
      "text/html": [
       "<ol class=list-inline>\n",
       "\t<li>-857.279239893128</li>\n",
       "\t<li>-843.553674109714</li>\n",
       "\t<li>-842.721346118149</li>\n",
       "\t<li>-842.37990946604</li>\n",
       "\t<li>-842.346911351756</li>\n",
       "\t<li>-842.341720973642</li>\n",
       "\t<li>-842.340500326427</li>\n",
       "\t<li>-842.340188902999</li>\n",
       "</ol>\n"
      ],
      "text/latex": [
       "\\begin{enumerate*}\n",
       "\\item -857.279239893128\n",
       "\\item -843.553674109714\n",
       "\\item -842.721346118149\n",
       "\\item -842.37990946604\n",
       "\\item -842.346911351756\n",
       "\\item -842.341720973642\n",
       "\\item -842.340500326427\n",
       "\\item -842.340188902999\n",
       "\\end{enumerate*}\n"
      ],
      "text/markdown": [
       "1. -857.279239893128\n",
       "2. -843.553674109714\n",
       "3. -842.721346118149\n",
       "4. -842.37990946604\n",
       "5. -842.346911351756\n",
       "6. -842.341720973642\n",
       "7. -842.340500326427\n",
       "8. -842.340188902999\n",
       "\n",
       "\n"
      ],
      "text/plain": [
       "[1] -857.2792 -843.5537 -842.7213 -842.3799 -842.3469 -842.3417 -842.3405\n",
       "[8] -842.3402"
      ]
     },
     "metadata": {},
     "output_type": "display_data"
    }
   ],
   "source": [
    "set.seed(2)\n",
    "dat = mmbr_sim1(r=2)\n",
    "res = mmbr::susie(dat$X,dat$y,L=L,V=0.2*diag(2),compute_objective=T,estimate_residual_variance=F,estimate_prior_variance=F)\n",
    "res$elbo"
   ]
  },
  {
   "cell_type": "markdown",
   "metadata": {},
   "source": [
    "and with MASH based regression,"
   ]
  },
  {
   "cell_type": "code",
   "execution_count": 9,
   "metadata": {},
   "outputs": [],
   "source": [
    "m_init = mmbr:::MashInitializer$new(list(0.2*diag(2)), 1, prior_weight=1, null_weight=0,alpha=0)"
   ]
  },
  {
   "cell_type": "code",
   "execution_count": 10,
   "metadata": {},
   "outputs": [
    {
     "name": "stderr",
     "output_type": "stream",
     "text": [
      "Warning message in m$get_objective(dump = TRUE):\n",
      "“Objective is not non-decreasing”"
     ]
    },
    {
     "data": {
      "text/html": [
       "<ol class=list-inline>\n",
       "\t<li>-857.944621643872</li>\n",
       "\t<li>-843.166205097434</li>\n",
       "\t<li>-842.357582094323</li>\n",
       "\t<li>-842.329959888325</li>\n",
       "\t<li>-842.324234394174</li>\n",
       "\t<li>-842.324297108138</li>\n",
       "</ol>\n"
      ],
      "text/latex": [
       "\\begin{enumerate*}\n",
       "\\item -857.944621643872\n",
       "\\item -843.166205097434\n",
       "\\item -842.357582094323\n",
       "\\item -842.329959888325\n",
       "\\item -842.324234394174\n",
       "\\item -842.324297108138\n",
       "\\end{enumerate*}\n"
      ],
      "text/markdown": [
       "1. -857.944621643872\n",
       "2. -843.166205097434\n",
       "3. -842.357582094323\n",
       "4. -842.329959888325\n",
       "5. -842.324234394174\n",
       "6. -842.324297108138\n",
       "\n",
       "\n"
      ],
      "text/plain": [
       "[1] -857.9446 -843.1662 -842.3576 -842.3300 -842.3242 -842.3243"
      ]
     },
     "metadata": {},
     "output_type": "display_data"
    }
   ],
   "source": [
    "res = mmbr::susie(dat$X,dat$y,L=L,V=m_init,compute_objective=T,estimate_residual_variance=F,estimate_prior_variance=F)\n",
    "res$elbo"
   ]
  },
  {
   "cell_type": "markdown",
   "metadata": {},
   "source": [
    "So for now, the results do not agree with MASH. But with this mininal example and baseline comparison we should be in a much better position to dig into what's going on."
   ]
  }
 ],
 "metadata": {
  "kernelspec": {
   "display_name": "R",
   "language": "R",
   "name": "ir"
  },
  "language_info": {
   "codemirror_mode": "r",
   "file_extension": ".r",
   "mimetype": "text/x-r-source",
   "name": "R",
   "pygments_lexer": "r",
   "version": "3.5.3"
  }
 },
 "nbformat": 4,
 "nbformat_minor": 4
}
