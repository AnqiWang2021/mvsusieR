{
 "cells": [
  {
   "cell_type": "markdown",
   "metadata": {},
   "source": [
    "# Improving calculation of multivariate multiple regression\n",
    "\n",
    "A small prototype for multivariate multiple regression computation assuming fixed residual covariance matrix."
   ]
  },
  {
   "cell_type": "code",
   "execution_count": 64,
   "metadata": {},
   "outputs": [],
   "source": [
    "simulate_multivariate = function(n=1000,p=7000,r=50) {\n",
    "  set.seed(1)\n",
    "  X = matrix(rnorm(n*p,3,4),n,p)\n",
    "  beta = matrix(runif(p*r)>0.5, p, r)\n",
    "  y = X %*% beta + do.call(cbind, lapply(1:r, function(i) rnorm(n)))\n",
    "  X = susieR:::safe_colScale(X)\n",
    "  y = y - apply(y,2,mean)\n",
    "  scaled_prior_variance = 0.2\n",
    "  L = 10\n",
    "  return(list(X=X,y=y, d=diag(t(X)%*%X), n=n,p=p,r=r,V=scaled_prior_variance * cov(y),b=beta,L=L))\n",
    "}\n",
    "data = simulate_multivariate()"
   ]
  },
  {
   "cell_type": "markdown",
   "metadata": {},
   "source": [
    "Here we do not use an existing R routine because `lm` is very slow (even using `.lm.fit` compared to providing pre-computed `d` as done below). \n",
    "\n"
   ]
  },
  {
   "cell_type": "code",
   "execution_count": 65,
   "metadata": {},
   "outputs": [],
   "source": [
    "method_1 = function(d,X,y,residual_covar,p) {\n",
    "    XtY=t(X)%*%y\n",
    "    bhat = diag(1/d) %*% XtY\n",
    "    s2 = diag(residual_covar)\n",
    "    sbhat = sqrt(do.call(rbind, lapply(1:p, function(j) s2 / d[j])))\n",
    "    return(list(b=bhat,s=sbhat))\n",
    "}"
   ]
  },
  {
   "cell_type": "code",
   "execution_count": 66,
   "metadata": {},
   "outputs": [],
   "source": [
    "method = method_1"
   ]
  },
  {
   "cell_type": "code",
   "execution_count": 67,
   "metadata": {},
   "outputs": [],
   "source": [
    "res = with(data, method(d,X,y,diag(r),p))"
   ]
  },
  {
   "cell_type": "code",
   "execution_count": null,
   "metadata": {},
   "outputs": [],
   "source": [
    "The speed is decent but the code seems ugly. Must be a more elegant matrix representation (and hopefully faster)?"
   ]
  }
 ],
 "metadata": {
  "kernelspec": {
   "display_name": "R",
   "language": "R",
   "name": "ir"
  },
  "language_info": {
   "codemirror_mode": "r",
   "file_extension": ".r",
   "mimetype": "text/x-r-source",
   "name": "R",
   "pygments_lexer": "r",
   "version": "3.4.4"
  }
 },
 "nbformat": 4,
 "nbformat_minor": 2
}
